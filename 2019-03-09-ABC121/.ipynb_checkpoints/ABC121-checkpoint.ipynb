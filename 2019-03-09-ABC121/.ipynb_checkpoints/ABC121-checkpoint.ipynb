{
 "cells": [
  {
   "cell_type": "markdown",
   "metadata": {
    "collapsed": true
   },
   "source": [
    "### AtCoder Beginner Contest 121\n",
    "#### https://atcoder.jp/contests/abc121"
   ]
  },
  {
   "cell_type": "code",
   "execution_count": 1,
   "metadata": {},
   "outputs": [
    {
     "name": "stdout",
     "output_type": "stream",
     "text": [
      "3 2\n",
      "2 1\n",
      "1\n"
     ]
    }
   ],
   "source": [
    "# A\n",
    "H, W = map(int, input().split())\n",
    "h, w = map(int, input().split())\n",
    "print((H-h)*(W-w))"
   ]
  },
  {
   "cell_type": "code",
   "execution_count": null,
   "metadata": {},
   "outputs": [],
   "source": [
    "# B\n",
    "n, m, c = map(int, input().split())\n",
    "b = list(map(int, input().split()))\n",
    "ans = 0\n",
    "for i in range(n):\n",
    "    a = list(map(int, input().split()))\n",
    "    s = 0\n",
    "    for j in range(m):\n",
    "        s += a[j]*b[j]\n",
    "    s += c\n",
    "    if s > 0:\n",
    "        ans += 1\n",
    "print(ans)"
   ]
  },
  {
   "cell_type": "code",
   "execution_count": null,
   "metadata": {},
   "outputs": [],
   "source": [
    "# C\n",
    "n, m = map(int, input().split())\n",
    "ab = [[int(i) for i in input().split()] for i in range(n)]\n",
    "ab.sort(key=lambda x: x[0])\n",
    "index = 0\n",
    "ans = 0\n",
    "while m > 0 and index <= n:\n",
    "    if ab[index][1] <= m:\n",
    "        ans += ab[index][0] * ab[index][1]\n",
    "        m -= ab[index][1]\n",
    "    else:\n",
    "        ans += ab[index][0] * m\n",
    "        m = 0\n",
    "    index += 1\n",
    "print(ans)"
   ]
  },
  {
   "cell_type": "code",
   "execution_count": 54,
   "metadata": {},
   "outputs": [
    {
     "name": "stdout",
     "output_type": "stream",
     "text": [
      "123 456\n",
      "457\n"
     ]
    }
   ],
   "source": [
    "a, b = map(int, input().split())\n",
    "def xor(a,b):\n",
    "    ans = ((b - a) % 2) + b\n",
    "    return ans\n",
    "print(xor(a,b))"
   ]
  },
  {
   "cell_type": "code",
   "execution_count": null,
   "metadata": {
    "collapsed": true
   },
   "outputs": [],
   "source": [
    "def f(x):\n",
    "    if x % 4 == 0:\n",
    "        return x\n",
    "    elif x % 4 == 1:\n",
    "        return x ^ (x-1)\n",
    "    elif x % 4 == 2:\n",
    "        return x ^ (x-1) ^ (x-2)\n",
    "    else:\n",
    "        return 0\n",
    "A, B = map(int, input().split())\n",
    "i = 0\n",
    "a = f(A-1)\n",
    "b = f(B)\n",
    "print(a^b)"
   ]
  },
  {
   "cell_type": "code",
   "execution_count": null,
   "metadata": {
    "collapsed": true
   },
   "outputs": [],
   "source": [
    "A, B = list(map(int, input().split()))\n",
    "def get(x):\n",
    "    return [x, 1, x + 1, 0][x % 4]\n",
    "def main():\n",
    "    return get(B) ^ get(A - 1)\n",
    "print(main())"
   ]
  },
  {
   "cell_type": "markdown",
   "metadata": {},
   "source": [
    "##### AtCoderで使ってる入力メソッド(Python3)\n",
    "###### https://qiita.com/fmhr/items/77fc453e2fb1bc02e392\n",
    "\n",
    "##### 1行に複数の数字\n",
    "```\n",
    "2 4 5 7\n",
    "a, b, c, d = map(int, input().split())\n",
    "a=2 b=4 c=5 d =7\n",
    "\n",
    "a = list(map(int, input().split()))\n",
    "# a = [2, 4, 5, 6]\n",
    "```\n",
    "##### 複数行の数字をリストに\n",
    "```\n",
    "3 # n Aの数\n",
    "22 # A1 \n",
    "14 # A2\n",
    "45 # A3\n",
    "\n",
    "n = int(input()) \n",
    "t = [int(input()) for i in range(n)] \n",
    "# t = [22, 14, 45]\n",
    "\n",
    "N = int(input())\n",
    "t = [0] * N\n",
    "x = [0] * N\n",
    "y = [0] * N\n",
    "for i in range(N):\n",
    "    t[i], x[i], y[i] = map(int, input().split())\n",
    "```\n",
    "##### 複数行に複数の数字があるとき\n",
    "```\n",
    "4\n",
    "22 1 45\n",
    "25 53 110\n",
    "4 444 555\n",
    "2 5 0\n",
    "\n",
    "n = int(input())\n",
    "e = [[int(i) for i in input().split()] for i in range(n)] \n",
    "#  [[22, 1, 45], [25, 53, 110], [4, 444, 555], [2, 5, 0]]\n",
    "```"
   ]
  },
  {
   "cell_type": "code",
   "execution_count": null,
   "metadata": {
    "collapsed": true
   },
   "outputs": [],
   "source": []
  },
  {
   "cell_type": "code",
   "execution_count": null,
   "metadata": {
    "collapsed": true
   },
   "outputs": [],
   "source": []
  }
 ],
 "metadata": {
  "kernelspec": {
   "display_name": "Python 3",
   "language": "python",
   "name": "python3"
  },
  "language_info": {
   "codemirror_mode": {
    "name": "ipython",
    "version": 3
   },
   "file_extension": ".py",
   "mimetype": "text/x-python",
   "name": "python",
   "nbconvert_exporter": "python",
   "pygments_lexer": "ipython3",
   "version": "3.6.3"
  }
 },
 "nbformat": 4,
 "nbformat_minor": 2
}
