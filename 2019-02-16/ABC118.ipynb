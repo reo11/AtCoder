{
 "cells": [
  {
   "cell_type": "markdown",
   "metadata": {
    "collapsed": true
   },
   "source": [
    "### AtCoder Beginner Contest 118\n",
    "#### https://atcoder.jp/contests/abc118"
   ]
  },
  {
   "cell_type": "code",
   "execution_count": null,
   "metadata": {
    "collapsed": true
   },
   "outputs": [],
   "source": [
    "# test_input Atcoder_URL"
   ]
  },
  {
   "cell_type": "code",
   "execution_count": 3,
   "metadata": {},
   "outputs": [
    {
     "name": "stdout",
     "output_type": "stream",
     "text": [
      "... NO TEST ...\n",
      "8 20\n",
      "12\n"
     ]
    }
   ],
   "source": [
    "%%test_input https://atcoder.jp/contests/abc118/tasks/abc118_a\n",
    "# A\n",
    "A, B = map(int, input().split())\n",
    "\n",
    "output = B-A\n",
    "\n",
    "if B%A == 0:\n",
    "    output = A+B\n",
    "\n",
    "print(output)\n",
    "\n"
   ]
  },
  {
   "cell_type": "code",
   "execution_count": 8,
   "metadata": {},
   "outputs": [
    {
     "name": "stdout",
     "output_type": "stream",
     "text": [
      "... NO TEST ...\n",
      "5 5\n",
      "4 2 3 4 5\n",
      "4 1 3 4 5\n",
      "4 1 2 4 5\n",
      "4 1 2 3 5\n",
      "4 1 2 3 4 \n",
      "0\n"
     ]
    }
   ],
   "source": [
    "%%test_input https://atcoder.jp/contests/abc118/tasks/abc118_b\n",
    "# B\n",
    "n, m = map(int, input().split())\n",
    "\n",
    "k = [[int(i) for i in input().split()] for i in range(n)]\n",
    "v = [0]*31\n",
    "for i in range(n):\n",
    "    for j in range(k[i][0]):\n",
    "        v[k[i][j + 1]] += 1\n",
    "count = 0\n",
    "for i in range(len(v)):\n",
    "    if v[i] == n:\n",
    "        count += 1\n",
    "print(count)"
   ]
  },
  {
   "cell_type": "code",
   "execution_count": 38,
   "metadata": {},
   "outputs": [
    {
     "name": "stdout",
     "output_type": "stream",
     "text": [
      "... NO TEST ...\n",
      "4\n",
      "5 13 8 1000000000\n",
      "1\n"
     ]
    }
   ],
   "source": [
    "%%test_input https://atcoder.jp/contests/abc118/tasks/abc118_c\n",
    "# C\n",
    "n = int(input()) \n",
    "a = list(map(int, input().split()))\n",
    "\n",
    "if len(set(a)) == 1:\n",
    "    print(a[0])\n",
    "else:\n",
    "    if sum(a) % min(a) == 0:\n",
    "        result = min(a)\n",
    "    else:\n",
    "        result = (sum(a) % min(a)) - (max(a)%min(a))\n",
    "    print(result)"
   ]
  },
  {
   "cell_type": "code",
   "execution_count": 47,
   "metadata": {},
   "outputs": [
    {
     "name": "stdout",
     "output_type": "stream",
     "text": [
      "... NO TEST ...\n",
      "3\n",
      "100 100 100\n",
      "100\n"
     ]
    }
   ],
   "source": [
    "%%test_input https://atcoder.jp/contests/abc118/tasks/abc118_c\n",
    "# C\n",
    "n = int(input()) \n",
    "a = list(map(int, input().split()))\n",
    "\n",
    "from functools import reduce\n",
    "def gcd(a,b):\n",
    "    if a<b:a,b=b,a\n",
    "    if a%b==0:return b\n",
    "    return gcd(b,a%b)\n",
    "\n",
    "gcd=reduce(gcd,a)\n",
    "print(gcd)"
   ]
  },
  {
   "cell_type": "code",
   "execution_count": 6,
   "metadata": {},
   "outputs": [
    {
     "name": "stdout",
     "output_type": "stream",
     "text": [
      "... NO TEST ...\n",
      "10 1\n",
      "1\n",
      "[[1, 2], [7, 3], [4, 4], [2, 5], [3, 5], [5, 5], [6, 6], [9, 6], [8, 7]]\n",
      "11111\n"
     ]
    }
   ],
   "source": [
    "%%test_input https://atcoder.jp/contests/abc118/tasks/abc118_d\n",
    "# D\n",
    "n, m = map(int, input().split())\n",
    "a = list(map(int, input().split()))\n",
    "match_list = [[1,2],[2,5],[3,5],[4,4],[5,5],[6,6],[7,3],[8,7],[9,6]]\n",
    "use_list = []\n",
    "# for i in match_list:\n",
    "#     if i[0] in a:\n",
    "#         use_list.append(i)\n",
    "use_list = match_list\n",
    "use_list.sort(key=lambda x:x[1])\n",
    "print(use_list)\n",
    "ans_list = []\n",
    "num = n // use_list[0][1]\n",
    "rev_mode = False\n",
    "while n > 0:\n",
    "    if n % use_list[0][1] == n or rev_mode:\n",
    "        rev_mode = True\n",
    "        n += use_list[0][1]\n",
    "        ans_list.pop(0)\n",
    "        \n",
    "    elif n >= use_list[0][1]:\n",
    "        n -= use_list[0][1]\n",
    "        ans_list.append(str(use_list[0][0]))\n",
    "\n",
    "ans_list.sort()\n",
    "ans_list.reverse()\n",
    "print(''.join(map(str, ans_list)))"
   ]
  },
  {
   "cell_type": "code",
   "execution_count": 50,
   "metadata": {},
   "outputs": [
    {
     "name": "stdout",
     "output_type": "stream",
     "text": [
      "1 0.5\n",
      "2 0.4\n",
      "3 0.6\n",
      "4 1.0\n",
      "5 1.0\n",
      "6 1.0\n",
      "7 2.3333333333333335\n",
      "8 1.1428571428571428\n",
      "9 1.5\n"
     ]
    }
   ],
   "source": [
    "match_list = [[1,2],[2,5],[3,5],[4,4],[5,5],[6,6],[7,3],[8,7],[9,6]]\n",
    "\n",
    "for i in range(len(match_list)):\n",
    "    print(\"{} {}\".format(i+1, match_list[i][0]/match_list[i][1]))"
   ]
  },
  {
   "cell_type": "code",
   "execution_count": 7,
   "metadata": {},
   "outputs": [
    {
     "name": "stdout",
     "output_type": "stream",
     "text": [
      "... test case 0 ...\n",
      "<<< 20 4\n",
      "<<< 3 7 8 4\n",
      "777773\n",
      "... test case 1 ...\n",
      "<<< 101 9\n",
      "<<< 9 8 7 6 5 4 3 2 1\n",
      "71111111111111111111111111111111111111111111111111\n",
      "... test case 2 ...\n",
      "<<< 15 3\n",
      "<<< 5 4 6\n",
      "654\n",
      "\n",
      "========== Report ==========\n",
      "test 0 :       True\n",
      "test 1 :       True\n",
      "test 2 :       True\n"
     ]
    }
   ],
   "source": [
    "%%test_input https://atcoder.jp/contests/abc118/tasks/abc118_d\n",
    "# D\n",
    "n,m = map(int, input().split())\n",
    "b = [0,2,5,5,4,5,6,3,7,6]\n",
    "a = [0]+list(map(int, input().split()))\n",
    "f = [-1]*10010\n",
    "f[0] = 0\n",
    "for i in range(1,n+1):\n",
    "    for j in range(1,m+1):\n",
    "        x = a[j]\n",
    "        if(i-b[x]<0):\n",
    "            continue\n",
    "        f[i] = max(f[i],f[i-b[x]]*10 + x)\n",
    "print(f[n])"
   ]
  },
  {
   "cell_type": "code",
   "execution_count": 18,
   "metadata": {},
   "outputs": [
    {
     "data": {
      "text/plain": [
       "0"
      ]
     },
     "execution_count": 18,
     "metadata": {},
     "output_type": "execute_result"
    }
   ],
   "source": [
    "\n"
   ]
  },
  {
   "cell_type": "code",
   "execution_count": null,
   "metadata": {
    "collapsed": true
   },
   "outputs": [],
   "source": []
  },
  {
   "cell_type": "markdown",
   "metadata": {},
   "source": [
    "#### tester\n",
    "```\n",
    "test_input Atcoder_URL\n",
    "```\n",
    "#### input\n",
    "##### AtCoderで使ってる入力メソッド(Python3)\n",
    "###### https://qiita.com/fmhr/items/77fc453e2fb1bc02e392\n",
    "\n",
    "##### 1行に複数の数字\n",
    "```\n",
    "2 4 5 7\n",
    "a, b, c, d = map(int, input().split())\n",
    "a=2 b=4 c=5 d =7\n",
    "\n",
    "a = list(map(int, input().split()))\n",
    "# a = [2, 4, 5, 6]\n",
    "```\n",
    "##### 複数行の数字をリストに\n",
    "```\n",
    "3 # n Aの数\n",
    "22 # A1 \n",
    "14 # A2\n",
    "45 # A3\n",
    "\n",
    "n = int(input()) \n",
    "t = [int(input()) for i in range(n)] \n",
    "# t = [22, 14, 45]\n",
    "\n",
    "N = int(input())\n",
    "t = [0] * N\n",
    "x = [0] * N\n",
    "y = [0] * N\n",
    "for i in range(N):\n",
    "    t[i], x[i], y[i] = map(int, input().split())\n",
    "```\n",
    "##### 複数行に複数の数字があるとき\n",
    "```\n",
    "4\n",
    "22 1 45\n",
    "25 53 110\n",
    "4 444 555\n",
    "2 5 0\n",
    "\n",
    "n = int(input())\n",
    "e = [[int(i) for i in input().split()] for i in range(n)] \n",
    "#  [[22, 1, 45], [25, 53, 110], [4, 444, 555], [2, 5, 0]]\n",
    "```"
   ]
  },
  {
   "cell_type": "code",
   "execution_count": null,
   "metadata": {
    "collapsed": true
   },
   "outputs": [],
   "source": []
  }
 ],
 "metadata": {
  "kernelspec": {
   "display_name": "Python 3",
   "language": "python",
   "name": "python3"
  },
  "language_info": {
   "codemirror_mode": {
    "name": "ipython",
    "version": 3
   },
   "file_extension": ".py",
   "mimetype": "text/x-python",
   "name": "python",
   "nbconvert_exporter": "python",
   "pygments_lexer": "ipython3",
   "version": "3.6.3"
  }
 },
 "nbformat": 4,
 "nbformat_minor": 2
}
