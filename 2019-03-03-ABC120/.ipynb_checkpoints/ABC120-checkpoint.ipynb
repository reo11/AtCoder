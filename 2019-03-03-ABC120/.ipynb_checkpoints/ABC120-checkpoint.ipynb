{
 "cells": [
  {
   "cell_type": "markdown",
   "metadata": {
    "collapsed": true
   },
   "source": [
    "### AtCoder Beginner Contest 120\n",
    "#### https://atcoder.jp/contests/abc120"
   ]
  },
  {
   "cell_type": "code",
   "execution_count": 1,
   "metadata": {
    "collapsed": true
   },
   "outputs": [],
   "source": [
    "# A\n",
    "a, b, c = map(int, input().split())\n",
    "\n",
    "if c*a <= b:\n",
    "    print(c)\n",
    "else:\n",
    "    print(b//a)"
   ]
  },
  {
   "cell_type": "code",
   "execution_count": 35,
   "metadata": {},
   "outputs": [
    {
     "name": "stdout",
     "output_type": "stream",
     "text": [
      "3 9 5\n"
     ]
    },
    {
     "ename": "IndexError",
     "evalue": "list index out of range",
     "output_type": "error",
     "traceback": [
      "\u001b[1;31m-----------------------------------------------------------------------\u001b[0m",
      "\u001b[1;31mIndexError\u001b[0m                            Traceback (most recent call last)",
      "\u001b[1;32m<ipython-input-35-d6a1a30ec2fa>\u001b[0m in \u001b[0;36m<module>\u001b[1;34m()\u001b[0m\n\u001b[0;32m     15\u001b[0m \u001b[0mans_list\u001b[0m \u001b[1;33m=\u001b[0m \u001b[0mlist\u001b[0m\u001b[1;33m(\u001b[0m\u001b[0mans\u001b[0m\u001b[1;33m)\u001b[0m\u001b[1;33m\u001b[0m\u001b[0m\n\u001b[0;32m     16\u001b[0m \u001b[0mans_list\u001b[0m\u001b[1;33m.\u001b[0m\u001b[0msort\u001b[0m\u001b[1;33m(\u001b[0m\u001b[1;33m)\u001b[0m\u001b[1;33m\u001b[0m\u001b[0m\n\u001b[1;32m---> 17\u001b[1;33m \u001b[0mprint\u001b[0m\u001b[1;33m(\u001b[0m\u001b[0mans_list\u001b[0m\u001b[1;33m[\u001b[0m\u001b[1;33m-\u001b[0m\u001b[0mk\u001b[0m\u001b[1;33m]\u001b[0m\u001b[1;33m)\u001b[0m\u001b[1;33m\u001b[0m\u001b[0m\n\u001b[0m",
      "\u001b[1;31mIndexError\u001b[0m: list index out of range"
     ]
    }
   ],
   "source": [
    "# B\n",
    "a, b, k = map(int, input().split())\n",
    "l1 = []\n",
    "l2 = []\n",
    "for i in range(1,a+1):\n",
    "    if a % i == 0:\n",
    "        l1.append(i)\n",
    "\n",
    "for i in range(1,b+1):\n",
    "    if b % i == 0:\n",
    "        l2.append(i)\n",
    "s1 = set(l1)\n",
    "s2 = set(l2)\n",
    "ans = s1 & s2\n",
    "ans_list = list(ans)\n",
    "ans_list.sort()\n",
    "print(ans_list[-k])"
   ]
  },
  {
   "cell_type": "code",
   "execution_count": 39,
   "metadata": {},
   "outputs": [
    {
     "name": "stdout",
     "output_type": "stream",
     "text": [
      "0011\n",
      "4\n"
     ]
    }
   ],
   "source": [
    "# C\n",
    "s = str(input())\n",
    "sl = list(s)\n",
    "count0 = sl.count('0')\n",
    "count1 = sl.count('1')\n",
    "\n",
    "print(min(count0, count1) * 2)"
   ]
  },
  {
   "cell_type": "code",
   "execution_count": 40,
   "metadata": {},
   "outputs": [
    {
     "name": "stdout",
     "output_type": "stream",
     "text": [
      "3\n"
     ]
    },
    {
     "ename": "ValueError",
     "evalue": "not enough values to unpack (expected 2, got 1)",
     "output_type": "error",
     "traceback": [
      "\u001b[1;31m-----------------------------------------------------------------------\u001b[0m",
      "\u001b[1;31mValueError\u001b[0m                            Traceback (most recent call last)",
      "\u001b[1;32m<ipython-input-40-d0ec876ff2e7>\u001b[0m in \u001b[0;36m<module>\u001b[1;34m()\u001b[0m\n\u001b[0;32m      1\u001b[0m \u001b[1;31m# D\u001b[0m\u001b[1;33m\u001b[0m\u001b[1;33m\u001b[0m\u001b[0m\n\u001b[1;32m----> 2\u001b[1;33m \u001b[0mn\u001b[0m\u001b[1;33m,\u001b[0m \u001b[0mm\u001b[0m \u001b[1;33m=\u001b[0m \u001b[0mmap\u001b[0m\u001b[1;33m(\u001b[0m\u001b[0mint\u001b[0m\u001b[1;33m,\u001b[0m \u001b[0minput\u001b[0m\u001b[1;33m(\u001b[0m\u001b[1;33m)\u001b[0m\u001b[1;33m.\u001b[0m\u001b[0msplit\u001b[0m\u001b[1;33m(\u001b[0m\u001b[1;33m)\u001b[0m\u001b[1;33m)\u001b[0m\u001b[1;33m\u001b[0m\u001b[0m\n\u001b[0m\u001b[0;32m      3\u001b[0m \u001b[1;33m\u001b[0m\u001b[0m\n\u001b[0;32m      4\u001b[0m \u001b[0mnode\u001b[0m \u001b[1;33m=\u001b[0m \u001b[1;33m[\u001b[0m\u001b[0mn\u001b[0m\u001b[1;33m-\u001b[0m\u001b[1;36m1\u001b[0m\u001b[1;33m]\u001b[0m \u001b[1;33m*\u001b[0m \u001b[0mn\u001b[0m\u001b[1;33m\u001b[0m\u001b[0m\n\u001b[0;32m      5\u001b[0m \u001b[1;33m\u001b[0m\u001b[0m\n",
      "\u001b[1;31mValueError\u001b[0m: not enough values to unpack (expected 2, got 1)"
     ]
    }
   ],
   "source": [
    "# D\n",
    "n, m = map(int, input().split())\n",
    "\n",
    "ans_list = []\n",
    "graph = [[] for i in range(n)]\n",
    "if m == 1:\n",
    "    print((n*(n-1))/2)\n",
    "else:\n",
    "    ans_list.append((n*(n-1))/2)\n",
    "    for i in range(m):\n",
    "        a, b = map(int, input().split())\n",
    "        graph[a-1].append(b)\n",
    "        graph[a-1].extend(graph[b-1])\n",
    "        graph[a-1] = list(set(graph[a-1]))\n",
    "        graph[b-1].append(a)\n",
    "        graph[b-1].extend(graph[a-1])\n",
    "        graph[b-1] = list(set(graph[b-1]))\n",
    "        graph[a-1].append(b)\n",
    "        graph[a-1].extend(graph[b-1])\n",
    "        graph[a-1] = list(set(graph[a-1]))\n",
    "        try:\n",
    "            graph[a-1].remove(a)\n",
    "        except ValueError:\n",
    "            pass\n",
    "        try:\n",
    "            graph[b-1].remove(b)\n",
    "        except ValueError:\n",
    "            pass\n",
    "        print(graph)"
   ]
  },
  {
   "cell_type": "code",
   "execution_count": null,
   "metadata": {
    "collapsed": true
   },
   "outputs": [],
   "source": [
    "# D\n",
    "n, m = map(int, input().split())\n",
    "\n",
    "class UnionFind:\n",
    "    \n",
    "ans_list = []\n",
    "graph = [[] for i in range(n)]\n",
    "if m == 1:\n",
    "    print((n*(n-1))/2)\n",
    "else:\n",
    "    ans_list.append((n*(n-1))/2)\n",
    "    for i in range(m):\n",
    "        a, b = map(int, input().split())\n",
    "        graph[a-1].append(b)\n",
    "        graph[a-1].extend(graph[b-1])\n",
    "        graph[a-1] = list(set(graph[a-1]))\n",
    "        graph[b-1].append(a)\n",
    "        graph[b-1].extend(graph[a-1])\n",
    "        graph[b-1] = list(set(graph[b-1]))\n",
    "        graph[a-1].append(b)\n",
    "        graph[a-1].extend(graph[b-1])\n",
    "        graph[a-1] = list(set(graph[a-1]))\n",
    "        try:\n",
    "            graph[a-1].remove(a)\n",
    "        except ValueError:\n",
    "            pass\n",
    "        try:\n",
    "            graph[b-1].remove(b)\n",
    "        except ValueError:\n",
    "            pass\n",
    "        print(graph)"
   ]
  },
  {
   "cell_type": "markdown",
   "metadata": {},
   "source": [
    "##### AtCoderで使ってる入力メソッド(Python3)\n",
    "###### https://qiita.com/fmhr/items/77fc453e2fb1bc02e392\n",
    "\n",
    "##### 1行に複数の数字\n",
    "```\n",
    "2 4 5 7\n",
    "a, b, c, d = map(int, input().split())\n",
    "a=2 b=4 c=5 d =7\n",
    "\n",
    "a = list(map(int, input().split()))\n",
    "# a = [2, 4, 5, 6]\n",
    "```\n",
    "##### 複数行の数字をリストに\n",
    "```\n",
    "3 # n Aの数\n",
    "22 # A1 \n",
    "14 # A2\n",
    "45 # A3\n",
    "\n",
    "n = int(input()) \n",
    "t = [int(input()) for i in range(n)] \n",
    "# t = [22, 14, 45]\n",
    "\n",
    "N = int(input())\n",
    "t = [0] * N\n",
    "x = [0] * N\n",
    "y = [0] * N\n",
    "for i in range(N):\n",
    "    t[i], x[i], y[i] = map(int, input().split())\n",
    "```\n",
    "##### 複数行に複数の数字があるとき\n",
    "```\n",
    "4\n",
    "22 1 45\n",
    "25 53 110\n",
    "4 444 555\n",
    "2 5 0\n",
    "\n",
    "n = int(input())\n",
    "e = [[int(i) for i in input().split()] for i in range(n)] \n",
    "#  [[22, 1, 45], [25, 53, 110], [4, 444, 555], [2, 5, 0]]\n",
    "```"
   ]
  },
  {
   "cell_type": "code",
   "execution_count": null,
   "metadata": {
    "collapsed": true
   },
   "outputs": [],
   "source": []
  },
  {
   "cell_type": "code",
   "execution_count": null,
   "metadata": {
    "collapsed": true
   },
   "outputs": [],
   "source": []
  }
 ],
 "metadata": {
  "kernelspec": {
   "display_name": "Python 3",
   "language": "python",
   "name": "python3"
  },
  "language_info": {
   "codemirror_mode": {
    "name": "ipython",
    "version": 3
   },
   "file_extension": ".py",
   "mimetype": "text/x-python",
   "name": "python",
   "nbconvert_exporter": "python",
   "pygments_lexer": "ipython3",
   "version": "3.6.3"
  }
 },
 "nbformat": 4,
 "nbformat_minor": 2
}
