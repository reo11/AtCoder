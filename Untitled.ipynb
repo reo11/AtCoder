{
 "cells": [
  {
   "cell_type": "code",
   "execution_count": 1,
   "metadata": {},
   "outputs": [],
   "source": [
    "# https://atcoder.jp/contests/abc099/tasks/abc099_a"
   ]
  },
  {
   "cell_type": "code",
   "execution_count": 3,
   "metadata": {},
   "outputs": [
    {
     "name": "stdout",
     "output_type": "stream",
     "text": [
      "1000\n",
      "ABD\n"
     ]
    }
   ],
   "source": [
    "# A\n",
    "n = int(input())\n",
    "\n",
    "if n >= 1000:\n",
    "    print('ABD')\n",
    "else:\n",
    "    print('ABC')"
   ]
  },
  {
   "cell_type": "code",
   "execution_count": 8,
   "metadata": {},
   "outputs": [
    {
     "name": "stdout",
     "output_type": "stream",
     "text": [
      "54 65\n",
      "1\n"
     ]
    }
   ],
   "source": [
    "# B\n",
    "a, b = map(int, input().split())\n",
    "\n",
    "diff = b - a\n",
    "\n",
    "height_a = diff*((diff-1)/2)\n",
    "print(int(height_a - a))"
   ]
  },
  {
   "cell_type": "code",
   "execution_count": 17,
   "metadata": {},
   "outputs": [
    {
     "name": "stdout",
     "output_type": "stream",
     "text": [
      "127\n",
      "4\n"
     ]
    }
   ],
   "source": [
    "# C\n",
    "n = int(input())\n",
    "max_n = 10 ** 5\n",
    "\n",
    "dp = [int(i) for i in range(max_n + 1)]\n",
    "\n",
    "for i in (6,9):\n",
    "    v = i\n",
    "    while v < max_n:\n",
    "        for j in range(len(dp)):\n",
    "            if j + v < max_n+1:\n",
    "                dp[j+v] = min(dp[j+v],dp[j]+1)\n",
    "        v *= i\n",
    "\n",
    "print(dp[n])\n",
    "    "
   ]
  },
  {
   "cell_type": "code",
   "execution_count": 15,
   "metadata": {},
   "outputs": [
    {
     "name": "stdout",
     "output_type": "stream",
     "text": [
      "127\n",
      "36\n",
      "37\n",
      "4\n"
     ]
    }
   ],
   "source": []
  },
  {
   "cell_type": "code",
   "execution_count": null,
   "metadata": {},
   "outputs": [],
   "source": []
  }
 ],
 "metadata": {
  "kernelspec": {
   "display_name": "Python 3",
   "language": "python",
   "name": "python3"
  },
  "language_info": {
   "codemirror_mode": {
    "name": "ipython",
    "version": 3
   },
   "file_extension": ".py",
   "mimetype": "text/x-python",
   "name": "python",
   "nbconvert_exporter": "python",
   "pygments_lexer": "ipython3",
   "version": "3.6.7"
  }
 },
 "nbformat": 4,
 "nbformat_minor": 2
}
