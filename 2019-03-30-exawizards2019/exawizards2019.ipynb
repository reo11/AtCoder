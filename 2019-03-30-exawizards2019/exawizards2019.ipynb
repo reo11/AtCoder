{
 "cells": [
  {
   "cell_type": "code",
   "execution_count": 2,
   "metadata": {},
   "outputs": [
    {
     "name": "stdout",
     "output_type": "stream",
     "text": [
      "3 4 5\n",
      "No\n"
     ]
    }
   ],
   "source": [
    "# A\n",
    "a, b, c = map(int, input().split())\n",
    "if a == b and b == c:\n",
    "    print('Yes')\n",
    "else:\n",
    "    print('No')"
   ]
  },
  {
   "cell_type": "code",
   "execution_count": 4,
   "metadata": {},
   "outputs": [
    {
     "name": "stdout",
     "output_type": "stream",
     "text": [
      "4\n",
      "BRBR\n",
      "No\n"
     ]
    }
   ],
   "source": [
    "# B\n",
    "n = int(input())\n",
    "s = str(input())\n",
    "r = 0\n",
    "b = 0\n",
    "l = list(s)\n",
    "for c in l:\n",
    "    if c == 'R':\n",
    "        r += 1\n",
    "    else:\n",
    "        b += 1\n",
    "if r > b:\n",
    "    print('Yes')\n",
    "else:\n",
    "    print('No')"
   ]
  },
  {
   "cell_type": "code",
   "execution_count": null,
   "metadata": {},
   "outputs": [],
   "source": [
    "# C\n",
    "n, q = map(int, input().split())\n",
    "s = str(input())\n",
    "l = [[0]*3 for i in range(26)]\n",
    "for i in range(q):\n",
    "    t, d = map(str, input().split())\n",
    "    alphabet = ord(t) - ord('A')\n",
    "    if d == 'R':\n",
    "        l[alphabet][2] += 1\n",
    "    else:\n",
    "        l[alphabet][2] -= 1\n",
    "    if l[alphabet][0] > l[alphabet][2]:\n",
    "        l[alphabet][0] = l[alphabet][2]\n",
    "    elif l[alphabet][1] < l[alphabet][2]:\n",
    "        l[alphabet][1] = l[alphabet][2]\n",
    "ans = n\n",
    "for i in range(26):\n",
    "    ls = s[0:abs(l[i][0])]\n",
    "    if l[i][1] == 0:\n",
    "        rs = ''\n",
    "    else:\n",
    "        rs = s[-abs(l[i][1]):]\n",
    "    count = 0\n",
    "    alphabet = chr(ord('A') + i)\n",
    "    for c in list(ls):\n",
    "        if alphabet == c:\n",
    "            count += 1\n",
    "    for c in list(rs):\n",
    "        if alphabet == c:\n",
    "            count += 1\n",
    "    ans -= count\n",
    "print(ans)"
   ]
  },
  {
   "cell_type": "code",
   "execution_count": null,
   "metadata": {},
   "outputs": [],
   "source": [
    "# C\n",
    "n, q = map(int, input().split())\n",
    "s = str(input())\n",
    "# 探索に時間がかかってしまうのでindexを保存しておく\n",
    "l = [[] for i in range(26)]\n",
    "scount = [1 for i in range(n)]\n",
    "\n",
    "for index, c in enumerate(list(s)):\n",
    "    l[ord(c) - ord('A')].append(index)\n",
    "\n",
    "for i in range(q):\n",
    "    t, d = map(str, input().split())\n",
    "    use_list = l[ord(t) - ord('A')]\n",
    "    if d == 'R':\n",
    "        use_list = l[ord(t) - ord('A')][::-1]\n",
    "    for index in use_list:\n",
    "        if index == 0 and d == 'L':\n",
    "            scount[index] = 0\n",
    "        elif index == n-1 and d == 'R':\n",
    "            scount[index] = 0\n",
    "        else:\n",
    "            if d == 'R':\n",
    "                scount[index+1] += scount[index]\n",
    "            else:\n",
    "                scount[index-1] += scount[index]\n",
    "            scount[index] = 0\n",
    "    print(scount)\n",
    "ans = sum(scount)\n",
    "print(ans)"
   ]
  },
  {
   "cell_type": "code",
   "execution_count": 6,
   "metadata": {},
   "outputs": [
    {
     "data": {
      "text/plain": [
       "1"
      ]
     },
     "execution_count": 6,
     "metadata": {},
     "output_type": "execute_result"
    }
   ],
   "source": [
    "# C\n",
    "n, q = map(int, input().split())\n",
    "s = str(input())\n",
    "ls = []\n",
    "rs = []\n",
    "\n",
    "for i in range(q):\n",
    "    t, d = map(str, input().split())\n",
    "    if d == 'R':\n",
    "        rs.append(t)\n",
    "    if d == 'L':\n",
    "        ls.insert(0, t)\n",
    "#左から消えるものと右から消えるものを全部考える\n",
    "count = 0\n",
    "\n",
    "l_max = len(ls)\n",
    "index = 0\n",
    "for c in list(s):\n",
    "    while not index > l_max-1:\n",
    "        print(ls[index], c)\n",
    "        if ls[index] == c:\n",
    "            count += 1\n",
    "        index += 1\n",
    "    if index > l_max-1:\n",
    "        break\n",
    "\n",
    "r_max = len(rs)\n",
    "index = 0\n",
    "for c in list(s)[::-1]:\n",
    "    while not index > r_max-1:\n",
    "        print(rs[index], c)\n",
    "        if rs[index] == c:\n",
    "            count += 1\n",
    "        index += 1\n",
    "    if index > r_max-1:\n",
    "        break\n",
    "print(count)"
   ]
  },
  {
   "cell_type": "code",
   "execution_count": null,
   "metadata": {},
   "outputs": [],
   "source": []
  },
  {
   "cell_type": "markdown",
   "metadata": {},
   "source": [
    "##### AtCoderで使ってる入力メソッド(Python3)\n",
    "###### https://qiita.com/fmhr/items/77fc453e2fb1bc02e392\n",
    "\n",
    "##### 1行に複数の数字\n",
    "```\n",
    "2 4 5 7\n",
    "a, b, c, d = map(int, input().split())\n",
    "a=2 b=4 c=5 d =7\n",
    "\n",
    "a = list(map(int, input().split()))\n",
    "# a = [2, 4, 5, 6]\n",
    "```\n",
    "##### 複数行の数字をリストに\n",
    "```\n",
    "3 # n Aの数\n",
    "22 # A1 \n",
    "14 # A2\n",
    "45 # A3\n",
    "\n",
    "n = int(input()) \n",
    "t = [int(input()) for i in range(n)] \n",
    "# t = [22, 14, 45]\n",
    "\n",
    "N = int(input())\n",
    "t = [0] * N\n",
    "x = [0] * N\n",
    "y = [0] * N\n",
    "for i in range(N):\n",
    "    t[i], x[i], y[i] = map(int, input().split())\n",
    "```\n",
    "##### 複数行に複数の数字があるとき\n",
    "```\n",
    "4\n",
    "22 1 45\n",
    "25 53 110\n",
    "4 444 555\n",
    "2 5 0\n",
    "\n",
    "n = int(input())\n",
    "e = [[int(i) for i in input().split()] for i in range(n)] \n",
    "#  [[22, 1, 45], [25, 53, 110], [4, 444, 555], [2, 5, 0]]\n",
    "```"
   ]
  },
  {
   "cell_type": "code",
   "execution_count": null,
   "metadata": {},
   "outputs": [],
   "source": []
  }
 ],
 "metadata": {
  "kernelspec": {
   "display_name": "Python 3",
   "language": "python",
   "name": "python3"
  },
  "language_info": {
   "codemirror_mode": {
    "name": "ipython",
    "version": 3
   },
   "file_extension": ".py",
   "mimetype": "text/x-python",
   "name": "python",
   "nbconvert_exporter": "python",
   "pygments_lexer": "ipython3",
   "version": "3.6.7"
  }
 },
 "nbformat": 4,
 "nbformat_minor": 2
}
