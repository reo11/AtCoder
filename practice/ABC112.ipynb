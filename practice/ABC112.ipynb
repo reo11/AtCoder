{
 "cells": [
  {
   "cell_type": "markdown",
   "metadata": {
    "collapsed": true
   },
   "source": [
    "### AtCoder Beginner Contest 112\n",
    "#### https://atcoder.jp/contests/abc112"
   ]
  },
  {
   "cell_type": "code",
   "execution_count": null,
   "metadata": {
    "collapsed": true
   },
   "outputs": [],
   "source": [
    "# test_input Atcoder_URL"
   ]
  },
  {
   "cell_type": "code",
   "execution_count": 2,
   "metadata": {},
   "outputs": [
    {
     "name": "stdout",
     "output_type": "stream",
     "text": [
      "... test case 0 ...\n",
      "<<< 1\n",
      "Hello World\n",
      "... test case 1 ...\n",
      "<<< 2\n",
      "<<< 3\n",
      "<<< 5\n",
      "8\n",
      "\n",
      "========== Report ==========\n",
      "test 0 :       True\n",
      "test 1 :       True\n"
     ]
    }
   ],
   "source": [
    "%%test_input https://atcoder.jp/contests/abc112/tasks/abc112_a\n",
    "# A\n",
    "n = int(input())\n",
    "if n == 1:\n",
    "    print('Hello World')\n",
    "if n == 2:\n",
    "    a = int(input())\n",
    "    b = int(input())\n",
    "    print(a+b)"
   ]
  },
  {
   "cell_type": "code",
   "execution_count": 10,
   "metadata": {},
   "outputs": [
    {
     "name": "stdout",
     "output_type": "stream",
     "text": [
      "... test case 0 ...\n",
      "<<< 3 70\n",
      "<<< 7 60\n",
      "<<< 1 80\n",
      "<<< 4 50\n",
      "4\n",
      "... test case 1 ...\n",
      "<<< 4 3\n",
      "<<< 1 1000\n",
      "<<< 2 4\n",
      "<<< 3 1000\n",
      "<<< 4 500\n",
      "TLE\n",
      "... test case 2 ...\n",
      "<<< 5 9\n",
      "<<< 25 8\n",
      "<<< 5 9\n",
      "<<< 4 10\n",
      "<<< 1000 1000\n",
      "<<< 6 1\n",
      "5\n",
      "\n",
      "========== Report ==========\n",
      "test 0 :       True\n",
      "test 1 :       True\n",
      "test 2 :       True\n"
     ]
    }
   ],
   "source": [
    "%%test_input https://atcoder.jp/contests/abc112/tasks/abc112_b\n",
    "# B\n",
    "N, T = map(int, input().split())\n",
    "c = [0] * N\n",
    "t = [0] * N\n",
    "can_list = []\n",
    "for i in range(N):\n",
    "    c[i], t[i] = map(int, input().split())\n",
    "    if t[i] <= T:\n",
    "        can_list.append(c[i])\n",
    "if len(can_list) == 0:\n",
    "    print('TLE')\n",
    "else:\n",
    "    result = min(can_list)\n",
    "    print(result)"
   ]
  },
  {
   "cell_type": "code",
   "execution_count": null,
   "metadata": {
    "collapsed": true
   },
   "outputs": [],
   "source": [
    "%%test_input \n",
    "# C"
   ]
  },
  {
   "cell_type": "code",
   "execution_count": 12,
   "metadata": {},
   "outputs": [
    {
     "name": "stdout",
     "output_type": "stream",
     "text": [
      "... test case 0 ...\n",
      "<<< 3 14\n",
      "2\n",
      "... test case 1 ...\n",
      "<<< 10 123\n",
      "3\n",
      "... test case 2 ...\n",
      "<<< 100000 1000000000\n",
      "10000\n",
      "\n",
      "========== Report ==========\n",
      "test 0 :       True\n",
      "test 1 :       True\n",
      "test 2 :       True\n"
     ]
    }
   ],
   "source": [
    "%%test_input https://atcoder.jp/contests/abc112/tasks/abc112_d\n",
    "# D\n",
    "def f():\n",
    "  n,m=map(int,input().split())\n",
    "  for i in range(m//n+1)[::-1]:\n",
    "    if m%i==0:return i\n",
    "print(f())"
   ]
  },
  {
   "cell_type": "code",
   "execution_count": null,
   "metadata": {
    "collapsed": true
   },
   "outputs": [],
   "source": [
    "%%test_input \n",
    "# E"
   ]
  },
  {
   "cell_type": "code",
   "execution_count": null,
   "metadata": {
    "collapsed": true
   },
   "outputs": [],
   "source": [
    "%%test_input \n",
    "# F"
   ]
  },
  {
   "cell_type": "code",
   "execution_count": null,
   "metadata": {
    "collapsed": true
   },
   "outputs": [],
   "source": []
  },
  {
   "cell_type": "markdown",
   "metadata": {},
   "source": [
    "#### tester\n",
    "```\n",
    "test_input Atcoder_URL\n",
    "```\n",
    "#### input\n",
    "##### AtCoderで使ってる入力メソッド(Python3)\n",
    "###### https://qiita.com/fmhr/items/77fc453e2fb1bc02e392\n",
    "\n",
    "##### 1行に複数の数字\n",
    "```\n",
    "2 4 5 7\n",
    "a, b, c, d = map(int, input().split())\n",
    "a=2 b=4 c=5 d =7\n",
    "\n",
    "a = list(map(int, input().split()))\n",
    "# a = [2, 4, 5, 6]\n",
    "```\n",
    "##### 複数行の数字をリストに\n",
    "```\n",
    "3 # n Aの数\n",
    "22 # A1 \n",
    "14 # A2\n",
    "45 # A3\n",
    "\n",
    "n = int(input()) \n",
    "t = [int(input()) for i in range(n)] \n",
    "# t = [22, 14, 45]\n",
    "\n",
    "N = int(input())\n",
    "t = [0] * N\n",
    "x = [0] * N\n",
    "y = [0] * N\n",
    "for i in range(N):\n",
    "    t[i], x[i], y[i] = map(int, input().split())\n",
    "```\n",
    "##### 複数行に複数の数字があるとき\n",
    "```\n",
    "4\n",
    "22 1 45\n",
    "25 53 110\n",
    "4 444 555\n",
    "2 5 0\n",
    "\n",
    "n = int(input())\n",
    "e = [[int(i) for i in input().split()] for i in range(n)] \n",
    "#  [[22, 1, 45], [25, 53, 110], [4, 444, 555], [2, 5, 0]]\n",
    "```"
   ]
  },
  {
   "cell_type": "code",
   "execution_count": null,
   "metadata": {
    "collapsed": true
   },
   "outputs": [],
   "source": []
  }
 ],
 "metadata": {
  "kernelspec": {
   "display_name": "Python 3",
   "language": "python",
   "name": "python3"
  },
  "language_info": {
   "codemirror_mode": {
    "name": "ipython",
    "version": 3
   },
   "file_extension": ".py",
   "mimetype": "text/x-python",
   "name": "python",
   "nbconvert_exporter": "python",
   "pygments_lexer": "ipython3",
   "version": "3.6.6"
  }
 },
 "nbformat": 4,
 "nbformat_minor": 2
}
