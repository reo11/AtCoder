{
 "cells": [
  {
   "cell_type": "markdown",
   "metadata": {
    "collapsed": true
   },
   "source": [
    "### AtCoder Beginner Contest 103\n",
    "#### https://atcoder.jp/contests/abc103"
   ]
  },
  {
   "cell_type": "code",
   "execution_count": null,
   "metadata": {
    "collapsed": true
   },
   "outputs": [],
   "source": [
    "# test_input Atcoder_URL"
   ]
  },
  {
   "cell_type": "code",
   "execution_count": 1,
   "metadata": {},
   "outputs": [
    {
     "name": "stdout",
     "output_type": "stream",
     "text": [
      "... test case 0 ...\n",
      "<<< 1 6 3\n",
      "5\n",
      "... test case 1 ...\n",
      "<<< 11 5 5\n",
      "6\n",
      "... test case 2 ...\n",
      "<<< 100 100 100\n",
      "0\n",
      "\n",
      "========== Report ==========\n",
      "test 0 :       True\n",
      "test 1 :       True\n",
      "test 2 :       True\n"
     ]
    }
   ],
   "source": [
    "%%test_input https://atcoder.jp/contests/abc103/tasks/abc103_a\n",
    "# A\n",
    "A = list(map(int, input().split()))\n",
    "print(max(A)-min(A))  "
   ]
  },
  {
   "cell_type": "code",
   "execution_count": 15,
   "metadata": {},
   "outputs": [
    {
     "name": "stdout",
     "output_type": "stream",
     "text": [
      "... test case 0 ...\n",
      "<<< kyoto\n",
      "<<< tokyo\n",
      "Yes\n",
      "... test case 1 ...\n",
      "<<< abc\n",
      "<<< arc\n",
      "No\n",
      "... test case 2 ...\n",
      "<<< aaaaaaaaaaaaaaab\n",
      "<<< aaaaaaaaaaaaaaab\n",
      "Yes\n",
      "\n",
      "========== Report ==========\n",
      "test 0 :       True\n",
      "test 1 :       True\n",
      "test 2 :       True\n"
     ]
    }
   ],
   "source": [
    "%%test_input https://atcoder.jp/contests/abc103/tasks/abc103_b\n",
    "# B\n",
    "S = str(input())\n",
    "T = str(input())\n",
    "result = False\n",
    "\n",
    "for i in range(len(S)):\n",
    "    S = S[-1] + S[:-1]\n",
    "    if S == T:\n",
    "        result = True\n",
    "        break\n",
    "\n",
    "if result:\n",
    "    print('Yes')\n",
    "else:\n",
    "    print('No')"
   ]
  },
  {
   "cell_type": "code",
   "execution_count": 3,
   "metadata": {},
   "outputs": [
    {
     "name": "stdout",
     "output_type": "stream",
     "text": [
      "... test case 0 ...\n",
      "<<< 3\n",
      "<<< 3 4 6\n",
      "10\n",
      "... test case 1 ...\n",
      "<<< 5\n",
      "<<< 7 46 11 20 11\n",
      "90\n",
      "... test case 2 ...\n",
      "<<< 7\n",
      "<<< 994 518 941 851 647 2 581\n",
      "4527\n",
      "\n",
      "========== Report ==========\n",
      "test 0 :       True\n",
      "test 1 :       True\n",
      "test 2 :       True\n"
     ]
    },
    {
     "name": "stderr",
     "output_type": "stream",
     "text": [
      "C:\\Users\\reo\\Anaconda3\\lib\\site-packages\\ipykernel_launcher.py:8: DeprecationWarning: fractions.gcd() is deprecated. Use math.gcd() instead.\n",
      "  \n",
      "C:\\Users\\reo\\Anaconda3\\lib\\site-packages\\ipykernel_launcher.py:8: DeprecationWarning: fractions.gcd() is deprecated. Use math.gcd() instead.\n",
      "  \n",
      "C:\\Users\\reo\\Anaconda3\\lib\\site-packages\\ipykernel_launcher.py:8: DeprecationWarning: fractions.gcd() is deprecated. Use math.gcd() instead.\n",
      "  \n"
     ]
    }
   ],
   "source": [
    "%%test_input https://atcoder.jp/contests/abc103/tasks/abc103_c\n",
    "# C\n",
    "from functools import reduce\n",
    "from fractions import gcd\n",
    "from functools import lru_cache\n",
    "\n",
    "@lru_cache(None)\n",
    "def lcm(a, b):\n",
    "    return int(a*b/gcd(a, b))\n",
    "\n",
    "n = int(input()) \n",
    "a = list(map(int, input().split()))\n",
    "\n",
    "result = 0\n",
    "mod = int(reduce(lcm, a))-1\n",
    "\n",
    "for i in range(len(a)):\n",
    "    result += mod % a[i] \n",
    "\n",
    "print(result)"
   ]
  },
  {
   "cell_type": "code",
   "execution_count": null,
   "metadata": {
    "collapsed": true
   },
   "outputs": [],
   "source": [
    "%%test_input \n",
    "# D"
   ]
  },
  {
   "cell_type": "code",
   "execution_count": null,
   "metadata": {
    "collapsed": true
   },
   "outputs": [],
   "source": [
    "%%test_input \n",
    "# E"
   ]
  },
  {
   "cell_type": "code",
   "execution_count": null,
   "metadata": {
    "collapsed": true
   },
   "outputs": [],
   "source": [
    "%%test_input \n",
    "# F"
   ]
  },
  {
   "cell_type": "code",
   "execution_count": null,
   "metadata": {
    "collapsed": true
   },
   "outputs": [],
   "source": []
  },
  {
   "cell_type": "markdown",
   "metadata": {},
   "source": [
    "#### tester\n",
    "```\n",
    "test_input Atcoder_URL\n",
    "```\n",
    "#### input\n",
    "##### AtCoderで使ってる入力メソッド(Python3)\n",
    "###### https://qiita.com/fmhr/items/77fc453e2fb1bc02e392\n",
    "\n",
    "##### 1行に複数の数字\n",
    "```\n",
    "2 4 5 7\n",
    "a, b, c, d = map(int, input().split())\n",
    "a=2 b=4 c=5 d =7\n",
    "\n",
    "a = list(map(int, input().split()))\n",
    "# a = [2, 4, 5, 6]\n",
    "```\n",
    "##### 複数行の数字をリストに\n",
    "```\n",
    "3 # n Aの数\n",
    "22 # A1 \n",
    "14 # A2\n",
    "45 # A3\n",
    "\n",
    "n = int(input()) \n",
    "t = [int(input()) for i in range(n)] \n",
    "# t = [22, 14, 45]\n",
    "\n",
    "N = int(input())\n",
    "t = [0] * N\n",
    "x = [0] * N\n",
    "y = [0] * N\n",
    "for i in range(N):\n",
    "    t[i], x[i], y[i] = map(int, input().split())\n",
    "```\n",
    "##### 複数行に複数の数字があるとき\n",
    "```\n",
    "4\n",
    "22 1 45\n",
    "25 53 110\n",
    "4 444 555\n",
    "2 5 0\n",
    "\n",
    "n = int(input())\n",
    "e = [[int(i) for i in input().split()] for i in range(n)] \n",
    "#  [[22, 1, 45], [25, 53, 110], [4, 444, 555], [2, 5, 0]]\n",
    "```"
   ]
  },
  {
   "cell_type": "code",
   "execution_count": null,
   "metadata": {
    "collapsed": true
   },
   "outputs": [],
   "source": []
  }
 ],
 "metadata": {
  "kernelspec": {
   "display_name": "Python 3",
   "language": "python",
   "name": "python3"
  },
  "language_info": {
   "codemirror_mode": {
    "name": "ipython",
    "version": 3
   },
   "file_extension": ".py",
   "mimetype": "text/x-python",
   "name": "python",
   "nbconvert_exporter": "python",
   "pygments_lexer": "ipython3",
   "version": "3.6.3"
  }
 },
 "nbformat": 4,
 "nbformat_minor": 2
}
