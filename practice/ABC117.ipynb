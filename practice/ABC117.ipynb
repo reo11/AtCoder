{
 "cells": [
  {
   "cell_type": "markdown",
   "metadata": {
    "collapsed": true
   },
   "source": [
    "### AtCoder Beginner Contest 117\n",
    "#### https://atcoder.jp/contests/abc117"
   ]
  },
  {
   "cell_type": "code",
   "execution_count": null,
   "metadata": {
    "collapsed": true
   },
   "outputs": [],
   "source": [
    "# test_input Atcoder_URL"
   ]
  },
  {
   "cell_type": "code",
   "execution_count": 16,
   "metadata": {},
   "outputs": [
    {
     "name": "stdout",
     "output_type": "stream",
     "text": [
      "... test case 0 ...\n",
      "<<< 8 3\n",
      "2.6666666667\n",
      "... test case 1 ...\n",
      "<<< 99 1\n",
      "99.0000000000\n",
      "... test case 2 ...\n",
      "<<< 1 100\n",
      "0.0100000000\n",
      "\n",
      "========== Report ==========\n",
      "test 0 :       True\n",
      "test 1 :       True\n",
      "test 2 :       True\n"
     ]
    }
   ],
   "source": [
    "%%test_input https://atcoder.jp/contests/abc117/tasks/abc117_a\n",
    "# A\n",
    "T, X = map(int, input().split())\n",
    "\n",
    "print(\"{:.10f}\".format(T/X))"
   ]
  },
  {
   "cell_type": "code",
   "execution_count": 17,
   "metadata": {},
   "outputs": [
    {
     "name": "stdout",
     "output_type": "stream",
     "text": [
      "... test case 0 ...\n",
      "<<< 4\n",
      "<<< 3 8 5 1\n",
      "Yes\n",
      "... test case 1 ...\n",
      "<<< 4\n",
      "<<< 3 8 4 1\n",
      "No\n",
      "... test case 2 ...\n",
      "<<< 10\n",
      "<<< 1 8 10 5 8 12 34 100 11 3\n",
      "No\n",
      "\n",
      "========== Report ==========\n",
      "test 0 :       True\n",
      "test 1 :       True\n",
      "test 2 :       True\n"
     ]
    }
   ],
   "source": [
    "%%test_input https://atcoder.jp/contests/abc117/tasks/abc117_b\n",
    "# B\n",
    "N = int(input())\n",
    "L = list(map(int, input().split()))\n",
    "m = max(L)\n",
    "s = sum(L)\n",
    "if m < s - m:\n",
    "    print('Yes')\n",
    "else:\n",
    "    print('No')"
   ]
  },
  {
   "cell_type": "code",
   "execution_count": 41,
   "metadata": {},
   "outputs": [
    {
     "name": "stdout",
     "output_type": "stream",
     "text": [
      "... test case 0 ...\n",
      "<<< 2 5\n",
      "<<< 10 12 1 2 14\n",
      "5\n",
      "... test case 1 ...\n",
      "<<< 3 7\n",
      "<<< -10 -3 0 9 -100 2 17\n",
      "19\n",
      "... test case 2 ...\n",
      "<<< 100 1\n",
      "<<< -100000\n",
      "0\n",
      "\n",
      "========== Report ==========\n",
      "test 0 :       True\n",
      "test 1 :       True\n",
      "test 2 :       True\n"
     ]
    }
   ],
   "source": [
    "%%test_input https://atcoder.jp/contests/abc117/tasks/abc117_c\n",
    "# C\n",
    "N, M = map(int, input().split())\n",
    "X = list(map(int, input().split()))\n",
    "if N >= M:\n",
    "    print(0)\n",
    "else:\n",
    "    X.sort()\n",
    "    new_list = []\n",
    "    for j in range(1, M):\n",
    "        new_list.append(abs(X[j] - X[j-1]))\n",
    "    new_list.sort()\n",
    "    new_list.reverse()\n",
    "    \n",
    "    for i in range(M-N):\n",
    "        new_list.pop()\n",
    "    ans=(max(X)-min(X))-sum(new_list)\n",
    "    \n",
    "    print(ans)"
   ]
  },
  {
   "cell_type": "code",
   "execution_count": 46,
   "metadata": {},
   "outputs": [
    {
     "name": "stdout",
     "output_type": "stream",
     "text": [
      "... test case 0 ...\n",
      "<<< 3 7\n",
      "<<< 1 6 3\n",
      "14\n",
      "... test case 1 ...\n",
      "<<< 4 9\n",
      "<<< 7 4 0 3\n",
      "46\n",
      "... test case 2 ...\n",
      "<<< 1 0\n",
      "<<< 1000000000000\n",
      "1000000000000\n",
      "\n",
      "========== Report ==========\n",
      "test 0 :       True\n",
      "test 1 :       True\n",
      "test 2 :       True\n"
     ]
    }
   ],
   "source": [
    "%%test_input https://atcoder.jp/contests/abc117/tasks/abc117_d\n",
    "# D\n",
    "# TLE\n",
    "N, K = map(int, input().split())\n",
    "A = list(map(int, input().split()))\n",
    "result = 0\n",
    "if K == 0:\n",
    "    print(sum(A))\n",
    "else:\n",
    "    for i in range(K):\n",
    "        a = 0\n",
    "        for j in range(N):\n",
    "            a += i^A[j]\n",
    "        result = max(result, a)\n",
    "    print(result)"
   ]
  },
  {
   "cell_type": "code",
   "execution_count": 56,
   "metadata": {},
   "outputs": [
    {
     "name": "stdout",
     "output_type": "stream",
     "text": [
      "... test case 0 ...\n",
      "<<< 3 7\n",
      "<<< 1 6 3\n",
      "14\n",
      "... test case 1 ...\n",
      "<<< 4 9\n",
      "<<< 7 4 0 3\n",
      "46\n",
      "... test case 2 ...\n",
      "<<< 1 0\n",
      "<<< 1000000000000\n",
      "1000000000000\n",
      "\n",
      "========== Report ==========\n",
      "test 0 :       True\n",
      "test 1 :       True\n",
      "test 2 :       True\n"
     ]
    }
   ],
   "source": [
    "%%test_input https://atcoder.jp/contests/abc117/tasks/abc117_d\n",
    "# D\n",
    "# DPにしないと間に合わない\n",
    "N, K = map(int, input().split())\n",
    "A = list(map(int, input().split()))\n",
    "\n",
    "if K == 0:\n",
    "    print(sum(A))\n",
    "else:\n",
    "    max_bit = len(bin(K))-2\n",
    "    num = ''\n",
    "    for bit in range(max_bit):\n",
    "        s = 0\n",
    "        for i in range(N):\n",
    "            s += (2**bit & A[i]) / 2**bit\n",
    "        if s > int(max_bit/2):\n",
    "            num = '0' + num\n",
    "        else:\n",
    "            num = '1' + num\n",
    "    num = '0b' + num\n",
    "    num = int(num, 2)\n",
    "    s = 0\n",
    "    for i in range(N):\n",
    "        s += num ^ A[i]\n",
    "    print(s)"
   ]
  },
  {
   "cell_type": "code",
   "execution_count": null,
   "metadata": {
    "collapsed": true
   },
   "outputs": [],
   "source": []
  },
  {
   "cell_type": "markdown",
   "metadata": {},
   "source": [
    "#### tester\n",
    "```\n",
    "test_input Atcoder_URL\n",
    "```\n",
    "#### input\n",
    "##### AtCoderで使ってる入力メソッド(Python3)\n",
    "###### https://qiita.com/fmhr/items/77fc453e2fb1bc02e392\n",
    "\n",
    "##### 1行に複数の数字\n",
    "```\n",
    "2 4 5 7\n",
    "a, b, c, d = map(int, input().split())\n",
    "a=2 b=4 c=5 d =7\n",
    "\n",
    "a = list(map(int, input().split()))\n",
    "# a = [2, 4, 5, 6]\n",
    "```\n",
    "##### 複数行の数字をリストに\n",
    "```\n",
    "3 # n Aの数\n",
    "22 # A1 \n",
    "14 # A2\n",
    "45 # A3\n",
    "\n",
    "n = int(input()) \n",
    "t = [int(input()) for i in range(n)] \n",
    "# t = [22, 14, 45]\n",
    "\n",
    "N = int(input())\n",
    "t = [0] * N\n",
    "x = [0] * N\n",
    "y = [0] * N\n",
    "for i in range(N):\n",
    "    t[i], x[i], y[i] = map(int, input().split())\n",
    "```\n",
    "##### 複数行に複数の数字があるとき\n",
    "```\n",
    "4\n",
    "22 1 45\n",
    "25 53 110\n",
    "4 444 555\n",
    "2 5 0\n",
    "\n",
    "n = int(input())\n",
    "e = [[int(i) for i in input().split()] for i in range(n)] \n",
    "#  [[22, 1, 45], [25, 53, 110], [4, 444, 555], [2, 5, 0]]\n",
    "```"
   ]
  },
  {
   "cell_type": "code",
   "execution_count": null,
   "metadata": {
    "collapsed": true
   },
   "outputs": [],
   "source": []
  }
 ],
 "metadata": {
  "kernelspec": {
   "display_name": "Python 3",
   "language": "python",
   "name": "python3"
  },
  "language_info": {
   "codemirror_mode": {
    "name": "ipython",
    "version": 3
   },
   "file_extension": ".py",
   "mimetype": "text/x-python",
   "name": "python",
   "nbconvert_exporter": "python",
   "pygments_lexer": "ipython3",
   "version": "3.6.3"
  }
 },
 "nbformat": 4,
 "nbformat_minor": 2
}
