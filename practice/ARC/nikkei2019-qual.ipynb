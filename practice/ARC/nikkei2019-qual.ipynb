{
 "cells": [
  {
   "cell_type": "code",
   "execution_count": 1,
   "metadata": {},
   "outputs": [
    {
     "name": "stdout",
     "output_type": "stream",
     "text": [
      "1 1 1\n",
      "1 1\n"
     ]
    }
   ],
   "source": [
    "# A\n",
    "n, a, b = map(int, input().split())\n",
    "ans_min = 0 if a+b-n <0 else a+b-n\n",
    "print(min(a, b), ans_min)"
   ]
  },
  {
   "cell_type": "code",
   "execution_count": null,
   "metadata": {},
   "outputs": [],
   "source": [
    "# B\n",
    "n = int(input())\n",
    "a = str(input())\n",
    "b = str(input())\n",
    "c = str(input())\n",
    "count = 0\n",
    "for i in range(n):\n",
    "    if a[i] == b[i] and b[i] == c[i]:\n",
    "        continue\n",
    "    elif a[i]== b[i] or a[i]==c[i] or b[i]==c[i]:\n",
    "        count += 1\n",
    "    else:\n",
    "        count+=2\n",
    "print(count)"
   ]
  },
  {
   "cell_type": "code",
   "execution_count": 13,
   "metadata": {},
   "outputs": [
    {
     "name": "stdout",
     "output_type": "stream",
     "text": [
      "3 \n",
      "10 10\n",
      "20 20\n",
      "30 30\n",
      "20\n"
     ]
    }
   ],
   "source": [
    "# C\n",
    "n = int(input())\n",
    "if n==1:\n",
    "    a, b =map(int, input().split())\n",
    "    print(a)\n",
    "else:\n",
    "    def return_a(n):\n",
    "        return n[0]\n",
    "    def return_b(n):\n",
    "        return n[1]\n",
    "    ab = [[0] * 3 for i in range(n)]\n",
    "    for i in range(n):\n",
    "        ab[i][0], ab[i][1] = map(int, input().split())\n",
    "        ab[i][2] = ab[i][0] + ab[i][1]\n",
    "    ab = sorted(ab, key=lambda x: x[2], reverse=True)\n",
    "    print(sum(map(return_a, ab[0::2])) - sum(map(return_b, ab[1::2])))"
   ]
  },
  {
   "cell_type": "code",
   "execution_count": null,
   "metadata": {},
   "outputs": [],
   "source": [
    "# D\n"
   ]
  },
  {
   "cell_type": "code",
   "execution_count": null,
   "metadata": {},
   "outputs": [],
   "source": []
  }
 ],
 "metadata": {
  "kernelspec": {
   "display_name": "Python 3",
   "language": "python",
   "name": "python3"
  },
  "language_info": {
   "codemirror_mode": {
    "name": "ipython",
    "version": 3
   },
   "file_extension": ".py",
   "mimetype": "text/x-python",
   "name": "python",
   "nbconvert_exporter": "python",
   "pygments_lexer": "ipython3",
   "version": "3.6.7"
  }
 },
 "nbformat": 4,
 "nbformat_minor": 2
}
