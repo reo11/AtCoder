{
 "cells": [
  {
   "cell_type": "markdown",
   "metadata": {
    "collapsed": true
   },
   "source": [
    "### Atcoder Educational DP Contest / DP まとめコンテスト\n",
    "#### https://atcoder.jp/contests/dp"
   ]
  },
  {
   "cell_type": "code",
   "execution_count": null,
   "metadata": {
    "collapsed": true
   },
   "outputs": [],
   "source": [
    "# test_input Atcoder_URL"
   ]
  },
  {
   "cell_type": "code",
   "execution_count": 10,
   "metadata": {},
   "outputs": [
    {
     "name": "stdout",
     "output_type": "stream",
     "text": [
      "... test case 0 ...\n",
      "<<< 4\n",
      "<<< 10 30 40 20\n",
      "30\n",
      "... test case 1 ...\n",
      "<<< 2\n",
      "<<< 10 10\n",
      "0\n",
      "... test case 2 ...\n",
      "<<< 6\n",
      "<<< 30 10 60 10 60 50\n",
      "40\n",
      "\n",
      "========== Report ==========\n",
      "test 0 :       True\n",
      "test 1 :       True\n",
      "test 2 :       True\n"
     ]
    }
   ],
   "source": [
    "%%test_input https://atcoder.jp/contests/dp/tasks/dp_a\n",
    "# A\n",
    "n = int(input()) \n",
    "h = list(map(int, input().split()))\n",
    "dp = [0]*(n+1)\n",
    "\n",
    "for i in range(2, n+1):\n",
    "    h_index = i-1\n",
    "    if i == 2:\n",
    "        dp[i] = abs(h[h_index-1] - h[h_index])\n",
    "    else:\n",
    "        dp[i] = min(dp[i-1] + abs(h[h_index-1] - h[h_index]), dp[i-2] + abs(h[h_index-2] - h[h_index]))\n",
    "print(dp[-1])"
   ]
  },
  {
   "cell_type": "code",
   "execution_count": 5,
   "metadata": {},
   "outputs": [
    {
     "name": "stdout",
     "output_type": "stream",
     "text": [
      "... test case 0 ...\n",
      "<<< 5 3\n",
      "<<< 10 30 40 50 20\n",
      "30\n",
      "... test case 1 ...\n",
      "<<< 3 1\n",
      "<<< 10 20 10\n",
      "20\n",
      "... test case 2 ...\n",
      "<<< 2 100\n",
      "<<< 10 10\n",
      "0\n",
      "... test case 3 ...\n",
      "<<< 10 4\n",
      "<<< 40 10 20 70 80 10 20 70 80 60\n",
      "40\n",
      "\n",
      "========== Report ==========\n",
      "test 0 :       True\n",
      "test 1 :       True\n",
      "test 2 :       True\n",
      "test 3 :       True\n"
     ]
    }
   ],
   "source": [
    "%%test_input https://atcoder.jp/contests/dp/tasks/dp_b\n",
    "# B\n",
    "# TLE\n",
    "n, k = map(int, input().split())\n",
    "h = list(map(int, input().split()))\n",
    "dp = [0]*(n+1)\n",
    " \n",
    "for i in range(2, n+1):\n",
    "    c_list = []\n",
    "    if i-2 >= k:\n",
    "        for j in range(1,k+1):\n",
    "            c_list.append(dp[i-j] + abs(h[i-1-j] - h[i-1]))\n",
    "    else:\n",
    "        for j in range(1, i):\n",
    "            c_list.append(dp[i-j] + abs(h[i-1-j] - h[i-1]))\n",
    "    dp[i] = min(c_list)\n",
    "print(dp[-1])"
   ]
  },
  {
   "cell_type": "code",
   "execution_count": 7,
   "metadata": {},
   "outputs": [
    {
     "name": "stdout",
     "output_type": "stream",
     "text": [
      "... test case 0 ...\n",
      "<<< 5 3\n",
      "<<< 10 30 40 50 20\n",
      "30\n",
      "... test case 1 ...\n",
      "<<< 3 1\n",
      "<<< 10 20 10\n",
      "20\n",
      "... test case 2 ...\n",
      "<<< 2 100\n",
      "<<< 10 10\n",
      "0\n",
      "... test case 3 ...\n",
      "<<< 10 4\n",
      "<<< 40 10 20 70 80 10 20 70 80 60\n",
      "40\n",
      "\n",
      "========== Report ==========\n",
      "test 0 :       True\n",
      "test 1 :       True\n",
      "test 2 :       True\n",
      "test 3 :       True\n"
     ]
    }
   ],
   "source": [
    "%%test_input https://atcoder.jp/contests/dp/tasks/dp_b\n",
    "# B\n",
    "import numpy as np\n",
    "N, K = map(int, input().split())\n",
    "h = np.array(input().split(), dtype=\"int32\")\n",
    "dp = np.zeros(N, dtype=\"int32\")\n",
    " \n",
    "for i in range(1, N):\n",
    "    if i < K:\n",
    "        dp[i] = np.min(dp[:i] + np.abs(h[i]-h[:i]))\n",
    "    else:\n",
    "        dp[i] = np.min(dp[i-K:i] + np.abs(h[i]-h[i-K:i]))\n",
    "print(dp[-1])"
   ]
  },
  {
   "cell_type": "code",
   "execution_count": 25,
   "metadata": {},
   "outputs": [
    {
     "name": "stdout",
     "output_type": "stream",
     "text": [
      "... test case 0 ...\n",
      "<<< 3\n",
      "<<< 10 40 70\n",
      "<<< 20 50 80\n",
      "<<< 30 60 90\n",
      "210\n",
      "... test case 1 ...\n",
      "<<< 1\n",
      "<<< 100 10 1\n",
      "100\n",
      "... test case 2 ...\n",
      "<<< 7\n",
      "<<< 6 7 8\n",
      "<<< 8 8 3\n",
      "<<< 2 5 2\n",
      "<<< 7 8 6\n",
      "<<< 4 6 8\n",
      "<<< 2 3 4\n",
      "<<< 7 5 1\n",
      "46\n",
      "\n",
      "========== Report ==========\n",
      "test 0 :       True\n",
      "test 1 :       True\n",
      "test 2 :       True\n"
     ]
    }
   ],
   "source": [
    "%%test_input https://atcoder.jp/contests/dp/tasks/dp_c\n",
    "# C\n",
    "N = int(input())\n",
    "a = [0] * N\n",
    "b = [0] * N\n",
    "c = [0] * N\n",
    "for i in range(N):\n",
    "    a[i], b[i], c[i] = map(int, input().split())\n",
    "\n",
    "dp = [[0] * 3 for _ in range(N)]\n",
    "\n",
    "dp[0][0] = a[0]\n",
    "dp[0][1] = b[0]\n",
    "dp[0][2] = c[0]\n",
    "for i in range(1, N):\n",
    "    dp[i][0] = max(dp[i-1][1] + a[i], dp[i-1][2] + a[i])\n",
    "    dp[i][1] = max(dp[i-1][0] + b[i], dp[i-1][2] + b[i])\n",
    "    dp[i][2] = max(dp[i-1][0] + c[i], dp[i-1][1] + c[i])\n",
    "print(max(dp[-1]))"
   ]
  },
  {
   "cell_type": "code",
   "execution_count": 54,
   "metadata": {},
   "outputs": [
    {
     "name": "stdout",
     "output_type": "stream",
     "text": [
      "... test case 0 ...\n",
      "<<< 3 8\n",
      "<<< 3 30\n",
      "<<< 4 50\n",
      "<<< 5 60\n",
      "90\n",
      "... test case 1 ...\n",
      "<<< 5 5\n",
      "<<< 1 1000000000\n",
      "<<< 1 1000000000\n",
      "<<< 1 1000000000\n",
      "<<< 1 1000000000\n",
      "<<< 1 1000000000\n",
      "5000000000\n",
      "... test case 2 ...\n",
      "<<< 6 15\n",
      "<<< 6 5\n",
      "<<< 5 6\n",
      "<<< 6 4\n",
      "<<< 6 6\n",
      "<<< 3 5\n",
      "<<< 7 2\n",
      "17\n",
      "\n",
      "========== Report ==========\n",
      "test 0 :       True\n",
      "test 1 :       True\n",
      "test 2 :       True\n"
     ]
    }
   ],
   "source": [
    "%%test_input https://atcoder.jp/contests/dp/tasks/dp_d\n",
    "# D\n",
    "\n",
    "N, W = map(int, input().split())\n",
    "w = [0] * N\n",
    "v = [0] * N\n",
    "for i in range(N):\n",
    "    w[i], v[i] = map(int, input().split())\n",
    "\n",
    "dp = [[0] * (W+1) for _ in range(N)]\n",
    "for i in range(N):\n",
    "    for j in range(W+1):\n",
    "        if j >= w[i]:\n",
    "            dp[i][j] = max(dp[i-1][j-w[i]] + v[i], dp[i-1][j])\n",
    "        else:\n",
    "            dp[i][j] = dp[i-1][j]\n",
    "\n",
    "print(max(dp[-1]))"
   ]
  },
  {
   "cell_type": "code",
   "execution_count": 59,
   "metadata": {},
   "outputs": [
    {
     "name": "stdout",
     "output_type": "stream",
     "text": [
      "... test case 0 ...\n",
      "<<< 3 8\n",
      "<<< 3 30\n",
      "<<< 4 50\n",
      "<<< 5 60\n",
      "90\n",
      "... test case 1 ...\n",
      "<<< 5 5\n",
      "<<< 1 1000000000\n",
      "<<< 1 1000000000\n",
      "<<< 1 1000000000\n",
      "<<< 1 1000000000\n",
      "<<< 1 1000000000\n",
      "5000000000\n",
      "... test case 2 ...\n",
      "<<< 6 15\n",
      "<<< 6 5\n",
      "<<< 5 6\n",
      "<<< 6 4\n",
      "<<< 6 6\n",
      "<<< 3 5\n",
      "<<< 7 2\n",
      "17\n",
      "\n",
      "========== Report ==========\n",
      "test 0 :       True\n",
      "test 1 :       True\n",
      "test 2 :       True\n"
     ]
    }
   ],
   "source": [
    "%%test_input https://atcoder.jp/contests/dp/tasks/dp_d\n",
    "# D\n",
    "# Valueが大きい場合\n",
    "import numpy as np\n",
    "n,w = map(int, input().split())\n",
    " \n",
    "items = list(map(int, input().split()) for _ in [0]*n)\n",
    "dp = np.zeros(w+1, dtype='int64')\n",
    " \n",
    "for weight, value in items:\n",
    "    dp[weight:] = np.maximum(dp[weight:], dp[:w-weight+1] + value)\n",
    "print(dp.max())"
   ]
  },
  {
   "cell_type": "code",
   "execution_count": 61,
   "metadata": {},
   "outputs": [
    {
     "name": "stdout",
     "output_type": "stream",
     "text": [
      "... test case 0 ...\n",
      "<<< 3 8\n",
      "<<< 3 30\n",
      "<<< 4 50\n",
      "<<< 5 60\n",
      "90\n",
      "... test case 1 ...\n",
      "<<< 1 1000000000\n",
      "<<< 1000000000 10\n",
      "10\n",
      "... test case 2 ...\n",
      "<<< 6 15\n",
      "<<< 6 5\n",
      "<<< 5 6\n",
      "<<< 6 4\n",
      "<<< 6 6\n",
      "<<< 3 5\n",
      "<<< 7 2\n",
      "17\n",
      "\n",
      "========== Report ==========\n",
      "test 0 :       True\n",
      "test 1 :       True\n",
      "test 2 :       True\n"
     ]
    }
   ],
   "source": [
    "%%test_input https://atcoder.jp/contests/dp/tasks/dp_e\n",
    "# E\n",
    "# Weightが大きい場合\n",
    "import numpy as np\n",
    "IN = lambda:map(int, input().split())\n",
    " \n",
    "n,k = IN()\n",
    "dp = np.full(n*1000+1, k+1, dtype=int)\n",
    "dp[0] = 0\n",
    " \n",
    "for _ in range(n):\n",
    "    w,v = IN()\n",
    "    dp[v:] = np.minimum(dp[:-v]+w, dp[v:])\n",
    "print(np.max(np.where(dp <= k)))"
   ]
  },
  {
   "cell_type": "code",
   "execution_count": 50,
   "metadata": {
    "collapsed": true
   },
   "outputs": [],
   "source": [
    "%%test_input https://atcoder.jp/contests/dp/tasks/dp_f\n",
    "# F\n",
    "s = str(input())\n",
    "t = str(input())\n",
    "\n"
   ]
  },
  {
   "cell_type": "code",
   "execution_count": null,
   "metadata": {
    "collapsed": true
   },
   "outputs": [],
   "source": []
  },
  {
   "cell_type": "markdown",
   "metadata": {},
   "source": [
    "#### tester\n",
    "```\n",
    "test_input Atcoder_URL\n",
    "```\n",
    "#### input\n",
    "##### AtCoderで使ってる入力メソッド(Python3)\n",
    "###### https://qiita.com/fmhr/items/77fc453e2fb1bc02e392\n",
    "\n",
    "##### 1行に複数の数字\n",
    "```\n",
    "2 4 5 7\n",
    "a, b, c, d = map(int, input().split())\n",
    "a=2 b=4 c=5 d =7\n",
    "\n",
    "a = list(map(int, input().split()))\n",
    "# a = [2, 4, 5, 6]\n",
    "```\n",
    "##### 複数行の数字をリストに\n",
    "```\n",
    "3 # n Aの数\n",
    "22 # A1 \n",
    "14 # A2\n",
    "45 # A3\n",
    "\n",
    "n = int(input()) \n",
    "t = [int(input()) for i in range(n)] \n",
    "# t = [22, 14, 45]\n",
    "\n",
    "N = int(input())\n",
    "t = [0] * N\n",
    "x = [0] * N\n",
    "y = [0] * N\n",
    "for i in range(N):\n",
    "    t[i], x[i], y[i] = map(int, input().split())\n",
    "```\n",
    "##### 複数行に複数の数字があるとき\n",
    "```\n",
    "4\n",
    "22 1 45\n",
    "25 53 110\n",
    "4 444 555\n",
    "2 5 0\n",
    "\n",
    "n = int(input())\n",
    "e = [[int(i) for i in input().split()] for i in range(n)] \n",
    "#  [[22, 1, 45], [25, 53, 110], [4, 444, 555], [2, 5, 0]]\n",
    "```"
   ]
  },
  {
   "cell_type": "code",
   "execution_count": null,
   "metadata": {
    "collapsed": true
   },
   "outputs": [],
   "source": []
  }
 ],
 "metadata": {
  "kernelspec": {
   "display_name": "Python 3",
   "language": "python",
   "name": "python3"
  },
  "language_info": {
   "codemirror_mode": {
    "name": "ipython",
    "version": 3
   },
   "file_extension": ".py",
   "mimetype": "text/x-python",
   "name": "python",
   "nbconvert_exporter": "python",
   "pygments_lexer": "ipython3",
   "version": "3.6.3"
  }
 },
 "nbformat": 4,
 "nbformat_minor": 2
}
