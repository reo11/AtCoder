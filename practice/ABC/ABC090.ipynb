{
 "cells": [
  {
   "cell_type": "markdown",
   "metadata": {},
   "source": [
    "### AtCoder Beginner Contest 090\n",
    "#### https://atcoder.jp/contests/abc090"
   ]
  },
  {
   "cell_type": "code",
   "execution_count": 5,
   "metadata": {},
   "outputs": [
    {
     "name": "stdout",
     "output_type": "stream",
     "text": [
      "ant\n",
      "sdf\n",
      "asf\n",
      "adf\n"
     ]
    }
   ],
   "source": [
    "#A\n",
    "c = [''] * 3\n",
    "for i in range(3):\n",
    "    c[i] = str(input())\n",
    "print(c[0][0] + c[1][1] + c[2][2])"
   ]
  },
  {
   "cell_type": "code",
   "execution_count": 13,
   "metadata": {},
   "outputs": [
    {
     "name": "stdout",
     "output_type": "stream",
     "text": [
      "31415 92653\n",
      "612\n"
     ]
    }
   ],
   "source": [
    "#B\n",
    "a, b = map(int, input().split())\n",
    "count = 0\n",
    "\n",
    "for i in range(a,b+1):\n",
    "    s = str(i)\n",
    "    if s == s[::-1]:\n",
    "        count += 1\n",
    "print(count)"
   ]
  },
  {
   "cell_type": "code",
   "execution_count": 16,
   "metadata": {},
   "outputs": [
    {
     "name": "stdout",
     "output_type": "stream",
     "text": [
      "314 1592\n",
      "496080\n"
     ]
    }
   ],
   "source": [
    "#C\n",
    "n, m = map(int, input().split())\n",
    "\n",
    "ans = 0\n",
    "\n",
    "if n == 2 or m == 2:\n",
    "    ans = 0\n",
    "elif n == 1 and m == 1:\n",
    "    ans = 1\n",
    "elif (n == 1 and m == 2) or (n == 2 and m == 1):\n",
    "    ans = 0\n",
    "elif n == 1:\n",
    "    ans = m-2\n",
    "elif m == 1:\n",
    "    ans = n-2\n",
    "else:\n",
    "    ans = (n-2) * (m-2)\n",
    "print(ans)\n"
   ]
  },
  {
   "cell_type": "code",
   "execution_count": 23,
   "metadata": {},
   "outputs": [
    {
     "name": "stdout",
     "output_type": "stream",
     "text": [
      "5 2\n",
      "1 0\n",
      "2 3\n",
      "3 2\n",
      "4 1\n",
      "5 1\n",
      "7\n"
     ]
    }
   ],
   "source": [
    "#D\n",
    "n,k = map(int,input().split())\n",
    "s = 0\n",
    "for b in range(k+1,n+1):\n",
    "    s += n//b*(b-k) + max(n%b-max(k-1,0),0)\n",
    "print(s)"
   ]
  },
  {
   "cell_type": "code",
   "execution_count": null,
   "metadata": {
    "collapsed": true
   },
   "outputs": [],
   "source": []
  }
 ],
 "metadata": {
  "kernelspec": {
   "display_name": "Python 3",
   "language": "python",
   "name": "python3"
  },
  "language_info": {
   "codemirror_mode": {
    "name": "ipython",
    "version": 3
   },
   "file_extension": ".py",
   "mimetype": "text/x-python",
   "name": "python",
   "nbconvert_exporter": "python",
   "pygments_lexer": "ipython3",
   "version": "3.6.3"
  }
 },
 "nbformat": 4,
 "nbformat_minor": 2
}
