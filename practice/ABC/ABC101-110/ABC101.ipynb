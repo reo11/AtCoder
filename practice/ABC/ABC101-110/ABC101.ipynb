{
 "cells": [
  {
   "cell_type": "markdown",
   "metadata": {
    "collapsed": true
   },
   "source": [
    "### AtCoder Beginner Contest 101\n",
    "#### https://atcoder.jp/contests/abc101"
   ]
  },
  {
   "cell_type": "code",
   "execution_count": null,
   "metadata": {
    "collapsed": true
   },
   "outputs": [],
   "source": [
    "# test_input Atcoder_URL"
   ]
  },
  {
   "cell_type": "code",
   "execution_count": 2,
   "metadata": {},
   "outputs": [
    {
     "name": "stdout",
     "output_type": "stream",
     "text": [
      "... test case 0 ...\n",
      "<<< +-++\n",
      "2\n",
      "... test case 1 ...\n",
      "<<< -+--\n",
      "-2\n",
      "... test case 2 ...\n",
      "<<< ----\n",
      "-4\n",
      "\n",
      "========== Report ==========\n",
      "test 0 :       True\n",
      "test 1 :       True\n",
      "test 2 :       True\n"
     ]
    }
   ],
   "source": [
    "%%test_input https://atcoder.jp/contests/abc101/tasks/abc101_a\n",
    "# A\n",
    "s = str(input())\n",
    "result = 0\n",
    "for c in list(s):\n",
    "    if c == '+':\n",
    "        result += 1\n",
    "    else:\n",
    "        result -= 1\n",
    "print(result)\n",
    "    "
   ]
  },
  {
   "cell_type": "code",
   "execution_count": 7,
   "metadata": {},
   "outputs": [
    {
     "name": "stdout",
     "output_type": "stream",
     "text": [
      "... test case 0 ...\n",
      "<<< 12\n",
      "Yes\n",
      "... test case 1 ...\n",
      "<<< 101\n",
      "No\n",
      "... test case 2 ...\n",
      "<<< 999999999\n",
      "Yes\n",
      "\n",
      "========== Report ==========\n",
      "test 0 :       True\n",
      "test 1 :       True\n",
      "test 2 :       True\n"
     ]
    }
   ],
   "source": [
    "%%test_input https://atcoder.jp/contests/abc101/tasks/abc101_b\n",
    "# B\n",
    "n = int(input())\n",
    "s = sum([int(i) for i in list(str(n))])\n",
    "\n",
    "if n%s == 0:\n",
    "    print('Yes')\n",
    "else:\n",
    "    print('No')"
   ]
  },
  {
   "cell_type": "code",
   "execution_count": 12,
   "metadata": {},
   "outputs": [
    {
     "name": "stdout",
     "output_type": "stream",
     "text": [
      "... test case 0 ...\n",
      "<<< 4 3\n",
      "2\n",
      "... test case 1 ...\n",
      "<<< 3 3\n",
      "1\n",
      "... test case 2 ...\n",
      "<<< 8 3\n",
      "4\n",
      "\n",
      "========== Report ==========\n",
      "test 0 :       True\n",
      "test 1 :       True\n",
      "test 2 :       True\n"
     ]
    }
   ],
   "source": [
    "%%test_input https://atcoder.jp/contests/abc101/tasks/arc099_a\n",
    "# C\n",
    "n,k=map(int,input().split())\n",
    "print((n+k-3)//(k-1))"
   ]
  },
  {
   "cell_type": "code",
   "execution_count": null,
   "metadata": {
    "collapsed": true
   },
   "outputs": [],
   "source": []
  },
  {
   "cell_type": "code",
   "execution_count": null,
   "metadata": {
    "collapsed": true
   },
   "outputs": [],
   "source": [
    "%%test_input \n",
    "# D"
   ]
  },
  {
   "cell_type": "code",
   "execution_count": null,
   "metadata": {
    "collapsed": true
   },
   "outputs": [],
   "source": [
    "%%test_input \n",
    "# E"
   ]
  },
  {
   "cell_type": "code",
   "execution_count": null,
   "metadata": {
    "collapsed": true
   },
   "outputs": [],
   "source": [
    "%%test_input \n",
    "# F"
   ]
  },
  {
   "cell_type": "code",
   "execution_count": null,
   "metadata": {
    "collapsed": true
   },
   "outputs": [],
   "source": []
  },
  {
   "cell_type": "markdown",
   "metadata": {},
   "source": [
    "#### tester\n",
    "```\n",
    "test_input Atcoder_URL\n",
    "```\n",
    "#### input\n",
    "##### AtCoderで使ってる入力メソッド(Python3)\n",
    "###### https://qiita.com/fmhr/items/77fc453e2fb1bc02e392\n",
    "\n",
    "##### 1行に複数の数字\n",
    "```\n",
    "2 4 5 7\n",
    "a, b, c, d = map(int, input().split())\n",
    "a=2 b=4 c=5 d =7\n",
    "\n",
    "a = list(map(int, input().split()))\n",
    "# a = [2, 4, 5, 6]\n",
    "```\n",
    "##### 複数行の数字をリストに\n",
    "```\n",
    "3 # n Aの数\n",
    "22 # A1 \n",
    "14 # A2\n",
    "45 # A3\n",
    "\n",
    "n = int(input()) \n",
    "t = [int(input()) for i in range(n)] \n",
    "# t = [22, 14, 45]\n",
    "\n",
    "N = int(input())\n",
    "t = [0] * N\n",
    "x = [0] * N\n",
    "y = [0] * N\n",
    "for i in range(N):\n",
    "    t[i], x[i], y[i] = map(int, input().split())\n",
    "```\n",
    "##### 複数行に複数の数字があるとき\n",
    "```\n",
    "4\n",
    "22 1 45\n",
    "25 53 110\n",
    "4 444 555\n",
    "2 5 0\n",
    "\n",
    "n = int(input())\n",
    "e = [[int(i) for i in input().split()] for i in range(n)] \n",
    "#  [[22, 1, 45], [25, 53, 110], [4, 444, 555], [2, 5, 0]]\n",
    "```"
   ]
  },
  {
   "cell_type": "code",
   "execution_count": null,
   "metadata": {
    "collapsed": true
   },
   "outputs": [],
   "source": []
  }
 ],
 "metadata": {
  "kernelspec": {
   "display_name": "Python 3",
   "language": "python",
   "name": "python3"
  },
  "language_info": {
   "codemirror_mode": {
    "name": "ipython",
    "version": 3
   },
   "file_extension": ".py",
   "mimetype": "text/x-python",
   "name": "python",
   "nbconvert_exporter": "python",
   "pygments_lexer": "ipython3",
   "version": "3.6.3"
  }
 },
 "nbformat": 4,
 "nbformat_minor": 2
}
