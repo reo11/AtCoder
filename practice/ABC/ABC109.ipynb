{
 "cells": [
  {
   "cell_type": "markdown",
   "metadata": {
    "collapsed": true
   },
   "source": [
    "### AtCoder Beginner Contest 109\n",
    "#### https://atcoder.jp/contests/abc109"
   ]
  },
  {
   "cell_type": "code",
   "execution_count": null,
   "metadata": {
    "collapsed": true
   },
   "outputs": [],
   "source": [
    "# test_input Atcoder_URL"
   ]
  },
  {
   "cell_type": "code",
   "execution_count": 3,
   "metadata": {},
   "outputs": [
    {
     "name": "stdout",
     "output_type": "stream",
     "text": [
      "... test case 0 ...\n",
      "<<< 3 1\n",
      "Yes\n",
      "... test case 1 ...\n",
      "<<< 1 2\n",
      "No\n",
      "... test case 2 ...\n",
      "<<< 2 2\n",
      "No\n",
      "\n",
      "========== Report ==========\n",
      "test 0 :       True\n",
      "test 1 :       True\n",
      "test 2 :       True\n"
     ]
    }
   ],
   "source": [
    "%%test_input https://atcoder.jp/contests/abc109/tasks/abc109_a\n",
    "# A\n",
    "A, B = map(int, input().split())\n",
    "\n",
    "if A%2==1 and B%2==1:\n",
    "    print('Yes')\n",
    "else:\n",
    "    print('No')"
   ]
  },
  {
   "cell_type": "code",
   "execution_count": 5,
   "metadata": {},
   "outputs": [
    {
     "name": "stdout",
     "output_type": "stream",
     "text": [
      "... test case 0 ...\n",
      "<<< 4\n",
      "<<< hoge\n",
      "<<< english\n",
      "<<< hoge\n",
      "<<< enigma\n",
      "No\n",
      "... test case 1 ...\n",
      "<<< 9\n",
      "<<< basic\n",
      "<<< c\n",
      "<<< cpp\n",
      "<<< php\n",
      "<<< python\n",
      "<<< nadesico\n",
      "<<< ocaml\n",
      "<<< lua\n",
      "<<< assembly\n",
      "Yes\n",
      "... test case 2 ...\n",
      "<<< 8\n",
      "<<< a\n",
      "<<< aa\n",
      "<<< aaa\n",
      "<<< aaaa\n",
      "<<< aaaaa\n",
      "<<< aaaaaa\n",
      "<<< aaa\n",
      "<<< aaaaaaa\n",
      "No\n",
      "... test case 3 ...\n",
      "<<< 3\n",
      "<<< abc\n",
      "<<< arc\n",
      "<<< agc\n",
      "No\n",
      "\n",
      "========== Report ==========\n",
      "test 0 :       True\n",
      "test 1 :       True\n",
      "test 2 :       True\n",
      "test 3 :       True\n"
     ]
    }
   ],
   "source": [
    "%%test_input https://atcoder.jp/contests/abc109/tasks/abc109_b\n",
    "# B\n",
    "n = int(input()) \n",
    "w = [str(input()) for i in range(n)]\n",
    "output = 'Yes'\n",
    "\n",
    "if len(w) != len(set(w)):\n",
    "    output = 'No'\n",
    "else:\n",
    "    for i in range(1, n):\n",
    "        if w[i][0] != w[i-1][-1]:\n",
    "            output = 'No'\n",
    "            break\n",
    "print(output)"
   ]
  },
  {
   "cell_type": "code",
   "execution_count": 20,
   "metadata": {},
   "outputs": [
    {
     "name": "stdout",
     "output_type": "stream",
     "text": [
      "... test case 0 ...\n",
      "<<< 3 3\n",
      "<<< 1 7 11\n",
      "2\n",
      "... test case 1 ...\n",
      "<<< 3 81\n",
      "<<< 33 105 57\n",
      "24\n",
      "... test case 2 ...\n",
      "<<< 1 1\n",
      "<<< 1000000000\n",
      "999999999\n",
      "\n",
      "========== Report ==========\n",
      "test 0 :       True\n",
      "test 1 :       True\n",
      "test 2 :       True\n"
     ]
    },
    {
     "name": "stderr",
     "output_type": "stream",
     "text": [
      "/Users/reo/.pyenv/versions/anaconda3-5.3.0/lib/python3.6/site-packages/ipykernel_launcher.py:8: DeprecationWarning: fractions.gcd() is deprecated. Use math.gcd() instead.\n",
      "  \n",
      "/Users/reo/.pyenv/versions/anaconda3-5.3.0/lib/python3.6/site-packages/ipykernel_launcher.py:8: DeprecationWarning: fractions.gcd() is deprecated. Use math.gcd() instead.\n",
      "  \n"
     ]
    }
   ],
   "source": [
    "%%test_input https://atcoder.jp/contests/abc109/tasks/abc109_c\n",
    "# C\n",
    "from functools import reduce\n",
    "from fractions import gcd\n",
    "N, X = map(int, input().split())\n",
    "x = list(map(int, input().split()))\n",
    "new_list = list(map(lambda l: abs(l - X), x))\n",
    "new_list.sort()\n",
    "gcd = reduce(gcd, new_list)\n",
    "print(gcd)\n",
    "\n",
    "# min_val = new_list[0]\n",
    "# if all((l % min_val == 0 for l in new_list)):\n",
    "#     print(min_val)\n",
    "# else:\n",
    "#     print(1)"
   ]
  },
  {
   "cell_type": "code",
   "execution_count": 21,
   "metadata": {},
   "outputs": [],
   "source": [
    "%%test_input \n",
    "# D\n",
    "H, W = map(int, input().split())\n",
    "a = [[int(i) for i in input().split()] for i in range(H)]\n"
   ]
  },
  {
   "cell_type": "code",
   "execution_count": null,
   "metadata": {
    "collapsed": true
   },
   "outputs": [],
   "source": [
    "%%test_input \n",
    "# E"
   ]
  },
  {
   "cell_type": "code",
   "execution_count": null,
   "metadata": {
    "collapsed": true
   },
   "outputs": [],
   "source": [
    "%%test_input \n",
    "# F"
   ]
  },
  {
   "cell_type": "code",
   "execution_count": null,
   "metadata": {
    "collapsed": true
   },
   "outputs": [],
   "source": []
  },
  {
   "cell_type": "markdown",
   "metadata": {},
   "source": [
    "#### tester\n",
    "```\n",
    "test_input Atcoder_URL\n",
    "```\n",
    "#### input\n",
    "##### AtCoderで使ってる入力メソッド(Python3)\n",
    "###### https://qiita.com/fmhr/items/77fc453e2fb1bc02e392\n",
    "\n",
    "##### 1行に複数の数字\n",
    "```\n",
    "2 4 5 7\n",
    "a, b, c, d = map(int, input().split())\n",
    "a=2 b=4 c=5 d =7\n",
    "\n",
    "a = list(map(int, input().split()))\n",
    "# a = [2, 4, 5, 6]\n",
    "```\n",
    "##### 複数行の数字をリストに\n",
    "```\n",
    "3 # n Aの数\n",
    "22 # A1 \n",
    "14 # A2\n",
    "45 # A3\n",
    "\n",
    "n = int(input()) \n",
    "t = [int(input()) for i in range(n)] \n",
    "# t = [22, 14, 45]\n",
    "\n",
    "N = int(input())\n",
    "t = [0] * N\n",
    "x = [0] * N\n",
    "y = [0] * N\n",
    "for i in range(N):\n",
    "    t[i], x[i], y[i] = map(int, input().split())\n",
    "```\n",
    "##### 複数行に複数の数字があるとき\n",
    "```\n",
    "4\n",
    "22 1 45\n",
    "25 53 110\n",
    "4 444 555\n",
    "2 5 0\n",
    "\n",
    "n = int(input())\n",
    "e = [[int(i) for i in input().split()] for i in range(n)] \n",
    "#  [[22, 1, 45], [25, 53, 110], [4, 444, 555], [2, 5, 0]]\n",
    "```"
   ]
  },
  {
   "cell_type": "code",
   "execution_count": null,
   "metadata": {
    "collapsed": true
   },
   "outputs": [],
   "source": []
  }
 ],
 "metadata": {
  "kernelspec": {
   "display_name": "Python 3",
   "language": "python",
   "name": "python3"
  },
  "language_info": {
   "codemirror_mode": {
    "name": "ipython",
    "version": 3
   },
   "file_extension": ".py",
   "mimetype": "text/x-python",
   "name": "python",
   "nbconvert_exporter": "python",
   "pygments_lexer": "ipython3",
   "version": "3.6.6"
  }
 },
 "nbformat": 4,
 "nbformat_minor": 2
}
