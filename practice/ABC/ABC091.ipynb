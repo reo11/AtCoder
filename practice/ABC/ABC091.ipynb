{
 "cells": [
  {
   "cell_type": "markdown",
   "metadata": {
    "collapsed": true
   },
   "source": [
    "### AtCoder Beginner Contest 091\n",
    "#### https://atcoder.jp/contests/abc091"
   ]
  },
  {
   "cell_type": "code",
   "execution_count": 2,
   "metadata": {},
   "outputs": [
    {
     "name": "stdout",
     "output_type": "stream",
     "text": [
      "... test case 0 ...\n",
      "<<< 50 100 120\n",
      "Yes\n",
      "... test case 1 ...\n",
      "<<< 500 100 1000\n",
      "No\n",
      "... test case 2 ...\n",
      "<<< 19 123 143\n",
      "No\n",
      "... test case 3 ...\n",
      "<<< 19 123 142\n",
      "Yes\n",
      "\n",
      "========== Report ==========\n",
      "test 0 :       True\n",
      "test 1 :       True\n",
      "test 2 :       True\n",
      "test 3 :       True\n"
     ]
    }
   ],
   "source": [
    "%%test_input https://atcoder.jp/contests/abc091/tasks/abc091_a\n",
    "# A\n",
    "a, b, c = map(int, input().split())\n",
    "\n",
    "if a+b >= c:\n",
    "    print('Yes')\n",
    "else:\n",
    "    print('No')"
   ]
  },
  {
   "cell_type": "code",
   "execution_count": 18,
   "metadata": {},
   "outputs": [
    {
     "name": "stdout",
     "output_type": "stream",
     "text": [
      "... test case 0 ...\n",
      "<<< 3\n",
      "<<< apple\n",
      "<<< orange\n",
      "<<< apple\n",
      "<<< 1\n",
      "<<< grape\n",
      "2\n",
      "... test case 1 ...\n",
      "<<< 3\n",
      "<<< apple\n",
      "<<< orange\n",
      "<<< apple\n",
      "<<< 5\n",
      "<<< apple\n",
      "<<< apple\n",
      "<<< apple\n",
      "<<< apple\n",
      "<<< apple\n",
      "1\n",
      "... test case 2 ...\n",
      "<<< 1\n",
      "<<< voldemort\n",
      "<<< 10\n",
      "<<< voldemort\n",
      "<<< voldemort\n",
      "<<< voldemort\n",
      "<<< voldemort\n",
      "<<< voldemort\n",
      "<<< voldemort\n",
      "<<< voldemort\n",
      "<<< voldemort\n",
      "<<< voldemort\n",
      "<<< voldemort\n",
      "0\n",
      "... test case 3 ...\n",
      "<<< 6\n",
      "<<< red\n",
      "<<< red\n",
      "<<< blue\n",
      "<<< yellow\n",
      "<<< yellow\n",
      "<<< red\n",
      "<<< 5\n",
      "<<< red\n",
      "<<< red\n",
      "<<< yellow\n",
      "<<< green\n",
      "<<< blue\n",
      "1\n",
      "\n",
      "========== Report ==========\n",
      "test 0 :       True\n",
      "test 1 :       True\n",
      "test 2 :       True\n",
      "test 3 :       True\n"
     ]
    }
   ],
   "source": [
    "%%test_input https://atcoder.jp/contests/abc091/tasks/abc091_b\n",
    "# B\n",
    "n = int(input()) \n",
    "s = [str(input()) for i in range(n)] \n",
    "m = int(input()) \n",
    "t = [str(input()) for i in range(m)]\n",
    "ans = []\n",
    "for string in list(set(s)):\n",
    "    ans.append(s.count(string) - t.count(string))\n",
    "if max(ans) < 0:\n",
    "    print(0)\n",
    "else:\n",
    "    print(max(ans))"
   ]
  },
  {
   "cell_type": "code",
   "execution_count": null,
   "metadata": {
    "collapsed": true
   },
   "outputs": [],
   "source": [
    "%%test_input https://atcoder.jp/contests/abc091/tasks/arc092_a\n",
    "# C\n",
    "n = int(input()) \n",
    "a = [0] * n\n",
    "b = [0] * n\n",
    "c = [0] * n\n",
    "d = [0] * n\n",
    "for i in range(n):\n",
    "    a[i], b[i] = map(int, input().split())\n",
    "for i in range(n):\n",
    "    c[i], d[i] = map(int, input().split())\n"
   ]
  },
  {
   "cell_type": "code",
   "execution_count": null,
   "metadata": {
    "collapsed": true
   },
   "outputs": [],
   "source": [
    "%%test_input \n",
    "# D"
   ]
  },
  {
   "cell_type": "code",
   "execution_count": null,
   "metadata": {
    "collapsed": true
   },
   "outputs": [],
   "source": []
  },
  {
   "cell_type": "markdown",
   "metadata": {},
   "source": [
    "```\n",
    "2 4 5 7\n",
    "a, b, c, d = map(int, input().split())\n",
    "a=2 b=4 c=5 d =7\n",
    "\n",
    "a = list(map(int, input().split()))\n",
    "# a = [2, 4, 5, 6]\n",
    "```\n",
    "##### 複数行の数字をリストに\n",
    "```\n",
    "3 # n Aの数\n",
    "22 # A1 \n",
    "14 # A2\n",
    "45 # A3\n",
    "\n",
    "n = int(input()) \n",
    "t = [int(input()) for i in range(n)] \n",
    "# t = [22, 14, 45]\n",
    "\n",
    "N = int(input())\n",
    "t = [0] * N\n",
    "x = [0] * N\n",
    "y = [0] * N\n",
    "for i in range(N):\n",
    "    t[i], x[i], y[i] = map(int, input().split())\n",
    "```\n",
    "##### 複数行に複数の数字があるとき\n",
    "```\n",
    "4\n",
    "22 1 45\n",
    "25 53 110\n",
    "4 444 555\n",
    "2 5 0\n",
    "\n",
    "n = int(input())\n",
    "e = [[int(i) for i in input().split()] for i in range(n)] \n",
    "#  [[22, 1, 45], [25, 53, 110], [4, 444, 555], [2, 5, 0]]\n",
    "```"
   ]
  },
  {
   "cell_type": "code",
   "execution_count": null,
   "metadata": {
    "collapsed": true
   },
   "outputs": [],
   "source": []
  }
 ],
 "metadata": {
  "kernelspec": {
   "display_name": "Python 3",
   "language": "python",
   "name": "python3"
  },
  "language_info": {
   "codemirror_mode": {
    "name": "ipython",
    "version": 3
   },
   "file_extension": ".py",
   "mimetype": "text/x-python",
   "name": "python",
   "nbconvert_exporter": "python",
   "pygments_lexer": "ipython3",
   "version": "3.6.3"
  }
 },
 "nbformat": 4,
 "nbformat_minor": 2
}
