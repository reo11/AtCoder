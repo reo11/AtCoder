{
 "cells": [
  {
   "cell_type": "code",
   "execution_count": 2,
   "metadata": {},
   "outputs": [
    {
     "name": "stdout",
     "output_type": "stream",
     "text": [
      "1 3\n",
      "2\n"
     ]
    }
   ],
   "source": [
    "# A\n",
    "a, b = map(int, input().split())\n",
    "import math\n",
    "print(math.ceil((a+b)/2))"
   ]
  },
  {
   "cell_type": "code",
   "execution_count": 20,
   "metadata": {},
   "outputs": [
    {
     "name": "stdout",
     "output_type": "stream",
     "text": [
      "... test case 0 ...\n",
      "<<< yx\n",
      "<<< axy\n",
      "Yes\n",
      "... test case 1 ...\n",
      "<<< ratcode\n",
      "<<< atlas\n",
      "Yes\n",
      "... test case 2 ...\n",
      "<<< cd\n",
      "<<< abc\n",
      "No\n",
      "... test case 3 ...\n",
      "<<< w\n",
      "<<< ww\n",
      "Yes\n",
      "... test case 4 ...\n",
      "<<< zzz\n",
      "<<< zzz\n",
      "No\n",
      "\n",
      "========== Report ==========\n",
      "test 0 :       True\n",
      "test 1 :       True\n",
      "test 2 :       True\n",
      "test 3 :       True\n",
      "test 4 :       True\n"
     ]
    }
   ],
   "source": [
    "%%test_input https://atcoder.jp/contests/abc082/tasks/abc082_b\n",
    "#B\n",
    "import collections\n",
    "\n",
    "s = str(input())\n",
    "t = str(input())\n",
    "sd = list(s)\n",
    "td = list(t)\n",
    "sd.sort()\n",
    "td.sort(reverse=True)\n",
    "a = ''\n",
    "b = ''\n",
    "for c in sd:\n",
    "    a += c\n",
    "for c in td:\n",
    "    b += c\n",
    "if sd < td:\n",
    "    print('Yes')\n",
    "else:\n",
    "    print('No')"
   ]
  },
  {
   "cell_type": "code",
   "execution_count": 13,
   "metadata": {},
   "outputs": [
    {
     "data": {
      "text/plain": [
       "'b'"
      ]
     },
     "execution_count": 13,
     "metadata": {},
     "output_type": "execute_result"
    }
   ],
   "source": []
  },
  {
   "cell_type": "code",
   "execution_count": null,
   "metadata": {},
   "outputs": [],
   "source": []
  }
 ],
 "metadata": {
  "kernelspec": {
   "display_name": "Python 3",
   "language": "python",
   "name": "python3"
  },
  "language_info": {
   "codemirror_mode": {
    "name": "ipython",
    "version": 3
   },
   "file_extension": ".py",
   "mimetype": "text/x-python",
   "name": "python",
   "nbconvert_exporter": "python",
   "pygments_lexer": "ipython3",
   "version": "3.6.6"
  }
 },
 "nbformat": 4,
 "nbformat_minor": 2
}
