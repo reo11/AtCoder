{
 "cells": [
  {
   "cell_type": "code",
   "execution_count": 2,
   "metadata": {},
   "outputs": [
    {
     "name": "stdout",
     "output_type": "stream",
     "text": [
      "... test case 0 ...\n",
      "<<< 1234\n",
      "<<< 150\n",
      "<<< 100\n",
      "84\n",
      "... test case 1 ...\n",
      "<<< 1000\n",
      "<<< 108\n",
      "<<< 108\n",
      "28\n",
      "... test case 2 ...\n",
      "<<< 579\n",
      "<<< 123\n",
      "<<< 456\n",
      "0\n",
      "... test case 3 ...\n",
      "<<< 7477\n",
      "<<< 549\n",
      "<<< 593\n",
      "405\n",
      "\n",
      "========== Report ==========\n",
      "test 0 :       True\n",
      "test 1 :       True\n",
      "test 2 :       True\n",
      "test 3 :       True\n"
     ]
    }
   ],
   "source": [
    "%%test_input https://atcoder.jp/contests/abc087/tasks/abc087_a\n",
    "# A\n",
    "x = int(input())\n",
    "a = int(input())\n",
    "b = int(input())\n",
    "print((x-a)%b)"
   ]
  },
  {
   "cell_type": "code",
   "execution_count": 2,
   "metadata": {},
   "outputs": [
    {
     "name": "stdout",
     "output_type": "stream",
     "text": [
      "... test case 0 ...\n",
      "<<< 2\n",
      "<<< 2\n",
      "<<< 2\n",
      "<<< 100\n",
      "2\n",
      "... test case 1 ...\n",
      "<<< 5\n",
      "<<< 1\n",
      "<<< 0\n",
      "<<< 150\n",
      "0\n",
      "... test case 2 ...\n",
      "<<< 30\n",
      "<<< 40\n",
      "<<< 50\n",
      "<<< 6000\n",
      "213\n",
      "\n",
      "========== Report ==========\n",
      "test 0 :       True\n",
      "test 1 :       True\n",
      "test 2 :       True\n"
     ]
    }
   ],
   "source": [
    "%%test_input https://atcoder.jp/contests/abc087/tasks/abc087_b\n",
    "# B\n",
    "a = int(input())\n",
    "b = int(input())\n",
    "c = int(input())\n",
    "x = int(input())\n",
    "count = 0\n",
    "for i in range(a+1):\n",
    "    for j in range(b+1):\n",
    "        k = x - i*500 - j*100\n",
    "        if k >= 0 and k // 50 <= c:\n",
    "            count += 1\n",
    "print(count)"
   ]
  },
  {
   "cell_type": "code",
   "execution_count": 4,
   "metadata": {},
   "outputs": [
    {
     "name": "stdout",
     "output_type": "stream",
     "text": [
      "... test case 0 ...\n",
      "<<< 5\n",
      "<<< 3 2 2 4 1\n",
      "<<< 1 2 2 2 1\n",
      "14\n",
      "... test case 1 ...\n",
      "<<< 4\n",
      "<<< 1 1 1 1\n",
      "<<< 1 1 1 1\n",
      "5\n",
      "... test case 2 ...\n",
      "<<< 7\n",
      "<<< 3 3 4 5 4 5 3\n",
      "<<< 5 3 4 4 2 3 2\n",
      "29\n",
      "... test case 3 ...\n",
      "<<< 1\n",
      "<<< 2\n",
      "<<< 3\n",
      "5\n",
      "\n",
      "========== Report ==========\n",
      "test 0 :       True\n",
      "test 1 :       True\n",
      "test 2 :       True\n",
      "test 3 :       True\n"
     ]
    }
   ],
   "source": [
    "%%test_input https://atcoder.jp/contests/abc087/tasks/arc090_a\n",
    "# C\n",
    "n = int(input())\n",
    "a1 = list(map(int, input().split()))\n",
    "a2 = list(map(int, input().split()))\n",
    "\n",
    "max_candy = 0\n",
    "for i in range(n):\n",
    "    candy = sum(a1[0:i+1]) + sum(a2[i:n])\n",
    "    if max_candy < candy:\n",
    "        max_candy = candy\n",
    "print(max_candy)"
   ]
  },
  {
   "cell_type": "code",
   "execution_count": null,
   "metadata": {},
   "outputs": [],
   "source": [
    "%%test_input https://atcoder.jp/contests/abc087/tasks/arc090_b\n",
    "# D\n",
    "# n, m = map(int, input().split())\n",
    "# # info = (L, R, D)\n",
    "# info = [[int(i) for i in input().split()] for i in range(n)] \n",
    "class UnionFindTree:\n",
    "    def __init__(self, size):\n",
    "        self.parent = list(range(size))\n",
    "        self.dist = [0] * size\n",
    "\n",
    "    def find_root(self, x):\n",
    "        if self.parent[x] == x:\n",
    "            return x, 0\n",
    "        else:\n",
    "            self.parent[x], d = self.find_root(self.parent[x])\n",
    "            self.dist[x] += d\n",
    "            return self.parent[x], self.dist[x]\n",
    "\n",
    "    def union(self, x, y, d):\n",
    "        r1, d1 = self.find_root(x)\n",
    "        r2, d2 = self.find_root(y)\n",
    "        if r1 != r2:\n",
    "            self.parent[r2] = r1\n",
    "            self.dist[r2] = (d1 - d2) + d\n",
    "        else:\n",
    "            if (d2 - d1) != d:\n",
    "                return False\n",
    "        return True\n",
    "\n",
    "def main():\n",
    "    n, m = map(int, input().split())\n",
    "    tree = UnionFindTree(n+1)\n",
    "    for i in range(m):\n",
    "        l, r, d = map(int, input().split())\n",
    "        if not tree.union(l, r, d):\n",
    "            print('No')\n",
    "            return\n",
    "    print('Yes')\n",
    "\n",
    "main()\n",
    "\n"
   ]
  }
 ],
 "metadata": {
  "kernelspec": {
   "display_name": "Python 3",
   "language": "python",
   "name": "python3"
  }
 },
 "nbformat": 4,
 "nbformat_minor": 2
}
