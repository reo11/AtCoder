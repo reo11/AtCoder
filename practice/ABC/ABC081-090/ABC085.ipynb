{
 "cells": [
  {
   "cell_type": "code",
   "execution_count": 1,
   "metadata": {},
   "outputs": [
    {
     "name": "stdout",
     "output_type": "stream",
     "text": [
      "2017/01/08\n",
      "2018/01/08\n"
     ]
    }
   ],
   "source": [
    "# A\n",
    "s = str(input())\n",
    "print('2018' + s[4:])"
   ]
  },
  {
   "cell_type": "code",
   "execution_count": null,
   "metadata": {},
   "outputs": [],
   "source": [
    "# B\n",
    "n = int(input())\n",
    "d = [0] * n\n",
    "for i in range(n):\n",
    "    d[i] = int(input())\n",
    "d = list(set(d))\n",
    "print(len(d))"
   ]
  },
  {
   "cell_type": "code",
   "execution_count": 4,
   "metadata": {},
   "outputs": [
    {
     "name": "stdout",
     "output_type": "stream",
     "text": [
      "2000 20000000\n",
      "2000 0 0\n"
     ]
    }
   ],
   "source": [
    "# C\n",
    "n, y = map(int, input().split())\n",
    "ans = False\n",
    "x = [0] * 3\n",
    "for i in range(n+1):\n",
    "    for j in range(n-i+1):\n",
    "        k = n - i - j\n",
    "        if i*10000 + j*5000 + k*1000 == y:\n",
    "            ans = True\n",
    "            x = [i, j, k]\n",
    "            break\n",
    "    if ans:\n",
    "        break\n",
    "if ans:\n",
    "    print(\"{} {} {}\".format(x[0], x[1], x[2]))\n",
    "else:\n",
    "    print('-1 -1 -1')\n",
    "            "
   ]
  },
  {
   "cell_type": "code",
   "execution_count": 7,
   "metadata": {},
   "outputs": [
    {
     "name": "stdout",
     "output_type": "stream",
     "text": [
      "... test case 0 ...\n",
      "<<< 1 10\n",
      "<<< 3 5\n",
      "3\n",
      "... test case 1 ...\n",
      "<<< 2 10\n",
      "<<< 3 5\n",
      "<<< 2 6\n",
      "2\n",
      "... test case 2 ...\n",
      "<<< 4 1000000000\n",
      "<<< 1 1\n",
      "<<< 1 10000000\n",
      "<<< 1 30000000\n",
      "<<< 1 99999999\n",
      "860000004\n",
      "... test case 3 ...\n",
      "<<< 5 500\n",
      "<<< 35 44\n",
      "<<< 28 83\n",
      "<<< 46 62\n",
      "<<< 31 79\n",
      "<<< 40 43\n",
      "9\n",
      "\n",
      "========== Report ==========\n",
      "test 0 :       True\n",
      "test 1 :       True\n",
      "test 2 :       True\n",
      "test 3 :       True\n"
     ]
    }
   ],
   "source": [
    "%%test_input https://atcoder.jp/contests/abc085/tasks/abc085_d\n",
    "# D\n",
    "import math\n",
    "n, h = map(int, input().split())\n",
    "max_a = 0\n",
    "a = [0] * n\n",
    "b = [0] * n\n",
    "for i in range(n):\n",
    "    a[i], b[i] = map(int, input().split())\n",
    "    if max_a < a[i]:\n",
    "        max_a = a[i]\n",
    "throw = []\n",
    "for i in range(n):\n",
    "    if b[i] > max_a:\n",
    "        throw.append(b[i])\n",
    "throw.sort(reverse=True)\n",
    "damage = 0\n",
    "count = 0\n",
    "for i in range(len(throw)):\n",
    "    damage += throw[i]\n",
    "    count += 1\n",
    "    if damage >= h:\n",
    "        break\n",
    "if damage < h:\n",
    "    count += math.ceil((h - damage) / max_a)\n",
    "print(count)"
   ]
  },
  {
   "cell_type": "code",
   "execution_count": null,
   "metadata": {},
   "outputs": [],
   "source": []
  }
 ],
 "metadata": {
  "kernelspec": {
   "display_name": "Python 3",
   "language": "python",
   "name": "python3"
  },
  "language_info": {
   "codemirror_mode": {
    "name": "ipython",
    "version": 3
   },
   "file_extension": ".py",
   "mimetype": "text/x-python",
   "name": "python",
   "nbconvert_exporter": "python",
   "pygments_lexer": "ipython3",
   "version": "3.6.6"
  }
 },
 "nbformat": 4,
 "nbformat_minor": 2
}
