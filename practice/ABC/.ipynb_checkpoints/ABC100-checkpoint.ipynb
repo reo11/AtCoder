{
 "cells": [
  {
   "cell_type": "markdown",
   "metadata": {
    "collapsed": true
   },
   "source": [
    "### Atcoder \n",
    "#### URL"
   ]
  },
  {
   "cell_type": "code",
   "execution_count": null,
   "metadata": {
    "collapsed": true
   },
   "outputs": [],
   "source": [
    "# test_input Atcoder_URL"
   ]
  },
  {
   "cell_type": "code",
   "execution_count": 3,
   "metadata": {},
   "outputs": [
    {
     "name": "stdout",
     "output_type": "stream",
     "text": [
      "... test case 0 ...\n",
      "<<< 5 4\n",
      "Yay!\n",
      "... test case 1 ...\n",
      "<<< 8 8\n",
      "Yay!\n",
      "... test case 2 ...\n",
      "<<< 11 4\n",
      ":(\n",
      "\n",
      "========== Report ==========\n",
      "test 0 :       True\n",
      "test 1 :       True\n",
      "test 2 :       True\n"
     ]
    }
   ],
   "source": [
    "%%test_input https://atcoder.jp/contests/abc100/tasks/abc100_a\n",
    "# A\n",
    "a, b = map(int, input().split())\n",
    "\n",
    "if a <= 8 and b <= 8:\n",
    "    print('Yay!')\n",
    "else:\n",
    "    print(':(')"
   ]
  },
  {
   "cell_type": "code",
   "execution_count": 5,
   "metadata": {},
   "outputs": [
    {
     "name": "stdout",
     "output_type": "stream",
     "text": [
      "... test case 0 ...\n",
      "<<< 0 5\n",
      "5\n",
      "... test case 1 ...\n",
      "<<< 1 11\n",
      "1100\n",
      "... test case 2 ...\n",
      "<<< 2 85\n",
      "850000\n",
      "\n",
      "========== Report ==========\n",
      "test 0 :       True\n",
      "test 1 :       True\n",
      "test 2 :       True\n"
     ]
    }
   ],
   "source": [
    "%%test_input https://atcoder.jp/contests/abc100/tasks/abc100_b\n",
    "# B\n",
    "d, n = map(int, input().split())\n",
    "if n != 100:\n",
    "    print(100**d * n)\n",
    "else:\n",
    "    print(100**d * (n+1))"
   ]
  },
  {
   "cell_type": "code",
   "execution_count": 6,
   "metadata": {},
   "outputs": [
    {
     "name": "stdout",
     "output_type": "stream",
     "text": [
      "... test case 0 ...\n",
      "<<< 3\n",
      "<<< 5 2 4\n",
      "3\n",
      "... test case 1 ...\n",
      "<<< 4\n",
      "<<< 631 577 243 199\n",
      "0\n",
      "... test case 2 ...\n",
      "<<< 10\n",
      "<<< 2184 2126 1721 1800 1024 2528 3360 1945 1280 1776\n",
      "39\n",
      "\n",
      "========== Report ==========\n",
      "test 0 :       True\n",
      "test 1 :       True\n",
      "test 2 :       True\n"
     ]
    }
   ],
   "source": [
    "%%test_input https://atcoder.jp/contests/abc100/tasks/abc100_c\n",
    "# C\n",
    "n = int(input()) \n",
    "a = list(map(int, input().split()))\n",
    "count = 0\n",
    "for value in a:\n",
    "    while True:\n",
    "        if value % 2 == 0:\n",
    "            count += 1\n",
    "            value /= 2\n",
    "            continue\n",
    "        else:\n",
    "            break\n",
    "print(count)"
   ]
  },
  {
   "cell_type": "code",
   "execution_count": 20,
   "metadata": {},
   "outputs": [
    {
     "name": "stdout",
     "output_type": "stream",
     "text": [
      "... test case 0 ...\n",
      "<<< 5 3\n",
      "<<< 3 1 4\n",
      "<<< 1 5 9\n",
      "<<< 2 6 5\n",
      "<<< 3 5 8\n",
      "<<< 9 7 9\n",
      "56\n",
      "... test case 1 ...\n",
      "<<< 5 3\n",
      "<<< 1 -2 3\n",
      "<<< -4 5 -6\n",
      "<<< 7 -8 -9\n",
      "<<< -10 11 -12\n",
      "<<< 13 -14 15\n",
      "54\n",
      "... test case 2 ...\n",
      "<<< 10 5\n",
      "<<< 10 -80 21\n",
      "<<< 23 8 38\n",
      "<<< -94 28 11\n",
      "<<< -26 -2 18\n",
      "<<< -69 72 79\n",
      "<<< -26 -86 -54\n",
      "<<< -72 -50 59\n",
      "<<< 21 65 -32\n",
      "<<< 40 -94 87\n",
      "<<< -62 18 82\n",
      "638\n",
      "... test case 3 ...\n",
      "<<< 3 2\n",
      "<<< 2000000000 -9000000000 4000000000\n",
      "<<< 7000000000 -5000000000 3000000000\n",
      "<<< 6000000000 -1000000000 8000000000\n",
      "30000000000\n",
      "\n",
      "========== Report ==========\n",
      "test 0 :       True\n",
      "test 1 :       True\n",
      "test 2 :       True\n",
      "test 3 :       True\n"
     ]
    }
   ],
   "source": [
    "%%test_input https://atcoder.jp/contests/abc100/tasks/abc100_d\n",
    "# D\n",
    "n, m = map(int, input().split())\n",
    "\n",
    "X = [[int(i) for i in input().split()] for i in range(n)]\n",
    "# 8パターン探索する\n",
    "x_list = [[] for i in range(8)]\n",
    "ans_list = []\n",
    "\n",
    "for x,y,z in X:\n",
    "    x_list[0].append(x+y+z)\n",
    "    x_list[1].append(x+y-z)\n",
    "    x_list[2].append(x-y+z)\n",
    "    x_list[3].append(x-y-z)\n",
    "    x_list[4].append(-x+y+z)\n",
    "    x_list[5].append(-x+y-z)\n",
    "    x_list[6].append(-x-y+z)\n",
    "    x_list[7].append(-x-y-z)\n",
    "for i in range(8):\n",
    "    x_list[i].sort(reverse=True)\n",
    "    ans_list.append(sum(x_list[i][:m]))\n",
    "print(max(ans_list))"
   ]
  },
  {
   "cell_type": "code",
   "execution_count": null,
   "metadata": {
    "collapsed": true
   },
   "outputs": [],
   "source": [
    "%%test_input \n",
    "# E"
   ]
  },
  {
   "cell_type": "code",
   "execution_count": null,
   "metadata": {
    "collapsed": true
   },
   "outputs": [],
   "source": [
    "%%test_input \n",
    "# F"
   ]
  },
  {
   "cell_type": "code",
   "execution_count": null,
   "metadata": {
    "collapsed": true
   },
   "outputs": [],
   "source": []
  },
  {
   "cell_type": "markdown",
   "metadata": {},
   "source": [
    "#### tester\n",
    "```\n",
    "test_input Atcoder_URL\n",
    "```\n",
    "#### input\n",
    "##### AtCoderで使ってる入力メソッド(Python3)\n",
    "###### https://qiita.com/fmhr/items/77fc453e2fb1bc02e392\n",
    "\n",
    "##### 1行に複数の数字\n",
    "```\n",
    "2 4 5 7\n",
    "a, b, c, d = map(int, input().split())\n",
    "a=2 b=4 c=5 d =7\n",
    "\n",
    "a = list(map(int, input().split()))\n",
    "# a = [2, 4, 5, 6]\n",
    "```\n",
    "##### 複数行の数字をリストに\n",
    "```\n",
    "3 # n Aの数\n",
    "22 # A1 \n",
    "14 # A2\n",
    "45 # A3\n",
    "\n",
    "n = int(input()) \n",
    "t = [int(input()) for i in range(n)] \n",
    "# t = [22, 14, 45]\n",
    "\n",
    "N = int(input())\n",
    "t = [0] * N\n",
    "x = [0] * N\n",
    "y = [0] * N\n",
    "for i in range(N):\n",
    "    t[i], x[i], y[i] = map(int, input().split())\n",
    "```\n",
    "##### 複数行に複数の数字があるとき\n",
    "```\n",
    "4\n",
    "22 1 45\n",
    "25 53 110\n",
    "4 444 555\n",
    "2 5 0\n",
    "\n",
    "n = int(input())\n",
    "e = [[int(i) for i in input().split()] for i in range(n)] \n",
    "#  [[22, 1, 45], [25, 53, 110], [4, 444, 555], [2, 5, 0]]\n",
    "```"
   ]
  },
  {
   "cell_type": "code",
   "execution_count": null,
   "metadata": {
    "collapsed": true
   },
   "outputs": [],
   "source": []
  }
 ],
 "metadata": {
  "kernelspec": {
   "display_name": "Python 3",
   "language": "python",
   "name": "python3"
  },
  "language_info": {
   "codemirror_mode": {
    "name": "ipython",
    "version": 3
   },
   "file_extension": ".py",
   "mimetype": "text/x-python",
   "name": "python",
   "nbconvert_exporter": "python",
   "pygments_lexer": "ipython3",
   "version": "3.6.3"
  }
 },
 "nbformat": 4,
 "nbformat_minor": 2
}
