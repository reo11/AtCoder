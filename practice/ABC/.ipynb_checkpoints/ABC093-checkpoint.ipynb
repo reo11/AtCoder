{
 "cells": [
  {
   "cell_type": "markdown",
   "metadata": {
    "collapsed": true
   },
   "source": [
    "### AtCoder Beginner Contest 093\n",
    "#### https://atcoder.jp/contests/abc093"
   ]
  },
  {
   "cell_type": "code",
   "execution_count": null,
   "metadata": {
    "collapsed": true
   },
   "outputs": [],
   "source": [
    "# test_input Atcoder_URL"
   ]
  },
  {
   "cell_type": "code",
   "execution_count": 1,
   "metadata": {},
   "outputs": [
    {
     "name": "stdout",
     "output_type": "stream",
     "text": [
      "... test case 0 ...\n",
      "<<< bac\n",
      "Yes\n",
      "... test case 1 ...\n",
      "<<< bab\n",
      "No\n",
      "... test case 2 ...\n",
      "<<< abc\n",
      "Yes\n",
      "... test case 3 ...\n",
      "<<< aaa\n",
      "No\n",
      "\n",
      "========== Report ==========\n",
      "test 0 :       True\n",
      "test 1 :       True\n",
      "test 2 :       True\n",
      "test 3 :       True\n"
     ]
    }
   ],
   "source": [
    "%%test_input https://atcoder.jp/contests/abc093/tasks/abc093_a\n",
    "# A\n",
    "s = list(str(input()))\n",
    "\n",
    "if 'a' in s and 'b' in s and 'c' in s:\n",
    "    print('Yes')\n",
    "else:\n",
    "    print('No')"
   ]
  },
  {
   "cell_type": "code",
   "execution_count": 4,
   "metadata": {},
   "outputs": [
    {
     "name": "stdout",
     "output_type": "stream",
     "text": [
      "... test case 0 ...\n",
      "<<< 3 8 2\n",
      "3\n",
      "4\n",
      "7\n",
      "8\n",
      "... test case 1 ...\n",
      "<<< 4 8 3\n",
      "4\n",
      "5\n",
      "6\n",
      "7\n",
      "8\n",
      "... test case 2 ...\n",
      "<<< 2 9 100\n",
      "2\n",
      "3\n",
      "4\n",
      "5\n",
      "6\n",
      "7\n",
      "8\n",
      "9\n",
      "\n",
      "========== Report ==========\n",
      "test 0 :       True\n",
      "test 1 :       True\n",
      "test 2 :       True\n"
     ]
    }
   ],
   "source": [
    "%%test_input https://atcoder.jp/contests/abc093/tasks/abc093_b\n",
    "# B\n",
    "a, b, k = map(int, input().split())\n",
    "ans_list = []\n",
    "for i in range(a, a+k):\n",
    "    if i <= b:\n",
    "        ans_list.append(i)\n",
    "for i in range(b-k+1, b+1):\n",
    "    if i >= a:\n",
    "        ans_list.append(i)\n",
    "ans_list = list(set(ans_list))\n",
    "ans_list.sort()\n",
    "\n",
    "for i in ans_list:\n",
    "    print(i)"
   ]
  },
  {
   "cell_type": "code",
   "execution_count": 18,
   "metadata": {},
   "outputs": [
    {
     "name": "stdout",
     "output_type": "stream",
     "text": [
      "... test case 0 ...\n",
      "<<< 2 5 4\n",
      "2\n",
      "... test case 1 ...\n",
      "<<< 2 6 3\n",
      "5\n",
      "... test case 2 ...\n",
      "<<< 31 41 5\n",
      "23\n",
      "\n",
      "========== Report ==========\n",
      "test 0 :       True\n",
      "test 1 :       True\n",
      "test 2 :       True\n"
     ]
    }
   ],
   "source": [
    "%%test_input https://atcoder.jp/contests/abc093/tasks/arc094_a\n",
    "# C\n",
    "a = list(map(int, input().split()))\n",
    "m = max(a)\n",
    "if sum(a) % 2 == m % 2:\n",
    "    ans = (3*m - sum(a))/2\n",
    "else:\n",
    "    ans = (3*(m+1) - sum(a))/2\n",
    "print(int(ans))\n",
    "\n"
   ]
  },
  {
   "cell_type": "code",
   "execution_count": 16,
   "metadata": {},
   "outputs": [
    {
     "name": "stdout",
     "output_type": "stream",
     "text": [
      "... test case 0 ...\n",
      "<<< 8\n",
      "<<< 1 4\n",
      "<<< 10 5\n",
      "<<< 3 3\n",
      "<<< 4 11\n",
      "<<< 8 9\n",
      "<<< 22 40\n",
      "<<< 8 36\n",
      "<<< 314159265 358979323\n",
      "1\n",
      "12\n",
      "4\n",
      "11\n",
      "14\n",
      "57\n",
      "31\n",
      "671644785\n",
      "\n",
      "========== Report ==========\n",
      "test 0 :       True\n"
     ]
    }
   ],
   "source": [
    "%%test_input https://atcoder.jp/contests/abc093/tasks/arc094_b\n",
    "# D\n",
    "q = int(input())\n",
    "\n",
    "a = [0] * q\n",
    "b = [0] * q\n",
    "for i in range(q):\n",
    "    a[i], b[i] = map(int, input().split())\n",
    "\n",
    "for i in range(q):\n",
    "    k=min(a[i],b[i])\n",
    "    score=a[i]*b[i]\n",
    "    sqrt=int(score**0.5)\n",
    "    if abs(a[i]-b[i])<=1:\n",
    "        ans=(k-1)*2\n",
    "    elif sqrt**2==score:\n",
    "        ans=sqrt*2-3\n",
    "    elif sqrt*(sqrt+1)>=score:\n",
    "        ans=(sqrt-1)*2\n",
    "    else:\n",
    "        ans=sqrt*2-1\n",
    "    print(ans)"
   ]
  },
  {
   "cell_type": "code",
   "execution_count": null,
   "metadata": {
    "collapsed": true
   },
   "outputs": [],
   "source": [
    "%%test_input \n",
    "# E"
   ]
  },
  {
   "cell_type": "code",
   "execution_count": null,
   "metadata": {
    "collapsed": true
   },
   "outputs": [],
   "source": [
    "%%test_input \n",
    "# F"
   ]
  },
  {
   "cell_type": "code",
   "execution_count": null,
   "metadata": {
    "collapsed": true
   },
   "outputs": [],
   "source": []
  },
  {
   "cell_type": "markdown",
   "metadata": {},
   "source": [
    "#### tester\n",
    "```\n",
    "test_input Atcoder_URL\n",
    "```\n",
    "#### input\n",
    "##### AtCoderで使ってる入力メソッド(Python3)\n",
    "###### https://qiita.com/fmhr/items/77fc453e2fb1bc02e392\n",
    "\n",
    "##### 1行に複数の数字\n",
    "```\n",
    "2 4 5 7\n",
    "a, b, c, d = map(int, input().split())\n",
    "a=2 b=4 c=5 d =7\n",
    "\n",
    "a = list(map(int, input().split()))\n",
    "# a = [2, 4, 5, 6]\n",
    "```\n",
    "##### 複数行の数字をリストに\n",
    "```\n",
    "3 # n Aの数\n",
    "22 # A1 \n",
    "14 # A2\n",
    "45 # A3\n",
    "\n",
    "n = int(input()) \n",
    "t = [int(input()) for i in range(n)] \n",
    "# t = [22, 14, 45]\n",
    "\n",
    "N = int(input())\n",
    "t = [0] * N\n",
    "x = [0] * N\n",
    "y = [0] * N\n",
    "for i in range(N):\n",
    "    t[i], x[i], y[i] = map(int, input().split())\n",
    "```\n",
    "##### 複数行に複数の数字があるとき\n",
    "```\n",
    "4\n",
    "22 1 45\n",
    "25 53 110\n",
    "4 444 555\n",
    "2 5 0\n",
    "\n",
    "n = int(input())\n",
    "e = [[int(i) for i in input().split()] for i in range(n)] \n",
    "#  [[22, 1, 45], [25, 53, 110], [4, 444, 555], [2, 5, 0]]\n",
    "```"
   ]
  },
  {
   "cell_type": "code",
   "execution_count": null,
   "metadata": {
    "collapsed": true
   },
   "outputs": [],
   "source": []
  }
 ],
 "metadata": {
  "kernelspec": {
   "display_name": "Python 3",
   "language": "python",
   "name": "python3"
  },
  "language_info": {
   "codemirror_mode": {
    "name": "ipython",
    "version": 3
   },
   "file_extension": ".py",
   "mimetype": "text/x-python",
   "name": "python",
   "nbconvert_exporter": "python",
   "pygments_lexer": "ipython3",
   "version": "3.6.3"
  }
 },
 "nbformat": 4,
 "nbformat_minor": 2
}
