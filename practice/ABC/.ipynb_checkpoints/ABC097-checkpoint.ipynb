{
 "cells": [
  {
   "cell_type": "markdown",
   "metadata": {
    "collapsed": true
   },
   "source": [
    "### Atcoder \n",
    "#### URL"
   ]
  },
  {
   "cell_type": "code",
   "execution_count": null,
   "metadata": {
    "collapsed": true
   },
   "outputs": [],
   "source": [
    "# test_input Atcoder_URL"
   ]
  },
  {
   "cell_type": "code",
   "execution_count": 4,
   "metadata": {},
   "outputs": [
    {
     "name": "stdout",
     "output_type": "stream",
     "text": [
      "... test case 0 ...\n",
      "<<< 4 7 9 3\n",
      "Yes\n",
      "... test case 1 ...\n",
      "<<< 100 10 1 2\n",
      "No\n",
      "... test case 2 ...\n",
      "<<< 10 10 10 1\n",
      "Yes\n",
      "... test case 3 ...\n",
      "<<< 1 100 2 10\n",
      "Yes\n",
      "\n",
      "========== Report ==========\n",
      "test 0 :       True\n",
      "test 1 :       True\n",
      "test 2 :       True\n",
      "test 3 :       True\n"
     ]
    }
   ],
   "source": [
    "%%test_input https://atcoder.jp/contests/abc097/tasks/abc097_a\n",
    "# A\n",
    "a, b, c, d = map(int, input().split())\n",
    "\n",
    "if (abs(c-b) <= d and abs(b-a) <= d) or abs(c-a) <= d:\n",
    "    print('Yes')\n",
    "else:\n",
    "    print('No')"
   ]
  },
  {
   "cell_type": "code",
   "execution_count": 5,
   "metadata": {},
   "outputs": [
    {
     "name": "stdout",
     "output_type": "stream",
     "text": [
      "... test case 0 ...\n",
      "<<< 10\n",
      "9\n",
      "... test case 1 ...\n",
      "<<< 1\n",
      "1\n",
      "... test case 2 ...\n",
      "<<< 999\n",
      "961\n",
      "\n",
      "========== Report ==========\n",
      "test 0 :       True\n",
      "test 1 :       True\n",
      "test 2 :       True\n"
     ]
    }
   ],
   "source": [
    "%%test_input https://atcoder.jp/contests/abc097/tasks/abc097_b\n",
    "# B\n",
    "import numpy as np\n",
    "x = int(input())\n",
    "result = 1\n",
    "\n",
    "if x == 1:\n",
    "    print(result)\n",
    "else:\n",
    "    for i in range(2, int(np.sqrt(x) + 1)):\n",
    "        j = 2\n",
    "        while True:\n",
    "            calc = pow(i, j)\n",
    "            if calc > x:\n",
    "                break\n",
    "            result = max([result, calc])\n",
    "            j += 1\n",
    "    print(result)"
   ]
  },
  {
   "cell_type": "code",
   "execution_count": 21,
   "metadata": {},
   "outputs": [
    {
     "name": "stdout",
     "output_type": "stream",
     "text": [
      "... test case 0 ...\n",
      "<<< aba\n",
      "<<< 4\n",
      "b\n",
      "... test case 1 ...\n",
      "<<< atcoderandatcodeer\n",
      "<<< 5\n",
      "andat\n",
      "... test case 2 ...\n",
      "<<< z\n",
      "<<< 1\n",
      "z\n",
      "\n",
      "========== Report ==========\n",
      "test 0 :       True\n",
      "test 1 :       True\n",
      "test 2 :       True\n"
     ]
    }
   ],
   "source": [
    "%%test_input https://atcoder.jp/contests/abc097/tasks/arc097_a\n",
    "# C\n",
    "s = str(input())\n",
    "k = int(input())\n",
    "\n",
    "sub_str = []\n",
    "for i in range(len(s)):\n",
    "    for j in range(k+1):\n",
    "        if i +1  <= i + j <= len(s):\n",
    "            sub_str.append(s[i:i+j])\n",
    "\n",
    "print(sorted(set(sub_str))[k-1])"
   ]
  },
  {
   "cell_type": "code",
   "execution_count": 23,
   "metadata": {},
   "outputs": [
    {
     "name": "stdout",
     "output_type": "stream",
     "text": [
      "... test case 0 ...\n",
      "<<< 5 2\n",
      "<<< 5 3 1 4 2\n",
      "<<< 1 3\n",
      "<<< 5 4\n",
      "[0, 1, 0, 4, 4]\n",
      "!!! WA case0\n",
      "!!! Answer : \n",
      "2\n",
      "\n",
      "\n",
      "... test case 1 ...\n",
      "<<< 3 2\n",
      "<<< 3 2 1\n",
      "<<< 1 2\n",
      "<<< 2 3\n",
      "[0, 0, 0]\n",
      "!!! WA case1\n",
      "!!! Answer : \n",
      "3\n",
      "\n",
      "\n",
      "... test case 2 ...\n",
      "<<< 10 8\n",
      "<<< 5 3 6 8 7 10 9 1 2 4\n",
      "<<< 3 1\n",
      "<<< 4 1\n",
      "<<< 5 9\n",
      "<<< 2 5\n",
      "<<< 6 5\n",
      "<<< 3 5\n",
      "<<< 8 9\n",
      "<<< 7 9\n",
      "[6, 6, 6, 6, 6, 6, 6, 6, 6, 9]\n",
      "!!! WA case2\n",
      "!!! Answer : \n",
      "8\n",
      "\n",
      "\n",
      "... test case 3 ...\n",
      "<<< 5 1\n",
      "<<< 1 2 3 4 5\n",
      "<<< 1 5\n",
      "[0, 1, 2, 3, 0]\n",
      "!!! WA case3\n",
      "!!! Answer : \n",
      "5\n",
      "\n",
      "\n",
      "\n",
      "========== Report ==========\n",
      "test 0 :      False\n",
      "test 1 :      False\n",
      "test 2 :      False\n",
      "test 3 :      False\n"
     ]
    }
   ],
   "source": [
    "%%test_input https://atcoder.jp/contests/abc097/tasks/arc097_b\n",
    "# D\n",
    "N, M = map( int, input().split())\n",
    "P = list( map( int, input().split()))\n",
    "par = [ i for i in range(N)]\n",
    " \n",
    "def find(x):\n",
    "    p = par[x]\n",
    "    if p == x:\n",
    "        return x\n",
    "    a = find(p)\n",
    "    par[x] = a\n",
    "    return a\n",
    " \n",
    "for i in range(M):\n",
    "    x, y = map( int, input().split())\n",
    "    x, y = x-1, y-1\n",
    "    bx, by = find(x), find(y)\n",
    "    par[y] = bx\n",
    "    par[by] = bx\n",
    " \n",
    "ans = 0\n",
    "for i in range(N):\n",
    "    if find(i) == find(P[i]-1):\n",
    "        ans += 1\n",
    "print(ans)\n"
   ]
  },
  {
   "cell_type": "markdown",
   "metadata": {},
   "source": [
    "#### tester\n",
    "```\n",
    "test_input Atcoder_URL\n",
    "```\n",
    "#### input\n",
    "##### AtCoderで使ってる入力メソッド(Python3)\n",
    "###### https://qiita.com/fmhr/items/77fc453e2fb1bc02e392\n",
    "\n",
    "##### 1行に複数の数字\n",
    "```\n",
    "2 4 5 7\n",
    "a, b, c, d = map(int, input().split())\n",
    "a=2 b=4 c=5 d =7\n",
    "\n",
    "a = list(map(int, input().split()))\n",
    "# a = [2, 4, 5, 6]\n",
    "```\n",
    "##### 複数行の数字をリストに\n",
    "```\n",
    "3 # n Aの数\n",
    "22 # A1 \n",
    "14 # A2\n",
    "45 # A3\n",
    "\n",
    "n = int(input()) \n",
    "t = [int(input()) for i in range(n)] \n",
    "# t = [22, 14, 45]\n",
    "```\n",
    "##### 複数行に複数の数字があるとき\n",
    "```\n",
    "4\n",
    "22 1 45\n",
    "25 53 110\n",
    "4 444 555\n",
    "2 5 0\n",
    "\n",
    "n = int(input())\n",
    "e = [[int(i) for i in input().split()] for i in range(n)] \n",
    "#  [[22, 1, 45], [25, 53, 110], [4, 444, 555], [2, 5, 0]]\n",
    "```"
   ]
  },
  {
   "cell_type": "code",
   "execution_count": null,
   "metadata": {
    "collapsed": true
   },
   "outputs": [],
   "source": []
  }
 ],
 "metadata": {
  "kernelspec": {
   "display_name": "Python 3",
   "language": "python",
   "name": "python3"
  },
  "language_info": {
   "codemirror_mode": {
    "name": "ipython",
    "version": 3
   },
   "file_extension": ".py",
   "mimetype": "text/x-python",
   "name": "python",
   "nbconvert_exporter": "python",
   "pygments_lexer": "ipython3",
   "version": "3.6.3"
  }
 },
 "nbformat": 4,
 "nbformat_minor": 2
}
