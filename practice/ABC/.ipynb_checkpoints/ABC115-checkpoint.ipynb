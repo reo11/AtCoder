{
 "cells": [
  {
   "cell_type": "markdown",
   "metadata": {
    "collapsed": true
   },
   "source": [
    "### AtCoder Beginner Contest 115\n",
    "#### https://atcoder.jp/contests/abc115"
   ]
  },
  {
   "cell_type": "code",
   "execution_count": null,
   "metadata": {
    "collapsed": true
   },
   "outputs": [],
   "source": [
    "# test_input Atcoder_URL"
   ]
  },
  {
   "cell_type": "code",
   "execution_count": 3,
   "metadata": {},
   "outputs": [
    {
     "name": "stdout",
     "output_type": "stream",
     "text": [
      "... test case 0 ...\n",
      "<<< 25\n",
      "Christmas\n",
      "... test case 1 ...\n",
      "<<< 22\n",
      "Christmas Eve Eve Eve\n",
      "\n",
      "========== Report ==========\n",
      "test 0 :       True\n",
      "test 1 :       True\n"
     ]
    }
   ],
   "source": [
    "%%test_input https://atcoder.jp/contests/abc115/tasks/abc115_a\n",
    "# A\n",
    "\n",
    "D = int(input())\n",
    "output = 'Christmas'\n",
    "for i in range(1, 4):\n",
    "    if D == 25 - i:\n",
    "        output = output + ' Eve'*i\n",
    "print(output)"
   ]
  },
  {
   "cell_type": "code",
   "execution_count": 6,
   "metadata": {},
   "outputs": [
    {
     "name": "stdout",
     "output_type": "stream",
     "text": [
      "... test case 0 ...\n",
      "<<< 3\n",
      "<<< 4980\n",
      "<<< 7980\n",
      "<<< 6980\n",
      "15950\n",
      "... test case 1 ...\n",
      "<<< 4\n",
      "<<< 4320\n",
      "<<< 4320\n",
      "<<< 4320\n",
      "<<< 4320\n",
      "15120\n",
      "\n",
      "========== Report ==========\n",
      "test 0 :       True\n",
      "test 1 :       True\n"
     ]
    }
   ],
   "source": [
    "%%test_input https://atcoder.jp/contests/abc115/tasks/abc115_b\n",
    "# B\n",
    "N = int(input())\n",
    "p = [0]*N\n",
    "for i in range(N):\n",
    "    p[i] = int(input())\n",
    "print(int(sum(p) - (max(p)/2)))"
   ]
  },
  {
   "cell_type": "code",
   "execution_count": 13,
   "metadata": {},
   "outputs": [
    {
     "name": "stdout",
     "output_type": "stream",
     "text": [
      "... test case 0 ...\n",
      "<<< 5 3\n",
      "<<< 10\n",
      "<<< 15\n",
      "<<< 11\n",
      "<<< 14\n",
      "<<< 12\n",
      "2\n",
      "... test case 1 ...\n",
      "<<< 5 3\n",
      "<<< 5\n",
      "<<< 7\n",
      "<<< 5\n",
      "<<< 7\n",
      "<<< 7\n",
      "0\n",
      "\n",
      "========== Report ==========\n",
      "test 0 :       True\n",
      "test 1 :       True\n"
     ]
    }
   ],
   "source": [
    "%%test_input https://atcoder.jp/contests/abc115/tasks/abc115_c\n",
    "# C\n",
    "N, K = map(int, input().split())\n",
    "h = [0]*N\n",
    "for i in range(N):\n",
    "    h[i] = int(input())\n",
    "h.sort()\n",
    "result = 1e10\n",
    "for i in range(N-K+1):\n",
    "    result = min(result, h[i+K-1]-h[i])\n",
    "print(result)"
   ]
  },
  {
   "cell_type": "code",
   "execution_count": 14,
   "metadata": {},
   "outputs": [
    {
     "name": "stdout",
     "output_type": "stream",
     "text": [
      "... test case 0 ...\n",
      "<<< 2 7\n",
      "4\n",
      "... test case 1 ...\n",
      "<<< 1 1\n",
      "0\n",
      "... test case 2 ...\n",
      "<<< 50 4321098765432109\n",
      "2160549382716056\n",
      "\n",
      "========== Report ==========\n",
      "test 0 :       True\n",
      "test 1 :       True\n",
      "test 2 :       True\n"
     ]
    }
   ],
   "source": [
    "%%test_input https://atcoder.jp/contests/abc115/tasks/abc115_d\n",
    "# D\n",
    "N, X = map(int, input().split())\n",
    "\n",
    "a, p = [1], [1]\n",
    "for i in range(N):\n",
    "    a.append(a[i] * 2 + 3)\n",
    "    p.append(p[i] * 2 + 1)\n",
    "\n",
    "def f(N, X): # X <= 0 や X > a_N を許容し解説本文から簡略化\n",
    "    if N == 0:\n",
    "        return 0 if X <= 0 else 1\n",
    "    elif X <= 1 + a[N-1]:\n",
    "        return f(N-1, X-1)\n",
    "    else:\n",
    "        return p[N-1] + 1 + f(N-1, X-2-a[N-1])\n",
    "print(f(N, X))"
   ]
  },
  {
   "cell_type": "code",
   "execution_count": null,
   "metadata": {
    "collapsed": true
   },
   "outputs": [],
   "source": []
  },
  {
   "cell_type": "code",
   "execution_count": null,
   "metadata": {},
   "outputs": [],
   "source": [
    "lv"
   ]
  },
  {
   "cell_type": "code",
   "execution_count": null,
   "metadata": {
    "collapsed": true
   },
   "outputs": [],
   "source": []
  },
  {
   "cell_type": "markdown",
   "metadata": {},
   "source": [
    "#### tester\n",
    "```\n",
    "test_input Atcoder_URL\n",
    "```\n",
    "#### input\n",
    "##### AtCoderで使ってる入力メソッド(Python3)\n",
    "###### https://qiita.com/fmhr/items/77fc453e2fb1bc02e392\n",
    "\n",
    "##### 1行に複数の数字\n",
    "```\n",
    "2 4 5 7\n",
    "a, b, c, d = map(int, input().split())\n",
    "a=2 b=4 c=5 d =7\n",
    "\n",
    "a = list(map(int, input().split()))\n",
    "# a = [2, 4, 5, 6]\n",
    "```\n",
    "##### 複数行の数字をリストに\n",
    "```\n",
    "3 # n Aの数\n",
    "22 # A1 \n",
    "14 # A2\n",
    "45 # A3\n",
    "\n",
    "n = int(input()) \n",
    "t = [int(input()) for i in range(n)] \n",
    "# t = [22, 14, 45]\n",
    "\n",
    "N = int(input())\n",
    "t = [0] * N\n",
    "x = [0] * N\n",
    "y = [0] * N\n",
    "for i in range(N):\n",
    "    t[i], x[i], y[i] = map(int, input().split())\n",
    "```\n",
    "##### 複数行に複数の数字があるとき\n",
    "```\n",
    "4\n",
    "22 1 45\n",
    "25 53 110\n",
    "4 444 555\n",
    "2 5 0\n",
    "\n",
    "n = int(input())\n",
    "e = [[int(i) for i in input().split()] for i in range(n)] \n",
    "#  [[22, 1, 45], [25, 53, 110], [4, 444, 555], [2, 5, 0]]\n",
    "```"
   ]
  },
  {
   "cell_type": "code",
   "execution_count": null,
   "metadata": {
    "collapsed": true
   },
   "outputs": [],
   "source": []
  }
 ],
 "metadata": {
  "kernelspec": {
   "display_name": "Python 3",
   "language": "python",
   "name": "python3"
  },
  "language_info": {
   "codemirror_mode": {
    "name": "ipython",
    "version": 3
   },
   "file_extension": ".py",
   "mimetype": "text/x-python",
   "name": "python",
   "nbconvert_exporter": "python",
   "pygments_lexer": "ipython3",
   "version": "3.6.6"
  }
 },
 "nbformat": 4,
 "nbformat_minor": 2
}
