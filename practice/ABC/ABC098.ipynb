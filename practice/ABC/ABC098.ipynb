{
 "cells": [
  {
   "cell_type": "markdown",
   "metadata": {
    "collapsed": true
   },
   "source": [
    "### AtCoder Beginner Contest 098\n",
    "#### URL"
   ]
  },
  {
   "cell_type": "code",
   "execution_count": null,
   "metadata": {
    "collapsed": true
   },
   "outputs": [],
   "source": [
    "# test_input Atcoder_URL"
   ]
  },
  {
   "cell_type": "code",
   "execution_count": 1,
   "metadata": {},
   "outputs": [
    {
     "name": "stdout",
     "output_type": "stream",
     "text": [
      "... test case 0 ...\n",
      "<<< 3 1\n",
      "4\n",
      "... test case 1 ...\n",
      "<<< 4 -2\n",
      "6\n",
      "... test case 2 ...\n",
      "<<< 0 0\n",
      "0\n",
      "\n",
      "========== Report ==========\n",
      "test 0 :       True\n",
      "test 1 :       True\n",
      "test 2 :       True\n"
     ]
    }
   ],
   "source": [
    "%%test_input https://atcoder.jp/contests/abc098/tasks/abc098_a\n",
    "# A\n",
    "a, b = map(int, input().split())\n",
    "print(max(a+b, a-b, a*b))"
   ]
  },
  {
   "cell_type": "code",
   "execution_count": 2,
   "metadata": {},
   "outputs": [
    {
     "name": "stdout",
     "output_type": "stream",
     "text": [
      "... test case 0 ...\n",
      "<<< 6\n",
      "<<< aabbca\n",
      "2\n",
      "... test case 1 ...\n",
      "<<< 10\n",
      "<<< aaaaaaaaaa\n",
      "1\n",
      "... test case 2 ...\n",
      "<<< 45\n",
      "<<< tgxgdqkyjzhyputjjtllptdfxocrylqfqjynmfbfucbir\n",
      "9\n",
      "\n",
      "========== Report ==========\n",
      "test 0 :       True\n",
      "test 1 :       True\n",
      "test 2 :       True\n"
     ]
    }
   ],
   "source": [
    "%%test_input https://atcoder.jp/contests/abc098/tasks/abc098_b\n",
    "# B\n",
    "n = int(input())\n",
    "s = str(input())\n",
    "\n",
    "def count_c(str1, str2):\n",
    "    s1 = [0] * 26\n",
    "    s2 = [0] * 26\n",
    "    count = 0\n",
    "    for i in list(str1):\n",
    "        s1[ord(i) - 97] += 1\n",
    "    for i in list(str2):\n",
    "        s2[ord(i) - 97] += 1\n",
    "    for i in range(26):\n",
    "        if s1[i] > 0 and s2[i] > 0:\n",
    "            count += 1\n",
    "    return count\n",
    "max_c = 0\n",
    "for i in range(1,n):\n",
    "    max_c = max(max_c, count_c(s[:i], s[i:]))\n",
    "print(max_c)"
   ]
  },
  {
   "cell_type": "code",
   "execution_count": 5,
   "metadata": {},
   "outputs": [
    {
     "name": "stdout",
     "output_type": "stream",
     "text": [
      "... test case 0 ...\n",
      "<<< 5\n",
      "<<< WEEWW\n",
      "1\n",
      "... test case 1 ...\n",
      "<<< 12\n",
      "<<< WEWEWEEEWWWE\n",
      "4\n",
      "... test case 2 ...\n",
      "<<< 8\n",
      "<<< WWWWWEEE\n",
      "3\n",
      "\n",
      "========== Report ==========\n",
      "test 0 :       True\n",
      "test 1 :       True\n",
      "test 2 :       True\n"
     ]
    }
   ],
   "source": [
    "%%test_input https://atcoder.jp/contests/abc098/tasks/arc098_a\n",
    "# C\n",
    "n = int(input())\n",
    "s = str(input())\n",
    "ans = [0] * n\n",
    "ans[0] = s[1:].count('E')\n",
    "for i in range(1, n):\n",
    "    if s[i-1] == 'E':\n",
    "        ans[i] = ans[i-1]\n",
    "    else:\n",
    "        ans[i] = ans[i-1] + 1\n",
    "    if s[i] == 'E':\n",
    "        ans[i] -= 1\n",
    "print(min(ans))"
   ]
  },
  {
   "cell_type": "code",
   "execution_count": null,
   "metadata": {
    "collapsed": true
   },
   "outputs": [],
   "source": [
    "%%test_input https://atcoder.jp/contests/abc098/tasks/arc098_b\n",
    "# D\n",
    "n=int(input())\n",
    "a=[int(i) for i in input().split()]\n",
    " \n",
    "ans=0\n",
    "b=0\n",
    "j=0\n",
    "for i in range(n):\n",
    "    while j<n and b^a[j]==b+a[j]:\n",
    "        b^=a[j]\n",
    "        j=j+1\n",
    "    ans += j-i\n",
    "    b^=a[i]\n",
    "print(ans)"
   ]
  },
  {
   "cell_type": "code",
   "execution_count": null,
   "metadata": {
    "collapsed": true
   },
   "outputs": [],
   "source": [
    "%%test_input \n",
    "# E"
   ]
  },
  {
   "cell_type": "code",
   "execution_count": null,
   "metadata": {
    "collapsed": true
   },
   "outputs": [],
   "source": [
    "%%test_input \n",
    "# F"
   ]
  },
  {
   "cell_type": "code",
   "execution_count": null,
   "metadata": {
    "collapsed": true
   },
   "outputs": [],
   "source": []
  },
  {
   "cell_type": "markdown",
   "metadata": {},
   "source": [
    "#### tester\n",
    "```\n",
    "test_input Atcoder_URL\n",
    "```\n",
    "#### input\n",
    "##### AtCoderで使ってる入力メソッド(Python3)\n",
    "###### https://qiita.com/fmhr/items/77fc453e2fb1bc02e392\n",
    "\n",
    "##### 1行に複数の数字\n",
    "```\n",
    "2 4 5 7\n",
    "a, b, c, d = map(int, input().split())\n",
    "a=2 b=4 c=5 d =7\n",
    "\n",
    "a = list(map(int, input().split()))\n",
    "# a = [2, 4, 5, 6]\n",
    "```\n",
    "##### 複数行の数字をリストに\n",
    "```\n",
    "3 # n Aの数\n",
    "22 # A1 \n",
    "14 # A2\n",
    "45 # A3\n",
    "\n",
    "n = int(input()) \n",
    "t = [int(input()) for i in range(n)] \n",
    "# t = [22, 14, 45]\n",
    "\n",
    "N = int(input())\n",
    "t = [0] * N\n",
    "x = [0] * N\n",
    "y = [0] * N\n",
    "for i in range(N):\n",
    "    t[i], x[i], y[i] = map(int, input().split())\n",
    "```\n",
    "##### 複数行に複数の数字があるとき\n",
    "```\n",
    "4\n",
    "22 1 45\n",
    "25 53 110\n",
    "4 444 555\n",
    "2 5 0\n",
    "\n",
    "n = int(input())\n",
    "e = [[int(i) for i in input().split()] for i in range(n)] \n",
    "#  [[22, 1, 45], [25, 53, 110], [4, 444, 555], [2, 5, 0]]\n",
    "```"
   ]
  },
  {
   "cell_type": "code",
   "execution_count": null,
   "metadata": {
    "collapsed": true
   },
   "outputs": [],
   "source": []
  }
 ],
 "metadata": {
  "kernelspec": {
   "display_name": "Python 3",
   "language": "python",
   "name": "python3"
  },
  "language_info": {
   "codemirror_mode": {
    "name": "ipython",
    "version": 3
   },
   "file_extension": ".py",
   "mimetype": "text/x-python",
   "name": "python",
   "nbconvert_exporter": "python",
   "pygments_lexer": "ipython3",
   "version": "3.6.3"
  }
 },
 "nbformat": 4,
 "nbformat_minor": 2
}
