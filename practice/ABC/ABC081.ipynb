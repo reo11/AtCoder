{
 "cells": [
  {
   "cell_type": "code",
   "execution_count": 1,
   "metadata": {},
   "outputs": [
    {
     "name": "stdout",
     "output_type": "stream",
     "text": [
      "101\n",
      "2\n"
     ]
    }
   ],
   "source": [
    "# A\n",
    "s = str(input())\n",
    "count = 0\n",
    "for i in range(3):\n",
    "    if s[i] == '1':\n",
    "        count += 1\n",
    "print(count)"
   ]
  },
  {
   "cell_type": "code",
   "execution_count": 8,
   "metadata": {},
   "outputs": [
    {
     "name": "stdout",
     "output_type": "stream",
     "text": [
      "3\n",
      "8 12 40\n",
      "2\n"
     ]
    }
   ],
   "source": [
    "# B\n",
    "n = int(input())\n",
    "a = [int(i) for i in input().split()]\n",
    "count = 0\n",
    "flag = True\n",
    "while flag:\n",
    "    for i in range(len(a)):\n",
    "        if a[i] % 2 == 0:\n",
    "            continue\n",
    "        else:\n",
    "            flag  = False\n",
    "            break\n",
    "    if flag:\n",
    "        count += 1\n",
    "        a = list(map(lambda x: x / 2, a))\n",
    "print(count)"
   ]
  },
  {
   "cell_type": "code",
   "execution_count": 16,
   "metadata": {},
   "outputs": [
    {
     "name": "stdout",
     "output_type": "stream",
     "text": [
      "10 3\n",
      "5 1 3 2 4 1 1 2 3 4\n",
      "(3, 2, 2, 2, 1)\n",
      "[1, 2, 2, 2, 3]\n",
      "3\n"
     ]
    }
   ],
   "source": [
    "# C\n",
    "import collections\n",
    "n, k = map(int, input().split())\n",
    "a = [int(i) for i in input().split()]\n",
    "unique_a = list(set(a))\n",
    "process_count = len(unique_a) - k\n",
    "c = collections.Counter(a)\n",
    "values, counts = zip(*c.most_common())\n",
    "\n",
    "counts = list(counts)\n",
    "counts.sort()\n",
    "ans = 0\n",
    "\n",
    "for i in range(process_count):\n",
    "    ans += counts[i]\n",
    "print(ans)"
   ]
  },
  {
   "cell_type": "code",
   "execution_count": null,
   "metadata": {},
   "outputs": [],
   "source": [
    "# D\n",
    "n = int(input())\n",
    "a = [int(i) for i in input().split()]\n"
   ]
  }
 ],
 "metadata": {
  "kernelspec": {
   "display_name": "Python 3",
   "language": "python",
   "name": "python3"
  },
  "language_info": {
   "codemirror_mode": {
    "name": "ipython",
    "version": 3
   },
   "file_extension": ".py",
   "mimetype": "text/x-python",
   "name": "python",
   "nbconvert_exporter": "python",
   "pygments_lexer": "ipython3",
   "version": "3.6.6"
  }
 },
 "nbformat": 4,
 "nbformat_minor": 2
}
