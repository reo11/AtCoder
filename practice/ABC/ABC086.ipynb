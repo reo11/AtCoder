{
 "cells": [
  {
   "cell_type": "code",
   "execution_count": 1,
   "metadata": {},
   "outputs": [
    {
     "name": "stdout",
     "output_type": "stream",
     "text": [
      "1 2\n",
      "Even\n"
     ]
    }
   ],
   "source": [
    "# A\n",
    "a, b = map(int, input().split())\n",
    "\n",
    "if (a*b) % 2:\n",
    "    print('Odd')\n",
    "else:\n",
    "    print('Even')"
   ]
  },
  {
   "cell_type": "code",
   "execution_count": null,
   "metadata": {},
   "outputs": [],
   "source": [
    "# B\n",
    "import math\n",
    "a, b = map(str, input().split())\n",
    "c = int(a + b)\n",
    "s = int(math.sqrt(c))\n",
    "if s**2 == c:\n",
    "    print('Yes')\n",
    "else:\n",
    "    print('No')"
   ]
  },
  {
   "cell_type": "code",
   "execution_count": 16,
   "metadata": {},
   "outputs": [
    {
     "name": "stdout",
     "output_type": "stream",
     "text": [
      "... test case 0 ...\n",
      "<<< 2\n",
      "<<< 3 1 2\n",
      "<<< 6 1 1\n",
      "Yes\n",
      "... test case 1 ...\n",
      "<<< 1\n",
      "<<< 2 100 100\n",
      "No\n",
      "... test case 2 ...\n",
      "<<< 2\n",
      "<<< 5 1 1\n",
      "<<< 100 1 1\n",
      "No\n",
      "\n",
      "========== Report ==========\n",
      "test 0 :       True\n",
      "test 1 :       True\n",
      "test 2 :       True\n"
     ]
    }
   ],
   "source": [
    "%%test_input https://atcoder.jp/contests/abc086/tasks/arc089_a\n",
    "# C\n",
    "import copy\n",
    "n = int(input())\n",
    "preX = [0,0,0]\n",
    "ans = True\n",
    "for i in range(n):\n",
    "    curX = list(map(int, input().split()))\n",
    "    dt = curX[0] - preX[0]\n",
    "    dx = abs(curX[1] - preX[1])\n",
    "    dy = abs(curX[2] - preX[2])\n",
    "    if dt < dx + dy  or (dt % 2) != ((dx + dy) % 2):\n",
    "        ans = False\n",
    "    preX = copy.copy(curX)\n",
    "if ans:\n",
    "    print('Yes')\n",
    "else:\n",
    "    print('No')"
   ]
  },
  {
   "cell_type": "code",
   "execution_count": null,
   "metadata": {},
   "outputs": [],
   "source": [
    "# D\n"
   ]
  }
 ],
 "metadata": {
  "kernelspec": {
   "display_name": "Python 3",
   "language": "python",
   "name": "python3"
  },
  "language_info": {
   "codemirror_mode": {
    "name": "ipython",
    "version": 3
   },
   "file_extension": ".py",
   "mimetype": "text/x-python",
   "name": "python",
   "nbconvert_exporter": "python",
   "pygments_lexer": "ipython3",
   "version": "3.6.6"
  }
 },
 "nbformat": 4,
 "nbformat_minor": 2
}
