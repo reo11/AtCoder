{
 "cells": [
  {
   "cell_type": "markdown",
   "metadata": {
    "collapsed": true
   },
   "source": [
    "### AtCoder Beginner Contest 107\n",
    "#### https://atcoder.jp/contests/abc107"
   ]
  },
  {
   "cell_type": "code",
   "execution_count": null,
   "metadata": {
    "collapsed": true
   },
   "outputs": [],
   "source": [
    "# test_input Atcoder_URL"
   ]
  },
  {
   "cell_type": "code",
   "execution_count": 2,
   "metadata": {},
   "outputs": [
    {
     "name": "stdout",
     "output_type": "stream",
     "text": [
      "... test case 0 ...\n",
      "<<< 4 2\n",
      "3\n",
      "... test case 1 ...\n",
      "<<< 1 1\n",
      "1\n",
      "... test case 2 ...\n",
      "<<< 15 11\n",
      "5\n",
      "\n",
      "========== Report ==========\n",
      "test 0 :       True\n",
      "test 1 :       True\n",
      "test 2 :       True\n"
     ]
    }
   ],
   "source": [
    "%%test_input https://atcoder.jp/contests/abc107/tasks/abc107_a\n",
    "# A\n",
    "N, i = map(int, input().split())\n",
    "print(N-i+1)"
   ]
  },
  {
   "cell_type": "code",
   "execution_count": 24,
   "metadata": {},
   "outputs": [
    {
     "name": "stdout",
     "output_type": "stream",
     "text": [
      "... test case 0 ...\n",
      "<<< 4 4\n",
      "<<< ##.#\n",
      "<<< ....\n",
      "<<< ##.#\n",
      "<<< .#.#\n",
      "###\n",
      "###\n",
      ".##\n",
      "... test case 1 ...\n",
      "<<< 3 3\n",
      "<<< #..\n",
      "<<< .#.\n",
      "<<< ..#\n",
      "#..\n",
      ".#.\n",
      "..#\n",
      "... test case 2 ...\n",
      "<<< 4 5\n",
      "<<< .....\n",
      "<<< .....\n",
      "<<< ..#..\n",
      "<<< .....\n",
      "#\n",
      "... test case 3 ...\n",
      "<<< 7 6\n",
      "<<< ......\n",
      "<<< ....#.\n",
      "<<< .#....\n",
      "<<< ..#...\n",
      "<<< ..#...\n",
      "<<< ......\n",
      "<<< .#..#.\n",
      "..#\n",
      "#..\n",
      ".#.\n",
      ".#.\n",
      "#.#\n",
      "\n",
      "========== Report ==========\n",
      "test 0 :       True\n",
      "test 1 :       True\n",
      "test 2 :       True\n",
      "test 3 :       True\n"
     ]
    }
   ],
   "source": [
    "%%test_input https://atcoder.jp/contests/abc107/tasks/abc107_b\n",
    "# B\n",
    "H, W = map(int, input().split())\n",
    "a = []\n",
    "for _ in range(H):\n",
    "    i = list(input())\n",
    "    if '#' in i:\n",
    "        a.append(i)\n",
    "ans = zip(*[i for i in zip(*a) if '#' in i])\n",
    "for s in ans:\n",
    "    print(*s, sep='')"
   ]
  },
  {
   "cell_type": "code",
   "execution_count": 40,
   "metadata": {},
   "outputs": [
    {
     "name": "stdout",
     "output_type": "stream",
     "text": [
      "... test case 0 ...\n",
      "<<< 5 3\n",
      "<<< -30 -10 10 20 50\n",
      "40\n",
      "... test case 1 ...\n",
      "<<< 3 2\n",
      "<<< 10 20 30\n",
      "20\n",
      "... test case 2 ...\n",
      "<<< 1 1\n",
      "<<< 0\n",
      "0\n",
      "... test case 3 ...\n",
      "<<< 8 5\n",
      "<<< -9 -7 -4 -3 1 2 3 4\n",
      "10\n",
      "\n",
      "========== Report ==========\n",
      "test 0 :       True\n",
      "test 1 :       True\n",
      "test 2 :       True\n",
      "test 3 :       True\n"
     ]
    }
   ],
   "source": [
    "%%test_input https://atcoder.jp/contests/abc107/tasks/arc101_a\n",
    "# C\n",
    "N, K = map(int, input().split())\n",
    "X = list(map(int, input().split()))\n",
    "result = []\n",
    "for l, r in zip(X,X[K-1:]):\n",
    "    result.append(r - l + min(abs(l), abs(r)))\n",
    "print(min(result))"
   ]
  },
  {
   "cell_type": "code",
   "execution_count": 41,
   "metadata": {},
   "outputs": [
    {
     "name": "stdout",
     "output_type": "stream",
     "text": [
      "... test case 0 ...\n",
      "<<< 3\n",
      "<<< 10 30 20\n",
      "30\n",
      "... test case 1 ...\n",
      "<<< 1\n",
      "<<< 10\n",
      "10\n",
      "... test case 2 ...\n",
      "<<< 10\n",
      "<<< 5 9 5 9 8 9 3 5 4 3\n",
      "8\n",
      "\n",
      "========== Report ==========\n",
      "test 0 :       True\n",
      "test 1 :       True\n",
      "test 2 :       True\n"
     ]
    }
   ],
   "source": [
    "%%test_input https://atcoder.jp/contests/abc107/tasks/arc101_b\n",
    "# D\n",
    "# \n",
    "n = int(input())\n",
    "A = list(map(int, input().split()))\n",
    "\n",
    "def search(x):\n",
    "    b = n\n",
    "    r = 0\n",
    "    y = 0\n",
    "    D = [0]*(2*n+1)\n",
    "    for i in range(n):\n",
    "        D[b] += 1\n",
    "        if A[i] < x:\n",
    "            r += D[b]\n",
    "            b += 1\n",
    "        else:\n",
    "            b -= 1\n",
    "            r -= D[b]   \n",
    "        y += r\n",
    "    return y\n",
    "\n",
    "S = sorted(A)\n",
    "l = 0\n",
    "r = n\n",
    "m = n // 2\n",
    "c = n * (n + 1) // 2\n",
    "\n",
    "while True:\n",
    "    if search(S[m]) <= c // 2:\n",
    "        if m == n - 1:\n",
    "            break\n",
    "        elif search(S[m + 1]) > c // 2:\n",
    "            break\n",
    "        else:\n",
    "            l = m\n",
    "            m = (m + r) // 2\n",
    "    else:\n",
    "        r = m + 1\n",
    "        m = (m + l) // 2\n",
    "        \n",
    "print(S[m])"
   ]
  },
  {
   "cell_type": "code",
   "execution_count": null,
   "metadata": {
    "collapsed": true
   },
   "outputs": [],
   "source": [
    "%%test_input \n",
    "# E"
   ]
  },
  {
   "cell_type": "code",
   "execution_count": null,
   "metadata": {
    "collapsed": true
   },
   "outputs": [],
   "source": [
    "%%test_input \n",
    "# F"
   ]
  },
  {
   "cell_type": "code",
   "execution_count": null,
   "metadata": {
    "collapsed": true
   },
   "outputs": [],
   "source": []
  },
  {
   "cell_type": "markdown",
   "metadata": {},
   "source": [
    "#### tester\n",
    "```\n",
    "test_input Atcoder_URL\n",
    "```\n",
    "#### input\n",
    "##### AtCoderで使ってる入力メソッド(Python3)\n",
    "###### https://qiita.com/fmhr/items/77fc453e2fb1bc02e392\n",
    "\n",
    "##### 1行に複数の数字\n",
    "```\n",
    "2 4 5 7\n",
    "a, b, c, d = map(int, input().split())\n",
    "a=2 b=4 c=5 d =7\n",
    "\n",
    "a = list(map(int, input().split()))\n",
    "# a = [2, 4, 5, 6]\n",
    "```\n",
    "##### 複数行の数字をリストに\n",
    "```\n",
    "3 # n Aの数\n",
    "22 # A1 \n",
    "14 # A2\n",
    "45 # A3\n",
    "\n",
    "n = int(input()) \n",
    "t = [int(input()) for i in range(n)] \n",
    "# t = [22, 14, 45]\n",
    "\n",
    "N = int(input())\n",
    "t = [0] * N\n",
    "x = [0] * N\n",
    "y = [0] * N\n",
    "for i in range(N):\n",
    "    t[i], x[i], y[i] = map(int, input().split())\n",
    "```\n",
    "##### 複数行に複数の数字があるとき\n",
    "```\n",
    "4\n",
    "22 1 45\n",
    "25 53 110\n",
    "4 444 555\n",
    "2 5 0\n",
    "\n",
    "n = int(input())\n",
    "e = [[int(i) for i in input().split()] for i in range(n)] \n",
    "#  [[22, 1, 45], [25, 53, 110], [4, 444, 555], [2, 5, 0]]\n",
    "```"
   ]
  },
  {
   "cell_type": "code",
   "execution_count": null,
   "metadata": {
    "collapsed": true
   },
   "outputs": [],
   "source": []
  }
 ],
 "metadata": {
  "kernelspec": {
   "display_name": "Python 3",
   "language": "python",
   "name": "python3"
  },
  "language_info": {
   "codemirror_mode": {
    "name": "ipython",
    "version": 3
   },
   "file_extension": ".py",
   "mimetype": "text/x-python",
   "name": "python",
   "nbconvert_exporter": "python",
   "pygments_lexer": "ipython3",
   "version": "3.6.6"
  }
 },
 "nbformat": 4,
 "nbformat_minor": 2
}
