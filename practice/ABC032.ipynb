{
 "cells": [
  {
   "cell_type": "markdown",
   "metadata": {
    "collapsed": true
   },
   "source": [
    "### AtCoder Beginner Contest 032\n",
    "#### https://abc032.contest.atcoder.jp/"
   ]
  },
  {
   "cell_type": "code",
   "execution_count": null,
   "metadata": {
    "collapsed": true
   },
   "outputs": [],
   "source": [
    "# test_input Atcoder_URL"
   ]
  },
  {
   "cell_type": "code",
   "execution_count": 12,
   "metadata": {},
   "outputs": [],
   "source": [
    "# %%test_input https://abc032.contest.atcoder.jp/tasks/abc032_a\n",
    "# A\n",
    "a = int(input())\n",
    "b = int(input())\n",
    "n = int(input())\n",
    "\n",
    "i = 0\n",
    "while (i+n) % a != 0 or (i+n) % b != 0:\n",
    "    i+=1\n",
    "print(n+i)"
   ]
  },
  {
   "cell_type": "code",
   "execution_count": 7,
   "metadata": {},
   "outputs": [
    {
     "name": "stdout",
     "output_type": "stream",
     "text": [
      "aaaaa\n",
      "1\n",
      "1\n"
     ]
    }
   ],
   "source": [
    "# \"%%test_input https://abc032.contest.atcoder.jp/tasks/abc032_b\n",
    "# B\n",
    "\n",
    "s = str(input())\n",
    "k = int(input())\n",
    "s_list = []\n",
    "\n",
    "for i in range(len(s)-k+1):\n",
    "    s_list.append(s[i:i+k])\n",
    "result_list = list(set(s_list))\n",
    "print(len(result_list))"
   ]
  },
  {
   "cell_type": "code",
   "execution_count": null,
   "metadata": {
    "collapsed": true
   },
   "outputs": [],
   "source": [
    "# C\n",
    "import numpy as np\n",
    "N, K = map(int, input().split())\n",
    "s = [int(input()) for i in range(N)]\n",
    "result = 0\n",
    "def continuity(start, c):\n",
    "        if np.prod(np.array(s[start:start+c])) <= K and start+c < N:\n",
    "            return continuity(start, c+1) + 1\n",
    "        else:\n",
    "            return 0\n",
    "if 0 in s:\n",
    "    print(N)\n",
    "elif all((x > K for x in s)):\n",
    "    print('0')\n",
    "else:\n",
    "    for i in range(N):\n",
    "        result = max(continuity(i,1), result)\n",
    "    print(result)"
   ]
  },
  {
   "cell_type": "code",
   "execution_count": null,
   "metadata": {},
   "outputs": [],
   "source": [
    "# %%test_input \n",
    "# C\n",
    "import numpy as np\n",
    "N, K = map(int, input().split())\n",
    "s = [int(input()) for i in range(N)]\n",
    "result = 0\n",
    "\n",
    "if 0 in s:\n",
    "    print(N)\n",
    "elif all((x > K for x in s)):\n",
    "    print('0')\n",
    "else:\n",
    "    for i in range(N):\n",
    "        area_max = 0\n",
    "        for j in range(i, N-1)[::-1]:\n",
    "            if np.prod(np.array(s[i:j-1])) > K:\n",
    "                continue\n",
    "            else:\n",
    "                area_max = j-1\n",
    "                break\n",
    "        result = max(area_max, result)\n",
    "    print(result)"
   ]
  },
  {
   "cell_type": "markdown",
   "metadata": {
    "collapsed": true
   },
   "source": [
    "# %%test_input \n",
    "# D\n"
   ]
  },
  {
   "cell_type": "code",
   "execution_count": null,
   "metadata": {
    "collapsed": true
   },
   "outputs": [],
   "source": [
    "%%test_input \n",
    "# E"
   ]
  },
  {
   "cell_type": "code",
   "execution_count": null,
   "metadata": {
    "collapsed": true
   },
   "outputs": [],
   "source": [
    "%%test_input \n",
    "# F"
   ]
  },
  {
   "cell_type": "code",
   "execution_count": null,
   "metadata": {
    "collapsed": true
   },
   "outputs": [],
   "source": []
  },
  {
   "cell_type": "markdown",
   "metadata": {},
   "source": [
    "#### tester\n",
    "```\n",
    "test_input Atcoder_URL\n",
    "```\n",
    "#### input\n",
    "##### AtCoderで使ってる入力メソッド(Python3)\n",
    "###### https://qiita.com/fmhr/items/77fc453e2fb1bc02e392\n",
    "\n",
    "##### 1行に複数の数字\n",
    "```\n",
    "2 4 5 7\n",
    "a, b, c, d = map(int, input().split())\n",
    "a=2 b=4 c=5 d =7\n",
    "\n",
    "a = list(map(int, input().split()))\n",
    "# a = [2, 4, 5, 6]\n",
    "```\n",
    "##### 複数行の数字をリストに\n",
    "```\n",
    "3 # n Aの数\n",
    "22 # A1 \n",
    "14 # A2\n",
    "45 # A3\n",
    "\n",
    "n = int(input()) \n",
    "t = [int(input()) for i in range(n)] \n",
    "# t = [22, 14, 45]\n",
    "```\n",
    "##### 複数行に複数の数字があるとき\n",
    "```\n",
    "4\n",
    "22 1 45\n",
    "25 53 110\n",
    "4 444 555\n",
    "2 5 0\n",
    "\n",
    "n = int(input())\n",
    "e = [[int(i) for i in input().split()] for i in range(n)] \n",
    "#  [[22, 1, 45], [25, 53, 110], [4, 444, 555], [2, 5, 0]]\n",
    "```"
   ]
  },
  {
   "cell_type": "code",
   "execution_count": null,
   "metadata": {
    "collapsed": true
   },
   "outputs": [],
   "source": []
  }
 ],
 "metadata": {
  "kernelspec": {
   "display_name": "Python 3",
   "language": "python",
   "name": "python3"
  },
  "language_info": {
   "codemirror_mode": {
    "name": "ipython",
    "version": 3
   },
   "file_extension": ".py",
   "mimetype": "text/x-python",
   "name": "python",
   "nbconvert_exporter": "python",
   "pygments_lexer": "ipython3",
   "version": "3.6.3"
  }
 },
 "nbformat": 4,
 "nbformat_minor": 2
}
