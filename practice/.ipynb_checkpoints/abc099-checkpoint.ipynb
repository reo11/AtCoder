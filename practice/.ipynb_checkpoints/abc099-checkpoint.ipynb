{
 "cells": [
  {
   "cell_type": "code",
   "execution_count": 1,
   "metadata": {},
   "outputs": [],
   "source": [
    "# https://atcoder.jp/contests/abc099"
   ]
  },
  {
   "cell_type": "code",
   "execution_count": 3,
   "metadata": {},
   "outputs": [
    {
     "name": "stdout",
     "output_type": "stream",
     "text": [
      "1000\n",
      "ABD\n"
     ]
    }
   ],
   "source": [
    "# A\n",
    "n = int(input())\n",
    "\n",
    "if n >= 1000:\n",
    "    print('ABD')\n",
    "else:\n",
    "    print('ABC')"
   ]
  },
  {
   "cell_type": "code",
   "execution_count": 8,
   "metadata": {},
   "outputs": [
    {
     "name": "stdout",
     "output_type": "stream",
     "text": [
      "54 65\n",
      "1\n"
     ]
    }
   ],
   "source": [
    "# B\n",
    "a, b = map(int, input().split())\n",
    "\n",
    "diff = b - a\n",
    "\n",
    "height_a = diff*((diff-1)/2)\n",
    "print(int(height_a - a))"
   ]
  },
  {
   "cell_type": "code",
   "execution_count": 17,
   "metadata": {},
   "outputs": [
    {
     "name": "stdout",
     "output_type": "stream",
     "text": [
      "127\n",
      "4\n"
     ]
    }
   ],
   "source": [
    "# C\n",
    "n = int(input())\n",
    "max_n = 10 ** 5\n",
    "\n",
    "dp = [int(i) for i in range(max_n + 1)]\n",
    "\n",
    "for i in (6,9):\n",
    "    v = i\n",
    "    while v < max_n:\n",
    "        for j in range(len(dp)):\n",
    "            if j + v < max_n+1:\n",
    "                dp[j+v] = min(dp[j+v],dp[j]+1)\n",
    "        v *= i\n",
    "\n",
    "print(dp[n])\n",
    "    "
   ]
  },
  {
   "cell_type": "code",
   "execution_count": 2,
   "metadata": {},
   "outputs": [
    {
     "name": "stdout",
     "output_type": "stream",
     "text": [
      "... test case 0 ...\n",
      "<<< 2 3\n",
      "<<< 0 1 1\n",
      "<<< 1 0 1\n",
      "<<< 1 4 0\n",
      "<<< 1 2\n",
      "<<< 3 3\n",
      "3\n",
      "... test case 1 ...\n",
      "<<< 4 3\n",
      "<<< 0 12 71\n",
      "<<< 81 0 53\n",
      "<<< 14 92 0\n",
      "<<< 1 1 2 1\n",
      "<<< 2 1 1 2\n",
      "<<< 2 2 1 3\n",
      "<<< 1 1 2 2\n",
      "428\n",
      "\n",
      "========== Report ==========\n",
      "test 0 :       True\n",
      "test 1 :       True\n"
     ]
    }
   ],
   "source": [
    "%%test_input https://atcoder.jp/contests/abc099/tasks/abc099_d\n",
    "# D\n",
    "import itertools\n",
    "N,C = map(int,input().split())\n",
    "D = [list(map(int,input().split())) for i in range(C)]\n",
    "grid = [list(map(int,input().split())) for i in range(N)]\n",
    "l1 = [0]*C\n",
    "l2 = [0]*C\n",
    "l3 = [0]*C\n",
    "for i in range(1,N+1):\n",
    "    for j in range(1,N+1):\n",
    "        if (i+j) % 3 == 0:\n",
    "            l1[grid[i-1][j-1]-1] += 1\n",
    "        elif (i+j) % 3 == 1:\n",
    "            l2[grid[i-1][j-1]-1] += 1\n",
    "        elif (i+j) % 3 == 2:\n",
    "            l3[grid[i-1][j-1]-1] += 1\n",
    "color = list(range(1,C+1))\n",
    "ans = float('inf')\n",
    "for x,y,z in itertools.permutations(color,3):\n",
    "    res = 0\n",
    "    for i in range(C):\n",
    "        res += D[i][x-1]*l1[i]\n",
    "    for i in range(C):\n",
    "        res += D[i][y-1]*l2[i]\n",
    "    for i in range(C):\n",
    "        res += D[i][z-1]*l3[i]\n",
    "    if res < ans:\n",
    "        ans = res\n",
    "print(ans)"
   ]
  },
  {
   "cell_type": "code",
   "execution_count": 1,
   "metadata": {},
   "outputs": [
    {
     "name": "stdout",
     "output_type": "stream",
     "text": [
      "... test case 0 ...\n",
      "<<< 2 3\n",
      "<<< 0 1 1\n",
      "<<< 1 0 1\n",
      "<<< 1 4 0\n",
      "<<< 1 2\n",
      "<<< 3 3\n",
      "(0, 1, 2)\n",
      "(0, 2, 1)\n",
      "(1, 0, 2)\n",
      "(1, 2, 0)\n",
      "(2, 0, 1)\n",
      "(2, 1, 0)\n",
      "1073741824\n",
      "!!! WA case0\n",
      "!!! Answer : \n",
      "3\n",
      "\n",
      "\n",
      "... test case 1 ...\n",
      "<<< 4 3\n",
      "<<< 0 12 71\n",
      "<<< 81 0 53\n",
      "<<< 14 92 0\n",
      "<<< 1 1 2 1\n",
      "<<< 2 1 1 2\n",
      "<<< 2 2 1 3\n",
      "<<< 1 1 2 2\n",
      "(0, 1, 2)\n",
      "(0, 2, 1)\n",
      "(1, 0, 2)\n",
      "(1, 2, 0)\n",
      "(2, 0, 1)\n",
      "(2, 1, 0)\n",
      "1073741824\n",
      "!!! WA case1\n",
      "!!! Answer : \n",
      "428\n",
      "\n",
      "\n",
      "\n",
      "========== Report ==========\n",
      "test 0 :      False\n",
      "test 1 :      False\n"
     ]
    }
   ],
   "source": [
    "from itertools import *\n",
    "N, C = map(int, input().split())\n",
    "D = [list(map(int, input().split())) for _ in [0]*C]\n",
    "tri = [[0]*C for _ in [0]*3]\n",
    "for i in range(N):\n",
    "    for j,x in enumerate(map(int, input().split())):\n",
    "        tri[(i+j)%3][x-1] += 1\n",
    "res = 1<<30\n",
    "for p in permutations(range(C), 3):\n",
    "    print(p)\n",
    "print(res)"
   ]
  },
  {
   "cell_type": "code",
   "execution_count": null,
   "metadata": {},
   "outputs": [],
   "source": []
  }
 ],
 "metadata": {
  "kernelspec": {
   "display_name": "Python 3",
   "language": "python",
   "name": "python3"
  },
  "language_info": {
   "codemirror_mode": {
    "name": "ipython",
    "version": 3
   },
   "file_extension": ".py",
   "mimetype": "text/x-python",
   "name": "python",
   "nbconvert_exporter": "python",
   "pygments_lexer": "ipython3",
   "version": "3.6.6"
  }
 },
 "nbformat": 4,
 "nbformat_minor": 2
}
