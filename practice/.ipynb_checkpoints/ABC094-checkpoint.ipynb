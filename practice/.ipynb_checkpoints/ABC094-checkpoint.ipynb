{
 "cells": [
  {
   "cell_type": "markdown",
   "metadata": {
    "collapsed": true
   },
   "source": [
    "### AtCoder Beginner Contest 094\n",
    "#### https://atcoder.jp/contests/abc094"
   ]
  },
  {
   "cell_type": "code",
   "execution_count": null,
   "metadata": {
    "collapsed": true
   },
   "outputs": [],
   "source": [
    "# test_input Atcoder_URL"
   ]
  },
  {
   "cell_type": "code",
   "execution_count": 3,
   "metadata": {},
   "outputs": [
    {
     "name": "stdout",
     "output_type": "stream",
     "text": [
      "... test case 0 ...\n",
      "<<< 3 5 4\n",
      "YES\n",
      "... test case 1 ...\n",
      "<<< 2 2 6\n",
      "NO\n",
      "... test case 2 ...\n",
      "<<< 5 3 2\n",
      "NO\n",
      "\n",
      "========== Report ==========\n",
      "test 0 :       True\n",
      "test 1 :       True\n",
      "test 2 :       True\n"
     ]
    }
   ],
   "source": [
    "%%test_input https://atcoder.jp/contests/abc094/tasks/abc094_a\n",
    "# A\n",
    "a, b, x = map(int, input().split())\n",
    "if a+b >= x  and a <= x:\n",
    "    print('YES')\n",
    "else:\n",
    "    print('NO')"
   ]
  },
  {
   "cell_type": "code",
   "execution_count": 5,
   "metadata": {},
   "outputs": [
    {
     "name": "stdout",
     "output_type": "stream",
     "text": [
      "... test case 0 ...\n",
      "<<< 5 3 3\n",
      "<<< 1 2 4\n",
      "1\n",
      "... test case 1 ...\n",
      "<<< 7 3 2\n",
      "<<< 4 5 6\n",
      "0\n",
      "... test case 2 ...\n",
      "<<< 10 7 5\n",
      "<<< 1 2 3 4 6 8 9\n",
      "3\n",
      "\n",
      "========== Report ==========\n",
      "test 0 :       True\n",
      "test 1 :       True\n",
      "test 2 :       True\n"
     ]
    }
   ],
   "source": [
    "%%test_input https://atcoder.jp/contests/abc094/tasks/abc094_b\n",
    "# B\n",
    "n, m, x = map(int, input().split())\n",
    "a = list(map(int, input().split()))\n",
    "\n",
    "count_l = 0\n",
    "count_r = 0\n",
    "for i in range(m):\n",
    "    if a[i] < x:\n",
    "        count_l += 1\n",
    "    if a[i] > x:\n",
    "        count_r += 1\n",
    "print(min(count_l, count_r))\n"
   ]
  },
  {
   "cell_type": "code",
   "execution_count": 58,
   "metadata": {},
   "outputs": [
    {
     "name": "stdout",
     "output_type": "stream",
     "text": [
      "... test case 0 ...\n",
      "<<< 4\n",
      "<<< 2 4 4 3\n",
      "4\n",
      "3\n",
      "3\n",
      "4\n",
      "... test case 1 ...\n",
      "<<< 2\n",
      "<<< 1 2\n",
      "2\n",
      "1\n",
      "... test case 2 ...\n",
      "<<< 6\n",
      "<<< 5 5 4 4 3 3\n",
      "4\n",
      "4\n",
      "4\n",
      "4\n",
      "4\n",
      "4\n",
      "\n",
      "========== Report ==========\n",
      "test 0 :       True\n",
      "test 1 :       True\n",
      "test 2 :       True\n"
     ]
    }
   ],
   "source": [
    "%%test_input https://atcoder.jp/contests/abc094/tasks/arc095_a\n",
    "# C\n",
    "\n",
    "import copy\n",
    "n = int(input())\n",
    "x = list(map(int, input().split()))\n",
    "if n == 2:\n",
    "    print(x[1])\n",
    "    print(x[0])\n",
    "else:\n",
    "    temp = copy.copy(x)\n",
    "    temp.sort()\n",
    "\n",
    "    m = temp[int(n/2)-1]\n",
    "\n",
    "    for i in range(n):\n",
    "        if x[i] <= m:\n",
    "            print(temp[int(n/2)])\n",
    "        else:\n",
    "            print(m)"
   ]
  },
  {
   "cell_type": "code",
   "execution_count": 59,
   "metadata": {},
   "outputs": [
    {
     "name": "stdout",
     "output_type": "stream",
     "text": [
      "... test case 0 ...\n",
      "<<< 5\n",
      "<<< 6 9 4 2 11\n",
      "11 6\n",
      "... test case 1 ...\n",
      "<<< 2\n",
      "<<< 100 0\n",
      "100 0\n",
      "\n",
      "========== Report ==========\n",
      "test 0 :       True\n",
      "test 1 :       True\n"
     ]
    }
   ],
   "source": [
    "%%test_input https://atcoder.jp/contests/abc094/tasks/arc095_b\n",
    "# D\n",
    "\n",
    "n = int(input())\n",
    "a = list(map(int, input().split()))\n",
    "\n",
    "ans_a = max(a)\n",
    "min_b = max(a)\n",
    "for i in range(n):\n",
    "    if a[i] != ans_a:\n",
    "        if min_b > abs(a[i] - ans_a/2):\n",
    "            ans_b = a[i]\n",
    "            min_b = abs(a[i] - ans_a/2)\n",
    "print(\"{} {}\".format(ans_a, ans_b))"
   ]
  },
  {
   "cell_type": "code",
   "execution_count": null,
   "metadata": {
    "collapsed": true
   },
   "outputs": [],
   "source": [
    "%%test_input \n",
    "# E"
   ]
  },
  {
   "cell_type": "code",
   "execution_count": null,
   "metadata": {
    "collapsed": true
   },
   "outputs": [],
   "source": [
    "%%test_input \n",
    "# F"
   ]
  },
  {
   "cell_type": "code",
   "execution_count": null,
   "metadata": {
    "collapsed": true
   },
   "outputs": [],
   "source": []
  },
  {
   "cell_type": "markdown",
   "metadata": {},
   "source": [
    "#### tester\n",
    "```\n",
    "test_input Atcoder_URL\n",
    "```\n",
    "#### input\n",
    "##### AtCoderで使ってる入力メソッド(Python3)\n",
    "###### https://qiita.com/fmhr/items/77fc453e2fb1bc02e392\n",
    "\n",
    "##### 1行に複数の数字\n",
    "```\n",
    "2 4 5 7\n",
    "a, b, c, d = map(int, input().split())\n",
    "a=2 b=4 c=5 d =7\n",
    "\n",
    "a = list(map(int, input().split()))\n",
    "# a = [2, 4, 5, 6]\n",
    "```\n",
    "##### 複数行の数字をリストに\n",
    "```\n",
    "3 # n Aの数\n",
    "22 # A1 \n",
    "14 # A2\n",
    "45 # A3\n",
    "\n",
    "n = int(input()) \n",
    "t = [int(input()) for i in range(n)] \n",
    "# t = [22, 14, 45]\n",
    "\n",
    "N = int(input())\n",
    "t = [0] * N\n",
    "x = [0] * N\n",
    "y = [0] * N\n",
    "for i in range(N):\n",
    "    t[i], x[i], y[i] = map(int, input().split())\n",
    "```\n",
    "##### 複数行に複数の数字があるとき\n",
    "```\n",
    "4\n",
    "22 1 45\n",
    "25 53 110\n",
    "4 444 555\n",
    "2 5 0\n",
    "\n",
    "n = int(input())\n",
    "e = [[int(i) for i in input().split()] for i in range(n)] \n",
    "#  [[22, 1, 45], [25, 53, 110], [4, 444, 555], [2, 5, 0]]\n",
    "```"
   ]
  },
  {
   "cell_type": "code",
   "execution_count": null,
   "metadata": {
    "collapsed": true
   },
   "outputs": [],
   "source": []
  }
 ],
 "metadata": {
  "kernelspec": {
   "display_name": "Python 3",
   "language": "python",
   "name": "python3"
  },
  "language_info": {
   "codemirror_mode": {
    "name": "ipython",
    "version": 3
   },
   "file_extension": ".py",
   "mimetype": "text/x-python",
   "name": "python",
   "nbconvert_exporter": "python",
   "pygments_lexer": "ipython3",
   "version": "3.6.3"
  }
 },
 "nbformat": 4,
 "nbformat_minor": 2
}
