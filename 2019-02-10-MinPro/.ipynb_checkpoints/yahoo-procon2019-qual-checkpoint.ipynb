{
 "cells": [
  {
   "cell_type": "code",
   "execution_count": 1,
   "metadata": {
    "collapsed": true
   },
   "outputs": [],
   "source": [
    "# sample\n",
    "# -*- coding: utf-8 -*-\n",
    "# 整数の入力\n",
    "a = int(input())\n",
    "# スペース区切りの整数の入力\n",
    "b, c = map(int, input().split())\n",
    "# 文字列の入力\n",
    "s = input()\n",
    "# 出力\n",
    "print(\"{} {}\".format(a+b+c, s))"
   ]
  },
  {
   "cell_type": "code",
   "execution_count": null,
   "metadata": {
    "collapsed": true
   },
   "outputs": [],
   "source": [
    "# 01\n",
    "\n",
    "a, b = map(int, input().split())\n",
    "\n",
    "if int((a+1)/2)   >= b:\n",
    "    result = 'YES'\n",
    "else:\n",
    "    result = 'NO'\n",
    "# 出力\n",
    "print(\"{}\".format(result))"
   ]
  },
  {
   "cell_type": "code",
   "execution_count": 10,
   "metadata": {},
   "outputs": [
    {
     "name": "stdout",
     "output_type": "stream",
     "text": [
      "2 1\n",
      "3 2\n",
      "4 3\n",
      "YES\n"
     ]
    }
   ],
   "source": [
    "# 02\n",
    "\n",
    "a1, b1 = map(int, input().split())\n",
    "a2, b2 = map(int, input().split())\n",
    "a3, b3 = map(int, input().split())\n",
    "\n",
    "tapple = (a1,a2,a3,b1,b2,b3)\n",
    "city_list = list(tapple)\n",
    "\n",
    "city_num = []\n",
    "isYes = True\n",
    "\n",
    "for index in range(4):\n",
    "    num = index+1\n",
    "    city_num.append(city_list.count(num))\n",
    "    if city_list.count(num) >= 3:\n",
    "        isYes = False\n",
    "if isYes:\n",
    "    print('YES')\n",
    "else:\n",
    "    print('NO')\n",
    "\n",
    "# 出力\n",
    "# print(\"{}\".format(result))\n"
   ]
  },
  {
   "cell_type": "code",
   "execution_count": 32,
   "metadata": {},
   "outputs": [
    {
     "name": "stdout",
     "output_type": "stream",
     "text": [
      "314159265 35897932 384626433\n",
      "48518828981938099\n"
     ]
    }
   ],
   "source": [
    "# 03\n",
    "# ほぼクッキークリッカー\n",
    "k, a, b = map(int, input().split())\n",
    "\n",
    "cookie = 0\n",
    "\n",
    "if a + 2 >= b or k + 1 < a:\n",
    "    cookie = k + 1\n",
    "else:\n",
    "    action = int((k-(a-1))/2)\n",
    "    cookie = a\n",
    "    if action >= 1:\n",
    "        cookie += action*(b-a)\n",
    "    if (k-(a-1))/2 - action > 0:\n",
    "        cookie += 1\n",
    "\n",
    "print('{}'.format(cookie))"
   ]
  },
  {
   "cell_type": "code",
   "execution_count": 18,
   "metadata": {},
   "outputs": [
    {
     "data": {
      "text/plain": [
       "0"
      ]
     },
     "execution_count": 18,
     "metadata": {},
     "output_type": "execute_result"
    }
   ],
   "source": [
    "action"
   ]
  },
  {
   "cell_type": "code",
   "execution_count": null,
   "metadata": {
    "collapsed": true
   },
   "outputs": [],
   "source": [
    "# 04 \n",
    "# すぬけ君あわれ\n",
    "\n",
    "l = int(input()) \n",
    "a = [int(input()) for i in range(l)] \n",
    "new_list = []\n",
    "for index, value in enumerate(a):\n",
    "    if index > 0:\n",
    "        new_list.append(a[index-1])\n",
    "a_list = []\n",
    "for index, value in enumerate(new_list):\n",
    "    if index > 0:\n",
    "        a_list.append(a[index-1])\n",
    "print(a_list)"
   ]
  },
  {
   "cell_type": "code",
   "execution_count": 36,
   "metadata": {},
   "outputs": [
    {
     "name": "stdout",
     "output_type": "stream",
     "text": [
      "8\n",
      "2\n",
      "0\n",
      "0\n",
      "2\n",
      "1\n",
      "3\n",
      "4\n",
      "1\n",
      "[2, 0, 1, 0, 2]\n",
      "[2, 2, 1, 2, 0]\n",
      "[2, 4, 2, 3, 0]\n",
      "[4, 2, 3, 2, 2]\n",
      "[5, 3, 2, 3, 3]\n",
      "[8, 4, 2, 3, 5]\n",
      "[12, 4, 3, 2, 6]\n",
      "[13, 5, 3, 3, 3]\n",
      "3\n"
     ]
    }
   ],
   "source": [
    "# D\n",
    "L = int(input())\n",
    "A_list = [0]*L\n",
    "for i in range(L):\n",
    "    A_list[i] = int(input())\n",
    "\n",
    "DP = [0]*5\n",
    "for i in range(L):\n",
    "    # 全て\n",
    "    r0 = A_list[i]\n",
    "    # 通過する場合\n",
    "    r1 = (A_list[i] + 1) % 2\n",
    "    # 往復する場合\n",
    "    if A_list[i] == 0:\n",
    "        r2 = 2\n",
    "    else:\n",
    "        r2 = A_list[i] % 2\n",
    "    \n",
    "    DP[4] = min(DP[0], DP[1], DP[2], DP[3], DP[4]) + r0\n",
    "    DP[3] = min(DP[0], DP[1], DP[2], DP[3]) + r2\n",
    "    DP[2] = min(DP[0], DP[1], DP[2]) + r1\n",
    "    DP[1] = min(DP[0], DP[1]) + r2\n",
    "    DP[0] = DP[0] + r0\n",
    "    \n",
    "print(min(DP))"
   ]
  },
  {
   "cell_type": "code",
   "execution_count": 31,
   "metadata": {},
   "outputs": [
    {
     "data": {
      "text/plain": [
       "'0'"
      ]
     },
     "execution_count": 31,
     "metadata": {},
     "output_type": "execute_result"
    }
   ],
   "source": [
    "s = '02'\n",
    "s[0]"
   ]
  },
  {
   "cell_type": "code",
   "execution_count": 4,
   "metadata": {},
   "outputs": [
    {
     "name": "stdout",
     "output_type": "stream",
     "text": [
      "... test case 0 ...\n",
      "<<< 2 2\n",
      "<<< 0 1\n",
      "<<< 1 0\n",
      "6\n",
      "... test case 1 ...\n",
      "<<< 2 3\n",
      "<<< 0 0 0\n",
      "<<< 0 1 0\n",
      "8\n",
      "\n",
      "========== Report ==========\n",
      "test 0 :       True\n",
      "test 1 :       True\n"
     ]
    }
   ],
   "source": [
    "%%test_input https://atcoder.jp/contests/yahoo-procon2019-qual/tasks/yahoo_procon2019_qual_e\n",
    "# E\n",
    "import numpy as np\n",
    "\n",
    "n,m = map(int, input().split())\n",
    "A = np.array([ list(map(int, input().split())) for _ in range(n) ])\n",
    "r = np.linalg.matrix_rank(A)\n",
    "print(((2**n - 2**(n-r))*(2**(m-1))) % 998244353)"
   ]
  },
  {
   "cell_type": "code",
   "execution_count": 42,
   "metadata": {},
   "outputs": [
    {
     "name": "stdout",
     "output_type": "stream",
     "text": [
      "... test case 0 ...\n",
      "<<< 02\n",
      "0\n",
      "!!! WA case0\n",
      "!!! Answer : \n",
      "3\n",
      "\n",
      "\n",
      "... test case 1 ...\n",
      "<<< 1210\n",
      "256\n",
      "!!! WA case1\n",
      "!!! Answer : \n",
      "55\n",
      "\n",
      "\n",
      "... test case 2 ...\n",
      "<<< 12001021211100201020\n",
      "0\n",
      "!!! WA case2\n",
      "!!! Answer : \n",
      "543589959\n",
      "\n",
      "\n",
      "\n",
      "========== Report ==========\n",
      "test 0 :      False\n",
      "test 1 :      False\n",
      "test 2 :      False\n"
     ]
    }
   ],
   "source": [
    "%%test_input https://atcoder.jp/contests/yahoo-procon2019-qual/tasks/yahoo_procon2019_qual_f\n",
    "# 06\n",
    "N_MAX = 4005\n",
    "s = str(input())\n",
    "N = len(s)\n",
    "s = '#' + s\n",
    "mod = 998244353\n",
    "\n",
    "sumR = [0]*2005\n",
    "sumB = [0]*2005\n",
    "DP = [[0]*N_MAX]*N_MAX\n",
    "\n",
    "for i in range(1,N+1):\n",
    "    sumR[i] = sumR[i-1]\n",
    "    sumB[i] = sumB[i-1]\n",
    "    if s[i] == '0':\n",
    "        sumR[i] += 2\n",
    "    if s[i] == '1':\n",
    "        sumR[i] += 1\n",
    "        sumB[i] += 1\n",
    "    if s[i] == '2':\n",
    "        sumB[i] += 2\n",
    "\n",
    "DP[0][0] = 1\n",
    "for i in range(1, 2*N+1):\n",
    "    for j in range(2*N+1):\n",
    "        DP[i][j] += DP[i-1][j]\n",
    "        DP[i][j] %= mod\n",
    "        if j>0:\n",
    "            DP[i][j] += DP[i-1][j-1]\n",
    "            DP[i][j] %= mod\n",
    "        if i<=N and (j > sumR[i] or i-j > sumB[i]):\n",
    "            DP[i][j] = 0\n",
    "\n",
    "print(DP[2*N][sumR[N]])"
   ]
  },
  {
   "cell_type": "code",
   "execution_count": 45,
   "metadata": {},
   "outputs": [
    {
     "data": {
      "text/plain": [
       "1"
      ]
     },
     "execution_count": 45,
     "metadata": {},
     "output_type": "execute_result"
    }
   ],
   "source": [
    "DP[0][0] = 1\n",
    "DP[0][0]"
   ]
  },
  {
   "cell_type": "code",
   "execution_count": null,
   "metadata": {
    "collapsed": true
   },
   "outputs": [],
   "source": []
  },
  {
   "cell_type": "code",
   "execution_count": null,
   "metadata": {
    "collapsed": true
   },
   "outputs": [],
   "source": []
  }
 ],
 "metadata": {
  "kernelspec": {
   "display_name": "Python 3",
   "language": "python",
   "name": "python3"
  },
  "language_info": {
   "codemirror_mode": {
    "name": "ipython",
    "version": 3
   },
   "file_extension": ".py",
   "mimetype": "text/x-python",
   "name": "python",
   "nbconvert_exporter": "python",
   "pygments_lexer": "ipython3",
   "version": "3.6.3"
  }
 },
 "nbformat": 4,
 "nbformat_minor": 2
}
