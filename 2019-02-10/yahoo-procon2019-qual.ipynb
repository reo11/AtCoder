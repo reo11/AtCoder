{
 "cells": [
  {
   "cell_type": "code",
   "execution_count": 1,
   "metadata": {},
   "outputs": [],
   "source": [
    "# sample\n",
    "# -*- coding: utf-8 -*-\n",
    "# 整数の入力\n",
    "a = int(input())\n",
    "# スペース区切りの整数の入力\n",
    "b, c = map(int, input().split())\n",
    "# 文字列の入力\n",
    "s = input()\n",
    "# 出力\n",
    "print(\"{} {}\".format(a+b+c, s))"
   ]
  },
  {
   "cell_type": "code",
   "execution_count": null,
   "metadata": {},
   "outputs": [],
   "source": [
    "# 01\n",
    "\n",
    "a, b = map(int, input().split())\n",
    "\n",
    "if int((a+1)/2)   >= b:\n",
    "    result = 'YES'\n",
    "else:\n",
    "    result = 'NO'\n",
    "# 出力\n",
    "print(\"{}\".format(result))"
   ]
  },
  {
   "cell_type": "code",
   "execution_count": 10,
   "metadata": {},
   "outputs": [
    {
     "name": "stdout",
     "output_type": "stream",
     "text": [
      "2 1\n",
      "3 2\n",
      "4 3\n",
      "YES\n"
     ]
    }
   ],
   "source": [
    "# 02\n",
    "\n",
    "a1, b1 = map(int, input().split())\n",
    "a2, b2 = map(int, input().split())\n",
    "a3, b3 = map(int, input().split())\n",
    "\n",
    "tapple = (a1,a2,a3,b1,b2,b3)\n",
    "city_list = list(tapple)\n",
    "\n",
    "city_num = []\n",
    "isYes = True\n",
    "\n",
    "for index in range(4):\n",
    "    num = index+1\n",
    "    city_num.append(city_list.count(num))\n",
    "    if city_list.count(num) >= 3:\n",
    "        isYes = False\n",
    "if isYes:\n",
    "    print('YES')\n",
    "else:\n",
    "    print('NO')\n",
    "\n",
    "# 出力\n",
    "# print(\"{}\".format(result))\n"
   ]
  },
  {
   "cell_type": "code",
   "execution_count": 32,
   "metadata": {},
   "outputs": [
    {
     "name": "stdout",
     "output_type": "stream",
     "text": [
      "314159265 35897932 384626433\n",
      "48518828981938099\n"
     ]
    }
   ],
   "source": [
    "# 03\n",
    "# ほぼクッキークリッカー\n",
    "k, a, b = map(int, input().split())\n",
    "\n",
    "cookie = 0\n",
    "\n",
    "if a + 2 >= b or k + 1 < a:\n",
    "    cookie = k + 1\n",
    "else:\n",
    "    action = int((k-(a-1))/2)\n",
    "    cookie = a\n",
    "    if action >= 1:\n",
    "        cookie += action*(b-a)\n",
    "    if (k-(a-1))/2 - action > 0:\n",
    "        cookie += 1\n",
    "\n",
    "print('{}'.format(cookie))"
   ]
  },
  {
   "cell_type": "code",
   "execution_count": 18,
   "metadata": {},
   "outputs": [
    {
     "data": {
      "text/plain": [
       "0"
      ]
     },
     "execution_count": 18,
     "metadata": {},
     "output_type": "execute_result"
    }
   ],
   "source": [
    "action"
   ]
  },
  {
   "cell_type": "code",
   "execution_count": null,
   "metadata": {},
   "outputs": [],
   "source": [
    "# 04 \n",
    "# すぬけ君あわれ\n",
    "\n",
    "l = int(input()) \n",
    "a = [int(input()) for i in range(l)] \n",
    "new_list = []\n",
    "for index, value in enumerate(a):\n",
    "    if index > 0:\n",
    "        new_list.append(a[index-1])\n",
    "a_list = []\n",
    "for index, value in enumerate(new_list):\n",
    "    if index > 0:\n",
    "        a_list.append(a[index-1])\n",
    "print(a_list)"
   ]
  },
  {
   "cell_type": "code",
   "execution_count": 36,
   "metadata": {},
   "outputs": [
    {
     "name": "stdout",
     "output_type": "stream",
     "text": [
      "8\n",
      "2\n",
      "0\n",
      "0\n",
      "2\n",
      "1\n",
      "3\n",
      "4\n",
      "1\n",
      "[2, 0, 1, 0, 2]\n",
      "[2, 2, 1, 2, 0]\n",
      "[2, 4, 2, 3, 0]\n",
      "[4, 2, 3, 2, 2]\n",
      "[5, 3, 2, 3, 3]\n",
      "[8, 4, 2, 3, 5]\n",
      "[12, 4, 3, 2, 6]\n",
      "[13, 5, 3, 3, 3]\n",
      "3\n"
     ]
    }
   ],
   "source": [
    "# D\n",
    "L = int(input())\n",
    "A_list = [0]*L\n",
    "for i in range(L):\n",
    "    A_list[i] = int(input())\n",
    "\n",
    "DP = [0]*5\n",
    "for i in range(L):\n",
    "    # 全て\n",
    "    r0 = A_list[i]\n",
    "    # 通過する場合\n",
    "    r1 = (A_list[i] + 1) % 2\n",
    "    # 往復する場合\n",
    "    if A_list[i] == 0:\n",
    "        r2 = 2\n",
    "    else:\n",
    "        r2 = A_list[i] % 2\n",
    "    \n",
    "    DP[4] = min(DP[0], DP[1], DP[2], DP[3], DP[4]) + r0\n",
    "    DP[3] = min(DP[0], DP[1], DP[2], DP[3]) + r2\n",
    "    DP[2] = min(DP[0], DP[1], DP[2]) + r1\n",
    "    DP[1] = min(DP[0], DP[1]) + r2\n",
    "    DP[0] = DP[0] + r0\n",
    "    print(DP)\n",
    "    \n",
    "print(min(DP))"
   ]
  },
  {
   "cell_type": "code",
   "execution_count": 31,
   "metadata": {},
   "outputs": [
    {
     "data": {
      "text/plain": [
       "'0'"
      ]
     },
     "execution_count": 31,
     "metadata": {},
     "output_type": "execute_result"
    }
   ],
   "source": [
    "s = '02'\n",
    "s[0]"
   ]
  },
  {
   "cell_type": "code",
   "execution_count": 4,
   "metadata": {},
   "outputs": [
    {
     "name": "stdout",
     "output_type": "stream",
     "text": [
      "12001021211100201020\n",
      "118\n"
     ]
    },
    {
     "ename": "ValueError",
     "evalue": "factorial() not defined for negative values",
     "output_type": "error",
     "traceback": [
      "\u001b[1;31m-----------------------------------------------------------------------\u001b[0m",
      "\u001b[1;31mValueError\u001b[0m                            Traceback (most recent call last)",
      "\u001b[1;32m<ipython-input-4-6c0f0183e0d3>\u001b[0m in \u001b[0;36m<module>\u001b[1;34m\u001b[0m\n\u001b[0;32m     26\u001b[0m \u001b[1;31m#     result += 1\u001b[0m\u001b[1;33m\u001b[0m\u001b[1;33m\u001b[0m\u001b[1;33m\u001b[0m\u001b[0m\n\u001b[0;32m     27\u001b[0m \u001b[0mprint\u001b[0m\u001b[1;33m(\u001b[0m\u001b[0mresult\u001b[0m\u001b[1;33m)\u001b[0m\u001b[1;33m\u001b[0m\u001b[1;33m\u001b[0m\u001b[0m\n\u001b[1;32m---> 28\u001b[1;33m \u001b[0mprint\u001b[0m\u001b[1;33m(\u001b[0m\u001b[0mcombinations_count\u001b[0m\u001b[1;33m(\u001b[0m\u001b[0mN\u001b[0m\u001b[1;33m,\u001b[0m \u001b[1;36m118\u001b[0m\u001b[1;33m)\u001b[0m\u001b[1;33m)\u001b[0m\u001b[1;33m\u001b[0m\u001b[1;33m\u001b[0m\u001b[0m\n\u001b[0m",
      "\u001b[1;32m<ipython-input-4-6c0f0183e0d3>\u001b[0m in \u001b[0;36mcombinations_count\u001b[1;34m(n, r)\u001b[0m\n\u001b[0;32m      2\u001b[0m \u001b[1;32mimport\u001b[0m \u001b[0mmath\u001b[0m\u001b[1;33m\u001b[0m\u001b[1;33m\u001b[0m\u001b[0m\n\u001b[0;32m      3\u001b[0m \u001b[1;32mdef\u001b[0m \u001b[0mcombinations_count\u001b[0m\u001b[1;33m(\u001b[0m\u001b[0mn\u001b[0m\u001b[1;33m,\u001b[0m \u001b[0mr\u001b[0m\u001b[1;33m)\u001b[0m\u001b[1;33m:\u001b[0m\u001b[1;33m\u001b[0m\u001b[1;33m\u001b[0m\u001b[0m\n\u001b[1;32m----> 4\u001b[1;33m     \u001b[1;32mreturn\u001b[0m \u001b[0mmath\u001b[0m\u001b[1;33m.\u001b[0m\u001b[0mfactorial\u001b[0m\u001b[1;33m(\u001b[0m\u001b[0mn\u001b[0m\u001b[1;33m)\u001b[0m \u001b[1;33m//\u001b[0m \u001b[1;33m(\u001b[0m\u001b[0mmath\u001b[0m\u001b[1;33m.\u001b[0m\u001b[0mfactorial\u001b[0m\u001b[1;33m(\u001b[0m\u001b[0mn\u001b[0m \u001b[1;33m-\u001b[0m \u001b[0mr\u001b[0m\u001b[1;33m)\u001b[0m \u001b[1;33m*\u001b[0m \u001b[0mmath\u001b[0m\u001b[1;33m.\u001b[0m\u001b[0mfactorial\u001b[0m\u001b[1;33m(\u001b[0m\u001b[0mr\u001b[0m\u001b[1;33m)\u001b[0m\u001b[1;33m)\u001b[0m\u001b[1;33m\u001b[0m\u001b[1;33m\u001b[0m\u001b[0m\n\u001b[0m\u001b[0;32m      5\u001b[0m \u001b[1;33m\u001b[0m\u001b[0m\n\u001b[0;32m      6\u001b[0m \u001b[0ms\u001b[0m \u001b[1;33m=\u001b[0m \u001b[0mstr\u001b[0m\u001b[1;33m(\u001b[0m\u001b[0minput\u001b[0m\u001b[1;33m(\u001b[0m\u001b[1;33m)\u001b[0m\u001b[1;33m)\u001b[0m\u001b[1;33m\u001b[0m\u001b[1;33m\u001b[0m\u001b[0m\n",
      "\u001b[1;31mValueError\u001b[0m: factorial() not defined for negative values"
     ]
    }
   ],
   "source": [
    "# 06\n",
    "import math\n",
    "def combinations_count(n, r):\n",
    "    return math.factorial(n) // (math.factorial(n - r) * math.factorial(r))\n",
    "\n",
    "s = str(input())\n",
    "count = 1\n",
    "red = 0\n",
    "N = 2 * len(s)\n",
    "red = s.count('0')*2\n",
    "red += s.count('1')\n",
    "if s[0] == '1':\n",
    "    count = 2\n",
    "count += pow(1,s.count('00'))\n",
    "count += pow(3,s.count('01'))\n",
    "count += pow(3,s.count('02'))\n",
    "count += pow(3,s.count('10'))\n",
    "count += pow(6,s.count('11'))\n",
    "count += pow(3,s.count('12'))\n",
    "count += pow(3,s.count('20'))\n",
    "count += pow(3,s.count('21'))\n",
    "count += pow(1,s.count('22'))\n",
    "\n",
    "result = count % 998244353\n",
    "# if s[0] == '1':\n",
    "#     result += 1\n",
    "print(result)\n",
    "print(combinations_count(N, ))\n"
   ]
  },
  {
   "cell_type": "code",
   "execution_count": null,
   "metadata": {},
   "outputs": [],
   "source": []
  },
  {
   "cell_type": "code",
   "execution_count": null,
   "metadata": {},
   "outputs": [],
   "source": []
  },
  {
   "cell_type": "code",
   "execution_count": null,
   "metadata": {},
   "outputs": [],
   "source": []
  }
 ],
 "metadata": {
  "kernelspec": {
   "display_name": "Python 3",
   "language": "python",
   "name": "python3"
  },
  "language_info": {
   "codemirror_mode": {
    "name": "ipython",
    "version": 3
   },
   "file_extension": ".py",
   "mimetype": "text/x-python",
   "name": "python",
   "nbconvert_exporter": "python",
   "pygments_lexer": "ipython3",
   "version": "3.6.7"
  }
 },
 "nbformat": 4,
 "nbformat_minor": 2
}
