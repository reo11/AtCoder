{
 "cells": [
  {
   "cell_type": "code",
   "execution_count": 1,
   "metadata": {},
   "outputs": [
    {
     "name": "stdout",
     "output_type": "stream",
     "text": [
      "\n"
     ]
    },
    {
     "ename": "ValueError",
     "evalue": "invalid literal for int() with base 10: ''",
     "output_type": "error",
     "traceback": [
      "\u001b[1;31m-----------------------------------------------------------------------\u001b[0m",
      "\u001b[1;31mValueError\u001b[0m                            Traceback (most recent call last)",
      "\u001b[1;32m<ipython-input-1-cdac61354114>\u001b[0m in \u001b[0;36m<module>\u001b[1;34m()\u001b[0m\n\u001b[0;32m      1\u001b[0m \u001b[0ma\u001b[0m \u001b[1;33m=\u001b[0m \u001b[1;33m[\u001b[0m\u001b[1;33m]\u001b[0m\u001b[1;33m\u001b[0m\u001b[0m\n\u001b[0;32m      2\u001b[0m \u001b[1;32mfor\u001b[0m \u001b[0mi\u001b[0m \u001b[1;32min\u001b[0m \u001b[0mrange\u001b[0m\u001b[1;33m(\u001b[0m\u001b[1;36m5\u001b[0m\u001b[1;33m)\u001b[0m\u001b[1;33m:\u001b[0m\u001b[1;33m\u001b[0m\u001b[0m\n\u001b[1;32m----> 3\u001b[1;33m     \u001b[0ma\u001b[0m\u001b[1;33m.\u001b[0m\u001b[0mappend\u001b[0m\u001b[1;33m(\u001b[0m\u001b[0mint\u001b[0m\u001b[1;33m(\u001b[0m\u001b[0minput\u001b[0m\u001b[1;33m(\u001b[0m\u001b[1;33m)\u001b[0m\u001b[1;33m)\u001b[0m\u001b[1;33m)\u001b[0m\u001b[1;33m\u001b[0m\u001b[0m\n\u001b[0m\u001b[0;32m      4\u001b[0m \u001b[0mk\u001b[0m \u001b[1;33m=\u001b[0m \u001b[0mint\u001b[0m\u001b[1;33m(\u001b[0m\u001b[0minput\u001b[0m\u001b[1;33m(\u001b[0m\u001b[1;33m)\u001b[0m\u001b[1;33m)\u001b[0m\u001b[1;33m\u001b[0m\u001b[0m\n\u001b[0;32m      5\u001b[0m \u001b[0mans\u001b[0m \u001b[1;33m=\u001b[0m \u001b[1;32mTrue\u001b[0m\u001b[1;33m\u001b[0m\u001b[0m\n",
      "\u001b[1;31mValueError\u001b[0m: invalid literal for int() with base 10: ''"
     ]
    }
   ],
   "source": [
    "# A \n",
    "a = []\n",
    "for i in range(5):\n",
    "    a.append(int(input()))\n",
    "k = int(input())\n",
    "ans = True\n",
    "for i in range(5):\n",
    "    for j in range(5):\n",
    "        if abs(a[i] - a[j]) > k:\n",
    "            ans = False\n",
    "if ans:\n",
    "    print('Yay!')\n",
    "else:\n",
    "    print(':(')"
   ]
  },
  {
   "cell_type": "code",
   "execution_count": 21,
   "metadata": {},
   "outputs": [
    {
     "name": "stdout",
     "output_type": "stream",
     "text": [
      "123\n",
      "123\n",
      "123\n",
      "123\n",
      "123\n",
      "643\n"
     ]
    }
   ],
   "source": [
    "import math\n",
    "a = [[] for i in range(5)]\n",
    "min_inp = 0\n",
    "for i in range(5):\n",
    "    inp = int(input())\n",
    "    inp_ceil = math.ceil(inp/10)*10\n",
    "    first = inp - int(inp/10) * 10\n",
    "    if first == 0:\n",
    "        first = 10\n",
    "    a[i].append(inp)\n",
    "    a[i].append(inp_ceil)\n",
    "    a[i].append(first)\n",
    "a = sorted(a, key=lambda x: x[2])\n",
    "ans = a[0][0]\n",
    "\n",
    "for i in range(4):\n",
    "    ans += a[i+1][1]\n",
    "\n",
    "print(ans)"
   ]
  },
  {
   "cell_type": "code",
   "execution_count": 33,
   "metadata": {},
   "outputs": [
    {
     "name": "stdout",
     "output_type": "stream",
     "text": [
      "5\n",
      "3\n",
      "2\n",
      "4\n",
      "3\n",
      "5\n",
      "7\n"
     ]
    }
   ],
   "source": [
    "# C\n",
    "import math\n",
    "n = int(input())\n",
    "a = []\n",
    "for i in range(5):\n",
    "    a.append(int(input()))\n",
    "ans = math.ceil((n/min(a) + 5) - 1)\n",
    "print(ans)"
   ]
  },
  {
   "cell_type": "code",
   "execution_count": 16,
   "metadata": {},
   "outputs": [
    {
     "name": "stdout",
     "output_type": "stream",
     "text": [
      "2 2 2 8\n",
      "4 6\n",
      "1 5\n",
      "3 8\n",
      "19\n",
      "17\n",
      "15\n",
      "14\n",
      "13\n",
      "12\n",
      "10\n",
      "8\n"
     ]
    }
   ],
   "source": [
    "# D\n",
    "x, y, z, k = map(int, input().split())\n",
    "a = list(map(int, input().split()))\n",
    "b = list(map(int, input().split()))\n",
    "c = list(map(int, input().split()))\n",
    "a.sort(reverse=True)\n",
    "b.sort(reverse=True)\n",
    "c.sort(reverse=True)\n",
    "\n",
    "ans = []\n",
    "for index_i, i in enumerate(a):\n",
    "    for index_j, j in enumerate(b):\n",
    "        for index_l, l in enumerate(c):\n",
    "            if ((index_i+1)*(index_j+1)*(index_l+1) <= k):\n",
    "                ans.append(i+j+l)\n",
    "            else:\n",
    "                break\n",
    "ans.sort(reverse=True)\n",
    "for i in range(k):\n",
    "    print(ans[i])"
   ]
  },
  {
   "cell_type": "code",
   "execution_count": null,
   "metadata": {
    "collapsed": true
   },
   "outputs": [],
   "source": []
  }
 ],
 "metadata": {
  "kernelspec": {
   "display_name": "Python 3",
   "language": "python",
   "name": "python3"
  },
  "language_info": {
   "codemirror_mode": {
    "name": "ipython",
    "version": 3
   },
   "file_extension": ".py",
   "mimetype": "text/x-python",
   "name": "python",
   "nbconvert_exporter": "python",
   "pygments_lexer": "ipython3",
   "version": "3.6.3"
  }
 },
 "nbformat": 4,
 "nbformat_minor": 2
}
