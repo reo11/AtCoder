{
 "cells": [
  {
   "cell_type": "code",
   "execution_count": 5,
   "metadata": {},
   "outputs": [
    {
     "name": "stdin",
     "output_type": "stream",
     "text": [
      " 31 41 59\n"
     ]
    },
    {
     "name": "stdout",
     "output_type": "stream",
     "text": [
      "No\n"
     ]
    }
   ],
   "source": [
    "# A\n",
    "a, b, c = map(int, input().split())\n",
    "if a <= c <= b or a >= c >= b:\n",
    "    print(\"Yes\")\n",
    "else:\n",
    "    print(\"No\")"
   ]
  },
  {
   "cell_type": "code",
   "execution_count": 3,
   "metadata": {},
   "outputs": [
    {
     "name": "stdin",
     "output_type": "stream",
     "text": [
      " 5\n",
      " error\n",
      " 2\n"
     ]
    },
    {
     "name": "stdout",
     "output_type": "stream",
     "text": [
      "*rr*r\n"
     ]
    }
   ],
   "source": [
    "# B\n",
    "n = int(input())\n",
    "s = str(input())\n",
    "k = int(input())\n",
    "\n",
    "c = s[k-1]\n",
    "st = \"\"\n",
    "for char in list(s):\n",
    "    if char != c:\n",
    "        st = st + \"*\"\n",
    "    else:\n",
    "        st = st + char\n",
    "print(st)"
   ]
  },
  {
   "cell_type": "code",
   "execution_count": 8,
   "metadata": {},
   "outputs": [
    {
     "name": "stdin",
     "output_type": "stream",
     "text": [
      " 3\n",
      " #.#\n"
     ]
    },
    {
     "name": "stdout",
     "output_type": "stream",
     "text": [
      "1\n"
     ]
    }
   ],
   "source": [
    "# C after\n",
    "n = int(input())\n",
    "s = str(input())\n",
    "\n",
    "count_dot = 0\n",
    "for i in range(n):\n",
    "    if s[i] == \".\":\n",
    "        count_dot += 1\n",
    "count_sharp = 0\n",
    "\n",
    "ans = n\n",
    "for i in range(n):\n",
    "    ans = min(ans, count_dot+count_sharp)\n",
    "    if s[i] == \"#\":\n",
    "        count_sharp += 1\n",
    "    else:\n",
    "        count_dot -= 1\n",
    "ans = min(ans, count_dot+count_sharp)\n",
    "print(ans)"
   ]
  },
  {
   "cell_type": "code",
   "execution_count": null,
   "metadata": {},
   "outputs": [],
   "source": [
    "# D\n"
   ]
  },
  {
   "cell_type": "code",
   "execution_count": null,
   "metadata": {},
   "outputs": [],
   "source": []
  },
  {
   "cell_type": "code",
   "execution_count": null,
   "metadata": {},
   "outputs": [],
   "source": []
  },
  {
   "cell_type": "code",
   "execution_count": null,
   "metadata": {},
   "outputs": [],
   "source": []
  },
  {
   "cell_type": "code",
   "execution_count": null,
   "metadata": {},
   "outputs": [],
   "source": []
  },
  {
   "cell_type": "code",
   "execution_count": 62,
   "metadata": {},
   "outputs": [
    {
     "name": "stdin",
     "output_type": "stream",
     "text": [
      " 9\n",
      " .#.....##\n"
     ]
    },
    {
     "name": "stdout",
     "output_type": "stream",
     "text": [
      "3\n"
     ]
    }
   ],
   "source": [
    "# C\n",
    "n = int(input())\n",
    "s = str(input())\n",
    "\n",
    "dot = True\n",
    "sharp = True\n",
    "count_dot = 0\n",
    "# ....####にする場合\n",
    "for i in range(n):\n",
    "    if sharp and s[i] == \".\":\n",
    "        sharp = False\n",
    "    if sharp and s[i] == \"#\":\n",
    "        count_dot += 1\n",
    "        continue\n",
    "    elif dot and s[i] == \".\":\n",
    "        continue\n",
    "    else:\n",
    "        dot = False\n",
    "        if s[i] == \".\":\n",
    "            count_dot += 1\n",
    "\n",
    "# ########にする場合\n",
    "black_count = 0\n",
    "for i in range(n):\n",
    "    if s[i] == \"#\":\n",
    "        black_count += 1\n",
    "\n",
    "# .......にする場合\n",
    "white_count = 0\n",
    "for i in range(n):\n",
    "    if s[i] == \".\":\n",
    "        white_count += 1\n",
    "    \n",
    "print(min(count_dot, black_count, white_count))\n"
   ]
  },
  {
   "cell_type": "code",
   "execution_count": null,
   "metadata": {},
   "outputs": [],
   "source": [
    "# D\n",
    "MOD = 998244353\n",
    "\n",
    "n = int(input())\n",
    "a = [int(input()) for i in range(n)]\n"
   ]
  },
  {
   "cell_type": "code",
   "execution_count": null,
   "metadata": {},
   "outputs": [],
   "source": [
    "# E"
   ]
  },
  {
   "cell_type": "code",
   "execution_count": 68,
   "metadata": {},
   "outputs": [
    {
     "name": "stdin",
     "output_type": "stream",
     "text": [
      " 3\n",
      " ..#\n"
     ]
    },
    {
     "name": "stdout",
     "output_type": "stream",
     "text": [
      "[0, 0, 0]\n"
     ]
    }
   ],
   "source": [
    "# C\n",
    "n = int(input())\n",
    "s = str(input())\n",
    "\n",
    "# ....####にする場合\n",
    "su = [0] * n\n",
    "v = 0\n",
    "count_dot = 0\n",
    "for i in raneg(n):\n",
    "    if s[i] == \".\":\n",
    "        count_dot += 1\n",
    "for i in range(n):\n",
    "    if s[i] == \".\":\n",
    "        count_dot -= 1\n",
    "    su[i] = v\n",
    "\n",
    "for i in range(n):\n",
    "    \n",
    "    \n",
    "\n"
   ]
  },
  {
   "cell_type": "markdown",
   "metadata": {},
   "source": [
    "### "
   ]
  }
 ],
 "metadata": {
  "kernelspec": {
   "display_name": "Python 3",
   "language": "python",
   "name": "python3"
  },
  "language_info": {
   "codemirror_mode": {
    "name": "ipython",
    "version": 3
   },
   "file_extension": ".py",
   "mimetype": "text/x-python",
   "name": "python",
   "nbconvert_exporter": "python",
   "pygments_lexer": "ipython3",
   "version": "3.6.6"
  }
 },
 "nbformat": 4,
 "nbformat_minor": 2
}
