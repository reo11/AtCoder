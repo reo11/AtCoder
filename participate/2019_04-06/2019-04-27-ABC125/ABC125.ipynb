{
 "cells": [
  {
   "cell_type": "code",
   "execution_count": 5,
   "metadata": {},
   "outputs": [
    {
     "name": "stdin",
     "output_type": "stream",
     "text": [
      " 20 20 19\n"
     ]
    },
    {
     "name": "stdout",
     "output_type": "stream",
     "text": [
      "0\n"
     ]
    }
   ],
   "source": [
    "# A\n",
    "a, b, t = map(int, input().split())\n",
    "\n",
    "count = a\n",
    "ans = 0\n",
    "while True:\n",
    "    if count > t + 0.5:\n",
    "        break\n",
    "    count += a\n",
    "    ans += b\n",
    "print(ans)"
   ]
  },
  {
   "cell_type": "code",
   "execution_count": 8,
   "metadata": {},
   "outputs": [
    {
     "name": "stdin",
     "output_type": "stream",
     "text": [
      " 1\n",
      " 1\n",
      " 50\n"
     ]
    },
    {
     "name": "stdout",
     "output_type": "stream",
     "text": [
      "0\n"
     ]
    }
   ],
   "source": [
    "# B\n",
    "n = int(input())\n",
    "v = list(map(int, input().split()))\n",
    "c = list(map(int, input().split()))\n",
    "\n",
    "ans = 0\n",
    "for i in range(n):\n",
    "    gain = v[i] - c[i]\n",
    "    if gain > 0:\n",
    "        ans += gain\n",
    "print(ans)"
   ]
  },
  {
   "cell_type": "code",
   "execution_count": 31,
   "metadata": {},
   "outputs": [
    {
     "name": "stdin",
     "output_type": "stream",
     "text": [
      " 3\n",
      " 6 7 8\n"
     ]
    },
    {
     "name": "stdout",
     "output_type": "stream",
     "text": [
      "1\n",
      "[1, 1, 8]\n",
      "[6, 1, 1]\n",
      "2\n",
      "1\n"
     ]
    }
   ],
   "source": [
    "# C\n",
    "import functools\n",
    "# 3.4以前は math の gcd が対応していないので fractions or 自作のものを使う\n",
    "def gcd(a,b):\n",
    "    if a<b:a,b=b,a\n",
    "    if a%b==0:return b\n",
    "    return gcd(b,a%b)\n",
    "\n",
    "# 入力\n",
    "n = int(input())\n",
    "a = list(map(int, input().split()))\n",
    "\n",
    "# 左から一つずつ最大公約数をとるものと、右から一つずる最大公約数をとるものを作る\n",
    "# O(N) + O(N)\n",
    "gcd_left = [a[0]]\n",
    "for i in range(1,n):\n",
    "    if gcd_left[i-1] != 1:\n",
    "        res = gcd(gcd_left[i-1], a[i])\n",
    "    else:\n",
    "        res = 1\n",
    "    gcd_left.append(res)\n",
    "\n",
    "gcd_right = [a[-1]]\n",
    "for i in range(1,n):\n",
    "    if gcd_right[i-1] != 1:\n",
    "        res = gcd(gcd_right[i-1], a[-(i+1)])\n",
    "    else:\n",
    "        res = 1\n",
    "    gcd_right.append(res)\n",
    "gcd_right = gcd_right[::-1]\n",
    "\n",
    "# 最大のものを探す\n",
    "# O(N)\n",
    "ans = 0\n",
    "for i in range(n):\n",
    "    if i == 0:\n",
    "        res = gcd_right[1]\n",
    "    elif i == n-1:\n",
    "        res = gcd_left[-2]\n",
    "    else:\n",
    "        res = gcd(gcd_right[i+1], gcd_left[i-1])\n",
    "    ans = max(res, ans)\n",
    "print(ans)\n"
   ]
  },
  {
   "cell_type": "code",
   "execution_count": null,
   "metadata": {},
   "outputs": [],
   "source": [
    "# D\n",
    "n = int(input())\n",
    "a = list(map(int, input().split()))\n",
    "\n",
    "l_minus = [i for i in a if i <= 0]\n",
    "l_plus = [i for i in a if i > 0]\n",
    "\n",
    "ans = 0\n",
    "if len(l_minus) % 2 == 0:\n",
    "    l_minus_edit = [-i for i in l_minus]\n",
    "else:\n",
    "    l_minus_edit = [-i for i in l_minus]\n",
    "    temp = l_plus[:]\n",
    "    temp.extend(l_minus_edit)\n",
    "    l_minus_edit.append(-min(temp) * 2)\n",
    "\n",
    "ans = sum(l_plus) + sum(l_minus_edit)\n",
    "print(ans)\n"
   ]
  },
  {
   "cell_type": "code",
   "execution_count": null,
   "metadata": {},
   "outputs": [],
   "source": []
  }
 ],
 "metadata": {
  "kernelspec": {
   "display_name": "Python 3",
   "language": "python",
   "name": "python3"
  },
  "language_info": {
   "codemirror_mode": {
    "name": "ipython",
    "version": 3
   },
   "file_extension": ".py",
   "mimetype": "text/x-python",
   "name": "python",
   "nbconvert_exporter": "python",
   "pygments_lexer": "ipython3",
   "version": "3.6.7"
  }
 },
 "nbformat": 4,
 "nbformat_minor": 2
}
