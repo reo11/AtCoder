{
 "cells": [
  {
   "cell_type": "markdown",
   "metadata": {},
   "source": [
    "### Atcoder Typical DP Contest\n",
    "#### https://tdpc.contest.atcoder.jp/"
   ]
  },
  {
   "cell_type": "code",
   "execution_count": 4,
   "metadata": {},
   "outputs": [
    {
     "name": "stdin",
     "output_type": "stream",
     "text": [
      " 3\n",
      " 2 3 5\n"
     ]
    },
    {
     "name": "stdout",
     "output_type": "stream",
     "text": [
      "7\n"
     ]
    }
   ],
   "source": [
    "# A\n",
    "n = int(input())\n",
    "p = list(map(int, input().split()))\n",
    "length = sum(p)\n",
    "dp = [[0]*(length+1) for i in range(n+1)]\n",
    "# 全てのコンテストで0点は取れる\n",
    "dp[0][0] = 1\n",
    "\n",
    "for i in range(1, n+1):\n",
    "    for j in range(length+1):\n",
    "        # 前ステップのコピー、前ステップから減ることはない\n",
    "        if dp[i-1][j] == 1:\n",
    "            dp[i][j] = 1\n",
    "        # jがp[i-1]を超えている場合、全ステップが点数j-p[i-1]が存在するかチェックし、存在する場合、jを1にする\n",
    "        # 例えば j = 10の時、 p[i-1]が3であり、点数7が存在するなら点数10が1になる\n",
    "        elif j >= p[i-1] and dp[i-1][j-p[i-1]] == 1:\n",
    "            dp[i][j] = 1\n",
    "print(sum(dp[-1]))"
   ]
  },
  {
   "cell_type": "code",
   "execution_count": 19,
   "metadata": {},
   "outputs": [
    {
     "name": "stdin",
     "output_type": "stream",
     "text": [
      " 5 5\n",
      " 2 4 5 4 2\n",
      " 2 8 3 4 5\n"
     ]
    },
    {
     "name": "stdout",
     "output_type": "stream",
     "text": [
      "5 = 2 + 0 + 5 + 0 - min(5, 2)\n",
      "7 = 2 + 0 + 4 + 5 - min(4, 5)\n",
      "7 = 2 + 0 + 8 + 4 - min(8, 7)\n",
      "15 = 2 + 0 + 12 + 8 - min(12, 7)\n",
      "14 = 2 + 0 + 10 + 12 - min(10, 15)\n",
      "7 = 4 + 2 + 5 + 0 - min(5, 4)\n",
      "8 = 4 + 2 + 4 + 5 - min(7, 7)\n",
      "11 = 4 + 2 + 8 + 4 - min(7, 8)\n",
      "15 = 4 + 2 + 12 + 8 - min(15, 11)\n",
      "14 = 4 + 2 + 10 + 12 - min(14, 15)\n",
      "9 = 7 + 4 + 5 + 0 - min(7, 7)\n",
      "12 = 7 + 4 + 4 + 5 - min(8, 9)\n",
      "12 = 7 + 4 + 8 + 4 - min(11, 12)\n",
      "19 = 7 + 4 + 12 + 8 - min(15, 12)\n",
      "19 = 7 + 4 + 10 + 12 - min(14, 19)\n",
      "12 = 8 + 7 + 5 + 0 - min(9, 8)\n",
      "12 = 8 + 7 + 4 + 5 - min(12, 12)\n",
      "15 = 8 + 7 + 8 + 4 - min(12, 12)\n",
      "20 = 8 + 7 + 12 + 8 - min(19, 15)\n",
      "18 = 8 + 7 + 10 + 12 - min(19, 20)\n",
      "13 = 9 + 8 + 5 + 0 - min(12, 9)\n",
      "14 = 9 + 8 + 4 + 5 - min(12, 13)\n",
      "15 = 9 + 8 + 8 + 4 - min(15, 14)\n",
      "22 = 9 + 8 + 12 + 8 - min(20, 15)\n",
      "21 = 9 + 8 + 10 + 12 - min(18, 22)\n",
      "[[0, 5, 4, 8, 12, 10], [2, 5, 7, 7, 15, 14], [4, 7, 8, 11, 15, 14], [7, 9, 12, 12, 19, 19], [8, 12, 12, 15, 20, 18], [9, 13, 14, 15, 22, 21]]\n"
     ]
    }
   ],
   "source": [
    "# B\n",
    "A, B =(int(i) for i in input().split())\n",
    "a = [int(i) for i in input().split()]\n",
    "b = [int(i) for i in input().split()]\n",
    "\n",
    "dp = [[0] * (B+1) for i in range(A+1)]\n",
    "dp[1][0] = a[-1]\n",
    "dp[0][1] = b[-1]\n",
    "\n",
    "for i in range(2, A+1):\n",
    "    dp[i][0] = dp[i-2][0] + a[-i]\n",
    "\n",
    "for i in range(2, B+1):\n",
    "    dp[0][i] = dp[0][i-2] + b[-i]\n",
    "\n",
    "for i in range(1, A+1):\n",
    "    for j in range(1, B+1):\n",
    "        dp[i][j] = dp[i][0] + dp[i-1][0] + dp[0][j] + dp[0][j-1] - min(dp[i-1][j], dp[i][j-1])\n",
    "        print(\"{} = {} + {} + {} + {} - min({}, {})\".format(dp[i][j], dp[i][0], dp[i-1][0], dp[0][j], dp[0][j-1], dp[i-1][j], dp[i][j-1]))\n",
    "print(dp)"
   ]
  },
  {
   "cell_type": "code",
   "execution_count": null,
   "metadata": {
    "collapsed": true
   },
   "outputs": [],
   "source": [
    "# C"
   ]
  },
  {
   "cell_type": "code",
   "execution_count": null,
   "metadata": {
    "collapsed": true
   },
   "outputs": [],
   "source": [
    "# D"
   ]
  },
  {
   "cell_type": "code",
   "execution_count": null,
   "metadata": {
    "collapsed": true
   },
   "outputs": [],
   "source": [
    "# E"
   ]
  },
  {
   "cell_type": "code",
   "execution_count": null,
   "metadata": {
    "collapsed": true
   },
   "outputs": [],
   "source": [
    "# F"
   ]
  },
  {
   "cell_type": "code",
   "execution_count": null,
   "metadata": {
    "collapsed": true
   },
   "outputs": [],
   "source": []
  },
  {
   "cell_type": "markdown",
   "metadata": {},
   "source": [
    "#### tester\n",
    "```\n",
    "test_input Atcoder_URL\n",
    "```\n",
    "#### input\n",
    "##### AtCoderで使ってる入力メソッド(Python3)\n",
    "###### https://qiita.com/fmhr/items/77fc453e2fb1bc02e392\n",
    "```\n",
    "n = int(input())\n",
    "\n",
    "s = str(input())\n",
    "```\n",
    "\n",
    "```\n",
    "a, b = map(int, input().split())\n",
    "```\n",
    "\n",
    "```\n",
    "n = int(input())\n",
    "a = list(map(int, input().split()))\n",
    "```\n",
    "\n",
    "\n",
    "##### 1行に複数の数字\n",
    "```\n",
    "2 4 5 7\n",
    "a, b, c, d = map(int, input().split())\n",
    "a=2 b=4 c=5 d =7\n",
    "\n",
    "a = list(map(int, input().split()))\n",
    "# a = [2, 4, 5, 6]\n",
    "```\n",
    "##### 複数行の数字をリストに\n",
    "```\n",
    "3 # n Aの数\n",
    "22 # A1 \n",
    "14 # A2\n",
    "45 # A3\n",
    "\n",
    "n = int(input()) \n",
    "t = [int(input()) for i in range(n)] \n",
    "# t = [22, 14, 45]\n",
    "\n",
    "N = int(input())\n",
    "t = [0] * N\n",
    "x = [0] * N\n",
    "y = [0] * N\n",
    "for i in range(N):\n",
    "    t[i], x[i], y[i] = map(int, input().split())\n",
    "```\n",
    "##### 複数行に複数の数字があるとき\n",
    "```\n",
    "4\n",
    "22 1 45\n",
    "25 53 110\n",
    "4 444 555\n",
    "2 5 0\n",
    "\n",
    "n = int(input())\n",
    "e = [[int(i) for i in input().split()] for i in range(n)] \n",
    "#  [[22, 1, 45], [25, 53, 110], [4, 444, 555], [2, 5, 0]]\n",
    "```"
   ]
  },
  {
   "cell_type": "code",
   "execution_count": null,
   "metadata": {
    "collapsed": true
   },
   "outputs": [],
   "source": []
  }
 ],
 "metadata": {
  "kernelspec": {
   "display_name": "Python 3",
   "language": "python",
   "name": "python3"
  },
  "language_info": {
   "codemirror_mode": {
    "name": "ipython",
    "version": 3
   },
   "file_extension": ".py",
   "mimetype": "text/x-python",
   "name": "python",
   "nbconvert_exporter": "python",
   "pygments_lexer": "ipython3",
   "version": "3.7.1"
  }
 },
 "nbformat": 4,
 "nbformat_minor": 2
}
