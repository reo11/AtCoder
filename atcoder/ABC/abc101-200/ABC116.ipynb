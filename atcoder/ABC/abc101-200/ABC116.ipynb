{
 "cells": [
  {
   "cell_type": "markdown",
   "metadata": {
    "collapsed": true
   },
   "source": [
    "### AtCoder Beginner Contest 116\n",
    "#### https://atcoder.jp/contests/abc116"
   ]
  },
  {
   "cell_type": "code",
   "execution_count": null,
   "metadata": {
    "collapsed": true
   },
   "outputs": [],
   "source": [
    "# test_input Atcoder_URL"
   ]
  },
  {
   "cell_type": "code",
   "execution_count": 2,
   "metadata": {},
   "outputs": [
    {
     "name": "stdout",
     "output_type": "stream",
     "text": [
      "... test case 0 ...\n",
      "<<< 3 4 5\n",
      "6\n",
      "... test case 1 ...\n",
      "<<< 5 12 13\n",
      "30\n",
      "... test case 2 ...\n",
      "<<< 45 28 53\n",
      "630\n",
      "\n",
      "========== Report ==========\n",
      "test 0 :       True\n",
      "test 1 :       True\n",
      "test 2 :       True\n"
     ]
    }
   ],
   "source": [
    "%%test_input https://atcoder.jp/contests/abc116/tasks/abc116_a\n",
    "# A\n",
    "import math\n",
    "a, b, c = map(int, input().split())\n",
    "\n",
    "s = (a + b + c)/2\n",
    "\n",
    "print(int(math.sqrt(s*(s-a)*(s-b)*(s-c))))\n",
    "# 直角三角形なのでヘロンの公式ではなくa*b/2で良い"
   ]
  },
  {
   "cell_type": "code",
   "execution_count": 6,
   "metadata": {},
   "outputs": [
    {
     "name": "stdout",
     "output_type": "stream",
     "text": [
      "... test case 0 ...\n",
      "<<< 8\n",
      "5\n",
      "... test case 1 ...\n",
      "<<< 7\n",
      "18\n",
      "... test case 2 ...\n",
      "<<< 54\n",
      "114\n",
      "\n",
      "========== Report ==========\n",
      "test 0 :       True\n",
      "test 1 :       True\n",
      "test 2 :       True\n"
     ]
    }
   ],
   "source": [
    "%%test_input https://atcoder.jp/contests/abc116/tasks/abc116_b\n",
    "# B\n",
    "s = int(input())\n",
    "\n",
    "def is_unique(seq):\n",
    "    return len(seq) == len(set(seq))\n",
    "\n",
    "a = []\n",
    "a.append(s)\n",
    "for i in range(1, 100000):\n",
    "    if a[i-1] % 2 == 0:\n",
    "        a.append(a[i-1]/2)\n",
    "    else:\n",
    "        a.append(a[i-1]*3 + 1)\n",
    "    if not is_unique(a):\n",
    "        print(i+1)\n",
    "        break"
   ]
  },
  {
   "cell_type": "code",
   "execution_count": 7,
   "metadata": {},
   "outputs": [
    {
     "name": "stdout",
     "output_type": "stream",
     "text": [
      "... test case 0 ...\n",
      "<<< 4\n",
      "<<< 1 2 2 1\n",
      "2\n",
      "... test case 1 ...\n",
      "<<< 5\n",
      "<<< 3 1 2 3 1\n",
      "5\n",
      "... test case 2 ...\n",
      "<<< 8\n",
      "<<< 4 23 75 0 23 96 50 100\n",
      "221\n",
      "\n",
      "========== Report ==========\n",
      "test 0 :       True\n",
      "test 1 :       True\n",
      "test 2 :       True\n"
     ]
    }
   ],
   "source": [
    "%%test_input https://atcoder.jp/contests/abc116/tasks/abc116_c\n",
    "# C\n",
    "N = int(input())\n",
    "h = list(map(int, input().split()))\n",
    "result = 0\n",
    "pre = 0\n",
    "\n",
    "for x in h:\n",
    "    result += max(x-pre, 0)\n",
    "    pre = x\n",
    "print(result)"
   ]
  },
  {
   "cell_type": "code",
   "execution_count": 10,
   "metadata": {},
   "outputs": [
    {
     "name": "stdout",
     "output_type": "stream",
     "text": [
      "... test case 0 ...\n",
      "<<< 5 3\n",
      "<<< 1 9\n",
      "<<< 1 7\n",
      "<<< 2 6\n",
      "<<< 2 5\n",
      "<<< 3 1\n",
      "[[[0], [0], [0], [0], [0]], [[0], [0], [0], [0], [0]], [[0], [0], [0], [0], [0]]]\n",
      "!!! WA case0\n",
      "!!! Answer : \n",
      "26\n",
      "\n",
      "\n",
      "... test case 1 ...\n",
      "<<< 7 4\n",
      "<<< 1 1\n",
      "<<< 2 1\n",
      "<<< 3 1\n",
      "<<< 4 6\n",
      "<<< 4 5\n",
      "<<< 4 5\n",
      "<<< 4 5\n",
      "[[[0], [0], [0], [0], [0], [0], [0]], [[0], [0], [0], [0], [0], [0], [0]], [[0], [0], [0], [0], [0], [0], [0]], [[0], [0], [0], [0], [0], [0], [0]]]\n",
      "!!! WA case1\n",
      "!!! Answer : \n",
      "25\n",
      "\n",
      "\n",
      "... test case 2 ...\n",
      "<<< 6 5\n",
      "<<< 5 1000000000\n",
      "<<< 2 990000000\n",
      "<<< 3 980000000\n",
      "<<< 6 970000000\n",
      "<<< 6 960000000\n",
      "<<< 4 950000000\n",
      "[[[0], [0], [0], [0], [0], [0]], [[0], [0], [0], [0], [0], [0]], [[0], [0], [0], [0], [0], [0]], [[0], [0], [0], [0], [0], [0]], [[0], [0], [0], [0], [0], [0]]]\n",
      "!!! WA case2\n",
      "!!! Answer : \n",
      "4900000016\n",
      "\n",
      "\n",
      "\n",
      "========== Report ==========\n",
      "test 0 :      False\n",
      "test 1 :      False\n",
      "test 2 :      False\n"
     ]
    }
   ],
   "source": [
    "%%test_input https://atcoder.jp/contests/abc116/tasks/abc116_d\n",
    "# D\n",
    "N, K = map(int, input().split())\n",
    "t = [0] * N\n",
    "d = [0] * N\n",
    "for i in range(N):\n",
    "    t[i], d[i] = map(int, input().split())\n",
    "\n",
    "DP = [[[0] for _ in range(K)] for  _ in range(N)]\n",
    "\n",
    "for i in range(N):\n",
    "    for j in range(K):\n",
    "        DP[i+1][j] = max(DP[i][j-1] + d[])\n",
    "print(DP)\n",
    "# このDPでは難しい"
   ]
  },
  {
   "cell_type": "code",
   "execution_count": null,
   "metadata": {
    "collapsed": true
   },
   "outputs": [],
   "source": [
    "%%test_input \n",
    "# E"
   ]
  },
  {
   "cell_type": "code",
   "execution_count": null,
   "metadata": {
    "collapsed": true
   },
   "outputs": [],
   "source": [
    "%%test_input \n",
    "# F"
   ]
  },
  {
   "cell_type": "code",
   "execution_count": null,
   "metadata": {
    "collapsed": true
   },
   "outputs": [],
   "source": []
  },
  {
   "cell_type": "markdown",
   "metadata": {},
   "source": [
    "#### tester\n",
    "```\n",
    "test_input Atcoder_URL\n",
    "```\n",
    "#### input\n",
    "##### AtCoderで使ってる入力メソッド(Python3)\n",
    "###### https://qiita.com/fmhr/items/77fc453e2fb1bc02e392\n",
    "\n",
    "##### 1行に複数の数字\n",
    "```\n",
    "2 4 5 7\n",
    "a, b, c, d = map(int, input().split())\n",
    "a=2 b=4 c=5 d =7\n",
    "\n",
    "a = list(map(int, input().split()))\n",
    "# a = [2, 4, 5, 6]\n",
    "```\n",
    "##### 複数行の数字をリストに\n",
    "```\n",
    "3 # n Aの数\n",
    "22 # A1 \n",
    "14 # A2\n",
    "45 # A3\n",
    "\n",
    "n = int(input()) \n",
    "t = [int(input()) for i in range(n)] \n",
    "# t = [22, 14, 45]\n",
    "\n",
    "N = int(input())\n",
    "t = [0] * N\n",
    "x = [0] * N\n",
    "y = [0] * N\n",
    "for i in range(N):\n",
    "    t[i], x[i], y[i] = map(int, input().split())\n",
    "```\n",
    "##### 複数行に複数の数字があるとき\n",
    "```\n",
    "4\n",
    "22 1 45\n",
    "25 53 110\n",
    "4 444 555\n",
    "2 5 0\n",
    "\n",
    "n = int(input())\n",
    "e = [[int(i) for i in input().split()] for i in range(n)] \n",
    "#  [[22, 1, 45], [25, 53, 110], [4, 444, 555], [2, 5, 0]]\n",
    "```"
   ]
  },
  {
   "cell_type": "code",
   "execution_count": null,
   "metadata": {
    "collapsed": true
   },
   "outputs": [],
   "source": []
  }
 ],
 "metadata": {
  "kernelspec": {
   "display_name": "Python 3",
   "language": "python",
   "name": "python3"
  },
  "language_info": {
   "codemirror_mode": {
    "name": "ipython",
    "version": 3
   },
   "file_extension": ".py",
   "mimetype": "text/x-python",
   "name": "python",
   "nbconvert_exporter": "python",
   "pygments_lexer": "ipython3",
   "version": "3.6.6"
  }
 },
 "nbformat": 4,
 "nbformat_minor": 2
}
