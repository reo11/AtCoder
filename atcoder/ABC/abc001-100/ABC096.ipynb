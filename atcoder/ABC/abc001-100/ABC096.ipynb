{
 "cells": [
  {
   "cell_type": "markdown",
   "metadata": {
    "collapsed": true
   },
   "source": [
    "### AtCoder Beginner Contest 096\n",
    "#### URL"
   ]
  },
  {
   "cell_type": "code",
   "execution_count": null,
   "metadata": {
    "collapsed": true
   },
   "outputs": [],
   "source": [
    "# test_input Atcoder_URL"
   ]
  },
  {
   "cell_type": "code",
   "execution_count": 2,
   "metadata": {},
   "outputs": [
    {
     "name": "stdout",
     "output_type": "stream",
     "text": [
      "... test case 0 ...\n",
      "<<< 5 5\n",
      "5\n",
      "... test case 1 ...\n",
      "<<< 2 1\n",
      "1\n",
      "... test case 2 ...\n",
      "<<< 11 30\n",
      "11\n",
      "\n",
      "========== Report ==========\n",
      "test 0 :       True\n",
      "test 1 :       True\n",
      "test 2 :       True\n"
     ]
    }
   ],
   "source": [
    "%%test_input https://atcoder.jp/contests/abc096/tasks/abc096_a\n",
    "# A\n",
    "a, b = map(int, input().split())\n",
    "\n",
    "if b < a:\n",
    "    print(a-1)\n",
    "else:\n",
    "    print(a)"
   ]
  },
  {
   "cell_type": "code",
   "execution_count": 4,
   "metadata": {},
   "outputs": [
    {
     "name": "stdout",
     "output_type": "stream",
     "text": [
      "... test case 0 ...\n",
      "<<< 5 3 11\n",
      "<<< 1\n",
      "30\n",
      "... test case 1 ...\n",
      "<<< 3 3 4\n",
      "<<< 2\n",
      "22\n",
      "\n",
      "========== Report ==========\n",
      "test 0 :       True\n",
      "test 1 :       True\n"
     ]
    }
   ],
   "source": [
    "%%test_input https://atcoder.jp/contests/abc096/tasks/abc096_b\n",
    "# B\n",
    "a, b, c = map(int, input().split())\n",
    "k = int(input())\n",
    "print(a + b + c + max(a,b,c)*2**k - max(a,b,c))"
   ]
  },
  {
   "cell_type": "code",
   "execution_count": 18,
   "metadata": {},
   "outputs": [
    {
     "name": "stdout",
     "output_type": "stream",
     "text": [
      "... test case 0 ...\n",
      "<<< 3 3\n",
      "<<< .#.\n",
      "<<< ###\n",
      "<<< .#.\n",
      "Yes\n",
      "... test case 1 ...\n",
      "<<< 5 5\n",
      "<<< #.#.#\n",
      "<<< .#.#.\n",
      "<<< #.#.#\n",
      "<<< .#.#.\n",
      "<<< #.#.#\n",
      "No\n",
      "... test case 2 ...\n",
      "<<< 11 11\n",
      "<<< ...#####...\n",
      "<<< .##.....##.\n",
      "<<< #..##.##..#\n",
      "<<< #..##.##..#\n",
      "<<< #.........#\n",
      "<<< #...###...#\n",
      "<<< .#########.\n",
      "<<< .#.#.#.#.#.\n",
      "<<< ##.#.#.#.##\n",
      "<<< ..##.#.##..\n",
      "<<< .##..#..##.\n",
      "Yes\n",
      "\n",
      "========== Report ==========\n",
      "test 0 :       True\n",
      "test 1 :       True\n",
      "test 2 :       True\n"
     ]
    }
   ],
   "source": [
    "%%test_input https://atcoder.jp/contests/abc096/tasks/abc096_c\n",
    "# C\n",
    "h, w = map(int, input().split())\n",
    "s = [list(str(input())) for i in range(h)]\n",
    "\n",
    "can = True\n",
    "for i in range(h-1):\n",
    "    for j in range(w-1):\n",
    "        if s[i][j] == '#':\n",
    "            cnt = 0\n",
    "            if j+1 < w and s[i][j+1] == '#':\n",
    "                cnt += 1\n",
    "            if j-1 >= 0 and s[i][j-1] == '#':\n",
    "                cnt += 1\n",
    "            if i+1 < h and s[i+1][j] == '#':\n",
    "                cnt += 1\n",
    "            if i-1 >= 0 and s[i-1][j] == '#':\n",
    "                cnt += 1\n",
    "            if cnt > 0:\n",
    "                continue\n",
    "            else:\n",
    "                can = False\n",
    "                break\n",
    "    if not can:\n",
    "        break\n",
    "if can:\n",
    "    print('Yes')\n",
    "else:\n",
    "    print('No')"
   ]
  },
  {
   "cell_type": "code",
   "execution_count": 36,
   "metadata": {},
   "outputs": [
    {
     "name": "stdout",
     "output_type": "stream",
     "text": [
      "... test case 0 ...\n",
      "<<< 5\n",
      "11 31 41 61 71\n",
      "!!! WA case0\n",
      "!!! Answer : \n",
      "3 5 7 11 31\n",
      "\n",
      "\n",
      "... test case 1 ...\n",
      "<<< 6\n",
      "11 31 41 61 71 101\n",
      "!!! WA case1\n",
      "!!! Answer : \n",
      "2 3 5 7 11 13\n",
      "\n",
      "\n",
      "... test case 2 ...\n",
      "<<< 8\n",
      "11 31 41 61 71 101 131 151\n",
      "!!! WA case2\n",
      "!!! Answer : \n",
      "2 5 7 13 19 37 67 79\n",
      "\n",
      "\n",
      "\n",
      "========== Report ==========\n",
      "test 0 :      False\n",
      "test 1 :      False\n",
      "test 2 :      False\n"
     ]
    }
   ],
   "source": [
    "%%test_input https://atcoder.jp/contests/abc096/tasks/abc096_d\n",
    "# D\n",
    "n = int(input()) \n",
    "\n",
    "def primes(n):\n",
    "    is_prime = [True] * (n + 1)\n",
    "    is_prime[0] = False\n",
    "    is_prime[1] = False\n",
    "    for i in range(2, int(n**0.5) + 1):\n",
    "        if not is_prime[i]:\n",
    "            continue\n",
    "        for j in range(i * 2, n + 1, i):\n",
    "            is_prime[j] = False\n",
    "    return [i for i in range(n + 1) if is_prime[i]]\n",
    "prime_list = primes(55555)\n",
    "ans_list = []\n",
    "for i in prime_list:\n",
    "    if i%5 == 1:\n",
    "        ans_list.append(i)\n",
    "\n",
    "print(' '.join(map(str, ans_list[:n])))"
   ]
  },
  {
   "cell_type": "code",
   "execution_count": 37,
   "metadata": {},
   "outputs": [
    {
     "name": "stdout",
     "output_type": "stream",
     "text": [
      "... test case 0 ...\n",
      "<<< 5\n",
      "11 31 41 61 71\n",
      "!!! WA case0\n",
      "!!! Answer : \n",
      "3 5 7 11 31\n",
      "\n",
      "\n",
      "... test case 1 ...\n",
      "<<< 6\n",
      "11 31 41 61 71 101\n",
      "!!! WA case1\n",
      "!!! Answer : \n",
      "2 3 5 7 11 13\n",
      "\n",
      "\n",
      "... test case 2 ...\n",
      "<<< 8\n",
      "11 31 41 61 71 101 131 151\n",
      "!!! WA case2\n",
      "!!! Answer : \n",
      "2 5 7 13 19 37 67 79\n",
      "\n",
      "\n",
      "\n",
      "========== Report ==========\n",
      "test 0 :      False\n",
      "test 1 :      False\n",
      "test 2 :      False\n"
     ]
    }
   ],
   "source": [
    "%%test_input https://atcoder.jp/contests/abc096/tasks/abc096_d\n",
    "# D\n",
    "n = int(input()) \n",
    "ans_list = [11, 31, 41, 61, 71, 101, 131, 151, 181, 191, 211, 241, 251, 271, 281, 311, 331, 401, 421, 431, 461, 491, 521, 541, 571, 601, 631, 641, 661, 691, 701, 751, 761, 811, 821, 881, 911, 941, 971, 991, 1021, 1031, 1051, 1061, 1091, 1151, 1171, 1181, 1201, 1231, 1291, 1301, 1321, 1361, 1381]\n",
    "print(' '.join(map(str, ans_list[:n])))"
   ]
  },
  {
   "cell_type": "code",
   "execution_count": null,
   "metadata": {
    "collapsed": true
   },
   "outputs": [],
   "source": [
    "%%test_input \n",
    "# E"
   ]
  },
  {
   "cell_type": "code",
   "execution_count": null,
   "metadata": {
    "collapsed": true
   },
   "outputs": [],
   "source": [
    "%%test_input \n",
    "# F"
   ]
  },
  {
   "cell_type": "code",
   "execution_count": null,
   "metadata": {
    "collapsed": true
   },
   "outputs": [],
   "source": []
  },
  {
   "cell_type": "markdown",
   "metadata": {},
   "source": [
    "#### tester\n",
    "```\n",
    "test_input Atcoder_URL\n",
    "```\n",
    "#### input\n",
    "##### AtCoderで使ってる入力メソッド(Python3)\n",
    "###### https://qiita.com/fmhr/items/77fc453e2fb1bc02e392\n",
    "\n",
    "##### 1行に複数の数字\n",
    "```\n",
    "2 4 5 7\n",
    "a, b, c, d = map(int, input().split())\n",
    "a=2 b=4 c=5 d =7\n",
    "\n",
    "a = list(map(int, input().split()))\n",
    "# a = [2, 4, 5, 6]\n",
    "```\n",
    "##### 複数行の数字をリストに\n",
    "```\n",
    "3 # n Aの数\n",
    "22 # A1 \n",
    "14 # A2\n",
    "45 # A3\n",
    "\n",
    "n = int(input()) \n",
    "t = [int(input()) for i in range(n)] \n",
    "# t = [22, 14, 45]\n",
    "\n",
    "N = int(input())\n",
    "t = [0] * N\n",
    "x = [0] * N\n",
    "y = [0] * N\n",
    "for i in range(N):\n",
    "    t[i], x[i], y[i] = map(int, input().split())\n",
    "```\n",
    "##### 複数行に複数の数字があるとき\n",
    "```\n",
    "4\n",
    "22 1 45\n",
    "25 53 110\n",
    "4 444 555\n",
    "2 5 0\n",
    "\n",
    "n = int(input())\n",
    "e = [[int(i) for i in input().split()] for i in range(n)] \n",
    "#  [[22, 1, 45], [25, 53, 110], [4, 444, 555], [2, 5, 0]]\n",
    "```"
   ]
  },
  {
   "cell_type": "code",
   "execution_count": null,
   "metadata": {
    "collapsed": true
   },
   "outputs": [],
   "source": []
  }
 ],
 "metadata": {
  "kernelspec": {
   "display_name": "Python 3",
   "language": "python",
   "name": "python3"
  },
  "language_info": {
   "codemirror_mode": {
    "name": "ipython",
    "version": 3
   },
   "file_extension": ".py",
   "mimetype": "text/x-python",
   "name": "python",
   "nbconvert_exporter": "python",
   "pygments_lexer": "ipython3",
   "version": "3.6.3"
  }
 },
 "nbformat": 4,
 "nbformat_minor": 2
}
