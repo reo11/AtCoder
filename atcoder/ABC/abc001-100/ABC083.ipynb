{
 "cells": [
  {
   "cell_type": "code",
   "execution_count": 2,
   "metadata": {},
   "outputs": [
    {
     "name": "stdout",
     "output_type": "stream",
     "text": [
      "3 8 7 1\n",
      "Left\n"
     ]
    }
   ],
   "source": [
    "# A\n",
    "a, b, c, d = map(int, input().split())\n",
    "\n",
    "l = a + b\n",
    "r = c + d\n",
    "\n",
    "if l > r:\n",
    "    ans = 'Left'\n",
    "elif r > l:\n",
    "    ans = 'Right'\n",
    "else:\n",
    "    ans = 'Balanced'\n",
    "print(ans)"
   ]
  },
  {
   "cell_type": "code",
   "execution_count": 3,
   "metadata": {},
   "outputs": [
    {
     "name": "stdout",
     "output_type": "stream",
     "text": [
      "20 2 5\n",
      "84\n"
     ]
    }
   ],
   "source": [
    "# B\n",
    "n, a, b = map(int, input().split())\n",
    "count = 0\n",
    "\n",
    "for i in range(1, n+1):\n",
    "    s1 = list(str(i))\n",
    "    sum_val = sum(list(map(int, s1)))\n",
    "\n",
    "    if sum_val >= a and sum_val <= b:\n",
    "        count += i\n",
    "print(count)"
   ]
  },
  {
   "cell_type": "code",
   "execution_count": null,
   "metadata": {},
   "outputs": [],
   "source": [
    "# C\n",
    "X,Y=map(int,input().split())\n",
    "i=0\n",
    "while X*2**i<=Y:i+=1\n",
    "print(i)"
   ]
  },
  {
   "cell_type": "code",
   "execution_count": null,
   "metadata": {},
   "outputs": [],
   "source": []
  },
  {
   "cell_type": "code",
   "execution_count": null,
   "metadata": {},
   "outputs": [],
   "source": []
  }
 ],
 "metadata": {
  "kernelspec": {
   "display_name": "Python 3",
   "language": "python",
   "name": "python3"
  },
  "language_info": {
   "codemirror_mode": {
    "name": "ipython",
    "version": 3
   },
   "file_extension": ".py",
   "mimetype": "text/x-python",
   "name": "python",
   "nbconvert_exporter": "python",
   "pygments_lexer": "ipython3",
   "version": "3.6.6"
  }
 },
 "nbformat": 4,
 "nbformat_minor": 2
}
