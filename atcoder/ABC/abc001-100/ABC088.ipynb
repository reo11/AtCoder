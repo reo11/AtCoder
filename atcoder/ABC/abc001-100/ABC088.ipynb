{
 "cells": [
  {
   "cell_type": "code",
   "execution_count": 1,
   "metadata": {
    "collapsed": true
   },
   "outputs": [],
   "source": [
    "# A\n",
    "n = int(input())\n",
    "a = int(input())\n",
    "\n",
    "if n % 500 <= a:\n",
    "    print('Yes')\n",
    "else:\n",
    "    print('No')"
   ]
  },
  {
   "cell_type": "code",
   "execution_count": 2,
   "metadata": {
    "collapsed": true
   },
   "outputs": [],
   "source": [
    "# B\n",
    "n = int(input())\n",
    "a = list(map(int, input().split()))\n",
    "a.sort(reverse=True)\n",
    "alice = 0\n",
    "bob = 0\n",
    "\n",
    "for i in range(n):\n",
    "    if i%2 == 0:\n",
    "        alice += a[i]\n",
    "    else:\n",
    "        bob += a[i]\n",
    "print(alice - bob)"
   ]
  },
  {
   "cell_type": "code",
   "execution_count": 4,
   "metadata": {},
   "outputs": [
    {
     "name": "stdout",
     "output_type": "stream",
     "text": [
      "... test case 0 ...\n",
      "<<< 1 0 1\n",
      "<<< 2 1 2\n",
      "<<< 1 0 1\n",
      "Yes\n",
      "... test case 1 ...\n",
      "<<< 2 2 2\n",
      "<<< 2 1 2\n",
      "<<< 2 2 2\n",
      "No\n",
      "... test case 2 ...\n",
      "<<< 0 8 8\n",
      "<<< 0 8 8\n",
      "<<< 0 8 8\n",
      "Yes\n",
      "... test case 3 ...\n",
      "<<< 1 8 6\n",
      "<<< 2 9 7\n",
      "<<< 0 7 7\n",
      "No\n",
      "\n",
      "========== Report ==========\n",
      "test 0 :       True\n",
      "test 1 :       True\n",
      "test 2 :       True\n",
      "test 3 :       True\n"
     ]
    }
   ],
   "source": [
    "%%test_input https://atcoder.jp/contests/abc088/tasks/abc088_c\n",
    "# C\n",
    "c = [[int(i) for i in input().split()] for i in range(3)]\n",
    "a = [0] * 3\n",
    "b = [0] * 3\n",
    "ans = True\n",
    "for i in range(3):\n",
    "    b[i] = c[0][i]\n",
    "for i in range(1,3):\n",
    "    a[i] = c[i][0] - b[0]\n",
    "for i in range(3):\n",
    "    for j in range(3):\n",
    "        if c[i][j] != a[i] + b[j]:\n",
    "            ans = False\n",
    "if ans:\n",
    "    print('Yes')\n",
    "else:\n",
    "    print('No')"
   ]
  },
  {
   "cell_type": "code",
   "execution_count": null,
   "metadata": {
    "collapsed": true
   },
   "outputs": [],
   "source": [
    "# D\n"
   ]
  }
 ],
 "metadata": {
  "kernelspec": {
   "display_name": "Python 3",
   "language": "python",
   "name": "python3"
  },
  "language_info": {
   "codemirror_mode": {
    "name": "ipython",
    "version": 3
   },
   "file_extension": ".py",
   "mimetype": "text/x-python",
   "name": "python",
   "nbconvert_exporter": "python",
   "pygments_lexer": "ipython3",
   "version": "3.6.3"
  }
 },
 "nbformat": 4,
 "nbformat_minor": 2
}
