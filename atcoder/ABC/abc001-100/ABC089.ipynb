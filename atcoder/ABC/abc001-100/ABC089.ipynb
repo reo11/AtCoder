{
 "cells": [
  {
   "cell_type": "code",
   "execution_count": 1,
   "metadata": {
    "collapsed": true
   },
   "outputs": [],
   "source": [
    "# A\n",
    "n = int(input())\n",
    "print(n//3)"
   ]
  },
  {
   "cell_type": "code",
   "execution_count": 2,
   "metadata": {},
   "outputs": [
    {
     "name": "stdout",
     "output_type": "stream",
     "text": [
      "... test case 0 ...\n",
      "<<< 6\n",
      "<<< G W Y P Y W\n",
      "Four\n",
      "... test case 1 ...\n",
      "<<< 9\n",
      "<<< G W W G P W P G G\n",
      "Three\n",
      "... test case 2 ...\n",
      "<<< 8\n",
      "<<< P Y W G Y W Y Y\n",
      "Four\n",
      "\n",
      "========== Report ==========\n",
      "test 0 :       True\n",
      "test 1 :       True\n",
      "test 2 :       True\n"
     ]
    }
   ],
   "source": [
    "%%test_input https://atcoder.jp/contests/abc089/tasks/abc089_b\n",
    "# B\n",
    "n = int(input())\n",
    "s = [str(s) for s in input().split()]\n",
    "l = ['P', 'W', 'G', 'Y']\n",
    "ans = 0\n",
    "for c in l:\n",
    "    if s.count(c) > 0:\n",
    "        ans += 1\n",
    "if ans == 4:\n",
    "    print('Four')\n",
    "else:\n",
    "    print('Three')"
   ]
  },
  {
   "cell_type": "code",
   "execution_count": 6,
   "metadata": {},
   "outputs": [
    {
     "name": "stdout",
     "output_type": "stream",
     "text": [
      "... test case 0 ...\n",
      "<<< 5\n",
      "<<< MASHIKE\n",
      "<<< RUMOI\n",
      "<<< OBIRA\n",
      "<<< HABORO\n",
      "<<< HOROKANAI\n",
      "2\n",
      "... test case 1 ...\n",
      "<<< 4\n",
      "<<< ZZ\n",
      "<<< ZZZ\n",
      "<<< Z\n",
      "<<< ZZZZZZZZZZ\n",
      "0\n",
      "... test case 2 ...\n",
      "<<< 5\n",
      "<<< CHOKUDAI\n",
      "<<< RNG\n",
      "<<< MAKOTO\n",
      "<<< AOKI\n",
      "<<< RINGO\n",
      "7\n",
      "\n",
      "========== Report ==========\n",
      "test 0 :       True\n",
      "test 1 :       True\n",
      "test 2 :       True\n"
     ]
    }
   ],
   "source": [
    "%%test_input https://atcoder.jp/contests/abc089/tasks/abc089_c\n",
    "# C\n",
    "import itertools\n",
    "\n",
    "n = int(input())\n",
    "# M:0 A:1 R:2 C:3 H:4\n",
    "march = ['M', 'A', 'R', 'C', 'H']\n",
    "l = [0] * 5\n",
    "ans = 0\n",
    "for i in range(n):\n",
    "    s = str(input())\n",
    "    for index, c in enumerate(march):\n",
    "        if s[0] == c:\n",
    "            l[index] += 1\n",
    "for (a,b,c) in itertools.combinations(range(5), 3):\n",
    "    ans += l[a] * l[b] * l[c]\n",
    "\n",
    "print(ans)"
   ]
  },
  {
   "cell_type": "code",
   "execution_count": 25,
   "metadata": {},
   "outputs": [
    {
     "name": "stdout",
     "output_type": "stream",
     "text": [
      "... test case 0 ...\n",
      "<<< 3 3 2\n",
      "<<< 1 4 3\n",
      "<<< 2 5 7\n",
      "<<< 8 9 6\n",
      "<<< 1\n",
      "<<< 4 8\n",
      "5\n",
      "... test case 1 ...\n",
      "<<< 4 2 3\n",
      "<<< 3 7\n",
      "<<< 1 4\n",
      "<<< 5 2\n",
      "<<< 6 8\n",
      "<<< 2\n",
      "<<< 2 2\n",
      "0\n",
      "<<< 2 2\n",
      "0\n",
      "... test case 2 ...\n",
      "<<< 5 5 4\n",
      "<<< 13 25 7 15 17\n",
      "<<< 16 22 20 2 9\n",
      "<<< 14 11 12 1 19\n",
      "<<< 10 6 23 8 18\n",
      "<<< 3 21 5 24 4\n",
      "<<< 3\n",
      "<<< 13 13\n",
      "0\n",
      "<<< 2 10\n",
      "5\n",
      "<<< 13 13\n",
      "0\n",
      "\n",
      "========== Report ==========\n",
      "test 0 :       True\n",
      "test 1 :       True\n",
      "test 2 :       True\n"
     ]
    }
   ],
   "source": [
    "%%test_input https://atcoder.jp/contests/abc089/tasks/abc089_d\n",
    "# D\n",
    "h, w, d = map(int, input().split())\n",
    "points = [[0]*2 for i in range(h*w)]\n",
    "cost = [0]* (h*w)\n",
    "for h_i in range(h):\n",
    "    a_row = [int(i) for i in input().split()]\n",
    "    for r_i, a in enumerate(a_row):\n",
    "        points[a-1][0] = h_i\n",
    "        points[a-1][1] = r_i\n",
    "for i in range(d, (h*w)):\n",
    "    cost[i] = cost[i-d] + abs(points[i][0]-points[i-d][0]) + abs(points[i][1]-points[i-d][1])\n",
    "q = int(input())\n",
    "for i in range(q):\n",
    "    l, r = map(int, input().split())\n",
    "    print(cost[r-1] - cost[l-1])"
   ]
  },
  {
   "cell_type": "code",
   "execution_count": null,
   "metadata": {
    "collapsed": true
   },
   "outputs": [],
   "source": []
  }
 ],
 "metadata": {
  "kernelspec": {
   "display_name": "Python 3",
   "language": "python",
   "name": "python3"
  },
  "language_info": {
   "codemirror_mode": {
    "name": "ipython",
    "version": 3
   },
   "file_extension": ".py",
   "mimetype": "text/x-python",
   "name": "python",
   "nbconvert_exporter": "python",
   "pygments_lexer": "ipython3",
   "version": "3.6.3"
  }
 },
 "nbformat": 4,
 "nbformat_minor": 2
}
