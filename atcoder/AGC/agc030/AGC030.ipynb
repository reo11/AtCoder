{
 "cells": [
  {
   "cell_type": "markdown",
   "metadata": {
    "collapsed": true
   },
   "source": [
    "### AtCoder Grand Contest 030\n",
    "#### https://atcoder.jp/contests/agc030"
   ]
  },
  {
   "cell_type": "code",
   "execution_count": 5,
   "metadata": {},
   "outputs": [
    {
     "name": "stdout",
     "output_type": "stream",
     "text": [
      "... test case 0 ...\n",
      "<<< 3 1 4\n",
      "5\n",
      "... test case 1 ...\n",
      "<<< 5 2 9\n",
      "10\n",
      "... test case 2 ...\n",
      "<<< 8 8 1\n",
      "9\n",
      "\n",
      "========== Report ==========\n",
      "test 0 :       True\n",
      "test 1 :       True\n",
      "test 2 :       True\n"
     ]
    }
   ],
   "source": [
    "%%test_input https://atcoder.jp/contests/agc030/tasks/agc030_a\n",
    "# A\n",
    "a, b, c = map(int, input().split())\n",
    "\n",
    "ans = 0\n",
    "if a+b >= c:\n",
    "    ans = b+c\n",
    "else:\n",
    "    ans = b + (a+b+1)\n",
    "\n",
    "print(ans)"
   ]
  },
  {
   "cell_type": "code",
   "execution_count": 17,
   "metadata": {},
   "outputs": [
    {
     "name": "stdout",
     "output_type": "stream",
     "text": [
      "... test case 0 ...\n",
      "<<< 10 3\n",
      "<<< 2\n",
      "<<< 7\n",
      "<<< 9\n",
      "[0, 2, 7, 9]\n",
      "[2, 7, 9]\n",
      "!!! WA case0\n",
      "!!! Answer : \n",
      "15\n",
      "\n",
      "\n",
      "... test case 1 ...\n",
      "<<< 10 6\n",
      "<<< 1\n",
      "<<< 2\n",
      "<<< 3\n",
      "<<< 6\n",
      "<<< 7\n",
      "<<< 9\n",
      "[0, 1, 2, 3, 6, 7, 9]\n",
      "[1, 2, 3, 6, 7, 9]\n",
      "!!! WA case1\n",
      "!!! Answer : \n",
      "27\n",
      "\n",
      "\n",
      "... test case 2 ...\n",
      "<<< 314159265 7\n",
      "<<< 21662711\n",
      "<<< 77271666\n",
      "<<< 89022761\n",
      "<<< 156626166\n",
      "<<< 160332356\n",
      "<<< 166902656\n",
      "<<< 298992265\n",
      "[0, 21662711, 77271666, 89022761, 156626166, 160332356, 166902656, 298992265]\n",
      "[21662711, 77271666, 89022761, 156626166, 160332356, 166902656, 298992265]\n",
      "!!! WA case2\n",
      "!!! Answer : \n",
      "1204124749\n",
      "\n",
      "\n",
      "\n",
      "========== Report ==========\n",
      "test 0 :      False\n",
      "test 1 :      False\n",
      "test 2 :      False\n"
     ]
    }
   ],
   "source": [
    "%%test_input https://atcoder.jp/contests/agc030/tasks/agc030_b\n",
    "# B\n",
    "import numpy as np\n",
    "l, n = map(int, input().split())\n",
    "x = [int(input()) for i in range(n)]\n",
    "\n",
    "cur = 0\n",
    "route = []\n",
    "for i in range(n):\n",
    "    if cur+x[0] >= cur+x[-1]:\n",
    "        route.append(x.pop(0))\n",
    "    else:\n",
    "        route.append(x.pop(-1))\n",
    "print([0] + route[::-1])\n",
    "#route = sum(abs(np.array([0] + route[::-1])[:-2] - np.array(route[::-1])[:]))\n",
    "print(route[::-1])"
   ]
  },
  {
   "cell_type": "code",
   "execution_count": null,
   "metadata": {
    "collapsed": true
   },
   "outputs": [],
   "source": [
    "%%test_input \n",
    "# C"
   ]
  },
  {
   "cell_type": "code",
   "execution_count": null,
   "metadata": {
    "collapsed": true
   },
   "outputs": [],
   "source": [
    "%%test_input \n",
    "# D"
   ]
  },
  {
   "cell_type": "code",
   "execution_count": null,
   "metadata": {
    "collapsed": true
   },
   "outputs": [],
   "source": [
    "%%test_input \n",
    "# E"
   ]
  },
  {
   "cell_type": "code",
   "execution_count": null,
   "metadata": {
    "collapsed": true
   },
   "outputs": [],
   "source": [
    "%%test_input \n",
    "# F"
   ]
  },
  {
   "cell_type": "markdown",
   "metadata": {},
   "source": [
    "#### tester\n",
    "```\n",
    "test_input Atcoder_URL\n",
    "```\n",
    "#### input\n",
    "##### AtCoderで使ってる入力メソッド(Python3)\n",
    "###### https://qiita.com/fmhr/items/77fc453e2fb1bc02e392\n",
    "\n",
    "##### 1行に複数の数字\n",
    "```\n",
    "A B C\n",
    "```\n",
    "```\n",
    "a, b, c = map(int, input().split())\n",
    "\n",
    "a = list(map(int, input().split()))\n",
    "```\n",
    "##### 複数行の数字をリストに\n",
    "```\n",
    "3 # n Aの数\n",
    "22 # A1 \n",
    "14 # A2\n",
    "45 # A3\n",
    "\n",
    "n = int(input()) \n",
    "t = [int(input()) for i in range(n)] \n",
    "# t = [22, 14, 45]\n",
    "\n",
    "N = int(input())\n",
    "t = [0] * N\n",
    "x = [0] * N\n",
    "y = [0] * N\n",
    "for i in range(N):\n",
    "    t[i], x[i], y[i] = map(int, input().split())\n",
    "```\n",
    "##### 複数行に複数の数字があるとき\n",
    "```\n",
    "4\n",
    "22 1 45\n",
    "25 53 110\n",
    "4 444 555\n",
    "2 5 0\n",
    "\n",
    "n = int(input())\n",
    "e = [[int(i) for i in input().split()] for i in range(n)] \n",
    "#  [[22, 1, 45], [25, 53, 110], [4, 444, 555], [2, 5, 0]]\n",
    "```"
   ]
  },
  {
   "cell_type": "code",
   "execution_count": null,
   "metadata": {
    "collapsed": true
   },
   "outputs": [],
   "source": []
  }
 ],
 "metadata": {
  "kernelspec": {
   "display_name": "Python 3",
   "language": "python",
   "name": "python3"
  },
  "language_info": {
   "codemirror_mode": {
    "name": "ipython",
    "version": 3
   },
   "file_extension": ".py",
   "mimetype": "text/x-python",
   "name": "python",
   "nbconvert_exporter": "python",
   "pygments_lexer": "ipython3",
   "version": "3.6.3"
  }
 },
 "nbformat": 4,
 "nbformat_minor": 2
}
