{
 "cells": [
  {
   "cell_type": "code",
   "execution_count": 5,
   "metadata": {},
   "outputs": [
    {
     "name": "stdin",
     "output_type": "stream",
     "text": [
      " 8\n"
     ]
    },
    {
     "name": "stdout",
     "output_type": "stream",
     "text": [
      "[0, 7, 1, 3]\n",
      "18\n"
     ]
    }
   ],
   "source": [
    "# D\n",
    "import math\n",
    "n = int(input())\n",
    "\n",
    "divisor_list = []\n",
    "for i in range(2, int(math.sqrt(n))+1):\n",
    "    if n % i == 0:\n",
    "        divisor_list.append(i-1)\n",
    "        divisor_list.append((n//i)-1)\n",
    "print(divisor_list)\n",
    "divisor_list.append(n-1)\n",
    "\n"
   ]
  },
  {
   "cell_type": "code",
   "execution_count": null,
   "metadata": {},
   "outputs": [],
   "source": []
  }
 ],
 "metadata": {
  "kernelspec": {
   "display_name": "Python 3",
   "language": "python",
   "name": "python3"
  },
  "language_info": {
   "codemirror_mode": {
    "name": "ipython",
    "version": 3
   },
   "file_extension": ".py",
   "mimetype": "text/x-python",
   "name": "python",
   "nbconvert_exporter": "python",
   "pygments_lexer": "ipython3",
   "version": "3.6.6"
  }
 },
 "nbformat": 4,
 "nbformat_minor": 2
}
