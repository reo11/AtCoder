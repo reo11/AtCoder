{
 "cells": [
  {
   "cell_type": "markdown",
   "metadata": {
    "collapsed": true
   },
   "source": [
    "#### AtCoder に登録したら次にやること ～ これだけ解けば十分闘える！過去問精選 10 問 ～\n",
    "##### https://qiita.com/drken/items/fd4e5e3630d0f5859067"
   ]
  },
  {
   "cell_type": "code",
   "execution_count": 1,
   "metadata": {},
   "outputs": [
    {
     "name": "stdout",
     "output_type": "stream",
     "text": [
      "... test case 0 ...\n",
      "<<< 3 4\n",
      "Even\n",
      "... test case 1 ...\n",
      "<<< 1 21\n",
      "Odd\n",
      "\n",
      "========== Report ==========\n",
      "test 0 :       True\n",
      "test 1 :       True\n"
     ]
    }
   ],
   "source": [
    "%%test_input https://atcoder.jp/contests/abc086/tasks/abc086_a\n",
    "# 第 1 問: ABC 086 A - Product (100 点)\n",
    "\n",
    "a, b = map(int, input().split())\n",
    "if a*b%2 == 0:\n",
    "    print('Even')\n",
    "else:\n",
    "    print('Odd')"
   ]
  },
  {
   "cell_type": "code",
   "execution_count": 10,
   "metadata": {},
   "outputs": [
    {
     "name": "stdout",
     "output_type": "stream",
     "text": [
      "... test case 0 ...\n",
      "<<< 101\n",
      "2\n",
      "... test case 1 ...\n",
      "<<< 000\n",
      "0\n",
      "\n",
      "========== Report ==========\n",
      "test 0 :       True\n",
      "test 1 :       True\n"
     ]
    }
   ],
   "source": [
    "%%test_input https://atcoder.jp/contests/abc081/tasks/abc081_a\n",
    "# 第 2 問: ABC 081 A - Placing Marbles (100 点)\n",
    "\n",
    "s = input()\n",
    "\n",
    "count = 0\n",
    "for i in range(len(s)):\n",
    "    if s[i] == '1':\n",
    "        count += 1\n",
    "print(count)"
   ]
  },
  {
   "cell_type": "code",
   "execution_count": 5,
   "metadata": {},
   "outputs": [
    {
     "name": "stdout",
     "output_type": "stream",
     "text": [
      "... test case 0 ...\n",
      "<<< 3\n",
      "<<< 8 12 40\n",
      "2\n",
      "... test case 1 ...\n",
      "<<< 4\n",
      "<<< 5 6 8 10\n",
      "0\n",
      "... test case 2 ...\n",
      "<<< 6\n",
      "<<< 382253568 723152896 37802240 379425024 404894720 471526144\n",
      "8\n",
      "\n",
      "========== Report ==========\n",
      "test 0 :       True\n",
      "test 1 :       True\n",
      "test 2 :       True\n"
     ]
    }
   ],
   "source": [
    "%%test_input https://atcoder.jp/contests/abc081/tasks/abc081_b\n",
    "# 第 3 問: ABC 081 B - Shift Only (200 点)\n",
    "n = int(input())\n",
    "a = list(map(int, input().split()))\n",
    "\n",
    "def calc_half(n):\n",
    "    return int(n / 2)\n",
    "\n",
    "all_even = True\n",
    "count = 0\n",
    "while all_even:\n",
    "    for value in a:\n",
    "        if value % 2 == 1:\n",
    "            all_even = False\n",
    "            break\n",
    "    if all_even:\n",
    "        a = list(map(calc_half, a))\n",
    "        count +=1\n",
    "print(count)"
   ]
  },
  {
   "cell_type": "code",
   "execution_count": 11,
   "metadata": {},
   "outputs": [
    {
     "name": "stdout",
     "output_type": "stream",
     "text": [
      "... test case 0 ...\n",
      "<<< 2\n",
      "<<< 2\n",
      "<<< 2\n",
      "<<< 100\n",
      "2\n",
      "... test case 1 ...\n",
      "<<< 5\n",
      "<<< 1\n",
      "<<< 0\n",
      "<<< 150\n",
      "0\n",
      "... test case 2 ...\n",
      "<<< 30\n",
      "<<< 40\n",
      "<<< 50\n",
      "<<< 6000\n",
      "213\n",
      "\n",
      "========== Report ==========\n",
      "test 0 :       True\n",
      "test 1 :       True\n",
      "test 2 :       True\n"
     ]
    }
   ],
   "source": [
    "%%test_input https://atcoder.jp/contests/abc087/tasks/abc087_b\n",
    "# 第 4 問: ABC 087 B - Coins (200 点)\n",
    "a = int(input()) \n",
    "b = int(input()) \n",
    "c = int(input()) \n",
    "x = int(input())\n",
    "count = 0\n",
    "\n",
    "for v_a in range(a+1):\n",
    "    for v_b in range(b+1):\n",
    "        for v_c in range(c+1):\n",
    "            if v_a*500 + v_b*100 + v_c*50 == x:\n",
    "                count += 1\n",
    "print(count)"
   ]
  },
  {
   "cell_type": "code",
   "execution_count": 18,
   "metadata": {},
   "outputs": [
    {
     "name": "stdout",
     "output_type": "stream",
     "text": [
      "... test case 0 ...\n",
      "<<< 20 2 5\n",
      "84\n",
      "... test case 1 ...\n",
      "<<< 10 1 2\n",
      "13\n",
      "... test case 2 ...\n",
      "<<< 100 4 16\n",
      "4554\n",
      "\n",
      "========== Report ==========\n",
      "test 0 :       True\n",
      "test 1 :       True\n",
      "test 2 :       True\n"
     ]
    }
   ],
   "source": [
    "%%test_input https://atcoder.jp/contests/abc083/tasks/abc083_b\n",
    "# 第 5 問: ABC 083 B - Some Sums (200 点)\n",
    "\n",
    "n, a, b = map(int, input().split())\n",
    "count = 0\n",
    "\n",
    "for i in range(1, n+1):\n",
    "    s1 = list(str(i))\n",
    "    sum_val = sum(list(map(int, s1)))\n",
    "\n",
    "    if sum_val >= a and sum_val <= b:\n",
    "        count += i\n",
    "print(count)"
   ]
  },
  {
   "cell_type": "code",
   "execution_count": 22,
   "metadata": {},
   "outputs": [
    {
     "name": "stdout",
     "output_type": "stream",
     "text": [
      "... test case 0 ...\n",
      "<<< 2\n",
      "<<< 3 1\n",
      "2\n",
      "... test case 1 ...\n",
      "<<< 3\n",
      "<<< 2 7 4\n",
      "5\n",
      "... test case 2 ...\n",
      "<<< 4\n",
      "<<< 20 18 2 18\n",
      "18\n",
      "\n",
      "========== Report ==========\n",
      "test 0 :       True\n",
      "test 1 :       True\n",
      "test 2 :       True\n"
     ]
    }
   ],
   "source": [
    "%%test_input https://atcoder.jp/contests/abc088/tasks/abc088_b\n",
    "# 第 6 問: ABC 088 B - Card Game for Two (200 点)\n",
    "\n",
    "n = int(input())\n",
    "a = list(map(int, input().split()))\n",
    "a.sort(reverse=True)\n",
    "alice = 0\n",
    "bob = 0\n",
    "\n",
    "for i in range(n):\n",
    "    if i%2 == 0:\n",
    "        alice += a[i]\n",
    "    else:\n",
    "        bob += a[i]\n",
    "print(alice - bob)"
   ]
  },
  {
   "cell_type": "code",
   "execution_count": 23,
   "metadata": {},
   "outputs": [
    {
     "name": "stdout",
     "output_type": "stream",
     "text": [
      "... test case 0 ...\n",
      "<<< 4\n",
      "<<< 10\n",
      "<<< 8\n",
      "<<< 8\n",
      "<<< 6\n",
      "3\n",
      "... test case 1 ...\n",
      "<<< 3\n",
      "<<< 15\n",
      "<<< 15\n",
      "<<< 15\n",
      "1\n",
      "... test case 2 ...\n",
      "<<< 7\n",
      "<<< 50\n",
      "<<< 30\n",
      "<<< 50\n",
      "<<< 100\n",
      "<<< 50\n",
      "<<< 80\n",
      "<<< 30\n",
      "4\n",
      "\n",
      "========== Report ==========\n",
      "test 0 :       True\n",
      "test 1 :       True\n",
      "test 2 :       True\n"
     ]
    }
   ],
   "source": [
    "%%test_input https://atcoder.jp/contests/abc085/tasks/abc085_b\n",
    "# 第 7 問: ABC 085 B - Kagami Mochi (200 点)\n",
    "\n",
    "n = int(input()) \n",
    "t = [int(input()) for i in range(n)] \n",
    "\n",
    "l_unique = list(set(t))\n",
    "print(len(l_unique))"
   ]
  },
  {
   "cell_type": "code",
   "execution_count": 36,
   "metadata": {},
   "outputs": [
    {
     "name": "stdout",
     "output_type": "stream",
     "text": [
      "... test case 0 ...\n",
      "<<< 9 45000\n",
      "0 9 0\n",
      "!!! WA case0\n",
      "!!! Answer : \n",
      "4 0 5\n",
      "\n",
      "\n",
      "... test case 1 ...\n",
      "<<< 20 196000\n",
      "-1 -1 -1\n",
      "... test case 2 ...\n",
      "<<< 1000 1234000\n",
      "2 54 944\n",
      "!!! WA case2\n",
      "!!! Answer : \n",
      "14 27 959\n",
      "\n",
      "\n",
      "... test case 3 ...\n",
      "<<< 2000 20000000\n",
      "2000 0 0\n",
      "\n",
      "========== Report ==========\n",
      "test 0 :      False\n",
      "test 1 :       True\n",
      "test 2 :      False\n",
      "test 3 :       True\n"
     ]
    }
   ],
   "source": [
    "%%test_input https://atcoder.jp/contests/abc085/tasks/abc085_c\n",
    "# 第 8 問: ABC 085 C - Otoshidama (300 点)\n",
    "\n",
    "n, y = map(int, input().split())\n",
    "\n",
    "none = True\n",
    "\n",
    "for i in range(n+1):\n",
    "    for j in range(n+1):\n",
    "        k = n-i-j\n",
    "        if (i*10000 + j*5000 + k*1000) == y and k >= 0:\n",
    "            none = False\n",
    "            break\n",
    "    if none == False:\n",
    "        break\n",
    "if none:\n",
    "    print('-1 -1 -1')\n",
    "else:\n",
    "    print(\"{} {} {}\".format(i, j, k))"
   ]
  },
  {
   "cell_type": "code",
   "execution_count": 47,
   "metadata": {},
   "outputs": [
    {
     "name": "stdout",
     "output_type": "stream",
     "text": [
      "... test case 0 ...\n",
      "<<< erasedream\n",
      "YES\n",
      "... test case 1 ...\n",
      "<<< dreameraser\n",
      "YES\n",
      "... test case 2 ...\n",
      "<<< dreamerer\n",
      "NO\n",
      "\n",
      "========== Report ==========\n",
      "test 0 :       True\n",
      "test 1 :       True\n",
      "test 2 :       True\n"
     ]
    }
   ],
   "source": [
    "%%test_input https://atcoder.jp/contests/abc049/tasks/arc065_a\n",
    "# 第 9 問: ABC 049 C - Daydream (300 点)\n",
    "str_list = ['dream', 'dreamer','erase','eraser']\n",
    "def reverse_str(str_):\n",
    "    return str_[::-1]\n",
    "\n",
    "s = str(input())\n",
    "s = s[::-1]\n",
    "find_list = list(map(reverse_str, str_list))\n",
    "index = 0\n",
    "\n",
    "while index < len(s):\n",
    "    loop_flag = False\n",
    "    for i in range(len(find_list)):\n",
    "        str_value = find_list[i]\n",
    "        if str(s[index:index+len(str_value)]) == str_value:\n",
    "\n",
    "            loop_flag = True\n",
    "            index += len(str_value)\n",
    "    if not loop_flag:\n",
    "        break\n",
    "if index >= len(s):\n",
    "    print('YES')\n",
    "else:\n",
    "    print('NO')\n",
    "            "
   ]
  },
  {
   "cell_type": "code",
   "execution_count": 70,
   "metadata": {},
   "outputs": [
    {
     "name": "stdout",
     "output_type": "stream",
     "text": [
      "... test case 0 ...\n",
      "<<< 2\n",
      "<<< 3 1 2\n",
      "<<< 6 1 1\n",
      "Yes\n",
      "... test case 1 ...\n",
      "<<< 1\n",
      "<<< 2 100 100\n",
      "No\n",
      "... test case 2 ...\n",
      "<<< 2\n",
      "<<< 5 1 1\n",
      "<<< 100 1 1\n",
      "No\n",
      "\n",
      "========== Report ==========\n",
      "test 0 :       True\n",
      "test 1 :       True\n",
      "test 2 :       True\n"
     ]
    }
   ],
   "source": [
    "%%test_input https://atcoder.jp/contests/abc086/tasks/arc089_a\n",
    "# 第 10 問: ABC 086 C - Traveling (300 点)\n",
    "import numpy as np\n",
    "\n",
    "n = int(input())\n",
    "input_X = [[int(i) for i in input().split()] for i in range(n)]\n",
    "X = np.array(input_X)\n",
    "\n",
    "pre_t = 0\n",
    "pre_x = 0\n",
    "pre_y = 0\n",
    "for i in range(n):\n",
    "    x_move = abs(X[i][1] - pre_x)\n",
    "    y_move = abs(X[i][2] - pre_y)\n",
    "    xy_sum = x_move + y_move\n",
    "    spend_time = X[i][0]-pre_t\n",
    "    if xy_sum%2 == spend_time%2 and spend_time >= xy_sum:\n",
    "        pre_t = X[i][0]\n",
    "        pre_x = X[i][1]\n",
    "        pre_y = X[i][2]\n",
    "        if i+1 == n:\n",
    "            print('Yes')\n",
    "        else:\n",
    "            continue\n",
    "    else:\n",
    "        print('No')\n",
    "        break"
   ]
  },
  {
   "cell_type": "markdown",
   "metadata": {
    "collapsed": true
   },
   "source": [
    "#### tester\n",
    "```\n",
    "test_input Atcoder_URL\n",
    "```\n",
    "#### input\n",
    "##### AtCoderで使ってる入力メソッド(Python3)\n",
    "###### https://qiita.com/fmhr/items/77fc453e2fb1bc02e392\n",
    "\n",
    "##### 1行に複数の数字\n",
    "```\n",
    "2 4 5 7\n",
    "a, b, c, d = map(int, input().split())\n",
    "a=2 b=4 c=5 d =7\n",
    "\n",
    "a = list(map(int, input().split()))\n",
    "# a = [2, 4, 5, 6]\n",
    "```\n",
    "##### 複数行の数字をリストに\n",
    "```\n",
    "3 # n Aの数\n",
    "22 # A1 \n",
    "14 # A2\n",
    "45 # A3\n",
    "\n",
    "n = int(input()) \n",
    "t = [int(input()) for i in range(n)] \n",
    "# t = [22, 14, 45]\n",
    "```\n",
    "##### 複数行に複数の数字があるとき\n",
    "```\n",
    "4\n",
    "22 1 45\n",
    "25 53 110\n",
    "4 444 555\n",
    "2 5 0\n",
    "\n",
    "n = int(input())\n",
    "e = [[int(i) for i in input().split()] for i in range(n)] \n",
    "#  [[22, 1, 45], [25, 53, 110], [4, 444, 555], [2, 5, 0]]\n",
    "```"
   ]
  },
  {
   "cell_type": "code",
   "execution_count": null,
   "metadata": {
    "collapsed": true
   },
   "outputs": [],
   "source": []
  }
 ],
 "metadata": {
  "kernelspec": {
   "display_name": "Python 3",
   "language": "python",
   "name": "python3"
  },
  "language_info": {
   "codemirror_mode": {
    "name": "ipython",
    "version": 3
   },
   "file_extension": ".py",
   "mimetype": "text/x-python",
   "name": "python",
   "nbconvert_exporter": "python",
   "pygments_lexer": "ipython3",
   "version": "3.6.3"
  }
 },
 "nbformat": 4,
 "nbformat_minor": 2
}
